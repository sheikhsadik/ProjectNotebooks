{
 "cells": [
  {
   "cell_type": "code",
   "execution_count": 4,
   "metadata": {
    "ExecuteTime": {
     "end_time": "2021-03-12T02:39:27.603924Z",
     "start_time": "2021-03-12T02:39:27.532135Z"
    }
   },
   "outputs": [
    {
     "name": "stdout",
     "output_type": "stream",
     "text": [
      "Populating the interactive namespace from numpy and matplotlib\n"
     ]
    }
   ],
   "source": [
    "%reset -f\n",
    "%pylab inline\n",
    "pylab.rcParams['figure.figsize'] = (12,10) # setting default figure size\n",
    "pylab.style.use('ggplot') # setting style"
   ]
  },
  {
   "cell_type": "markdown",
   "metadata": {
    "run_control": {
     "marked": true
    }
   },
   "source": [
    "# Replication for \"Time-varying inflation risk and stock returns\"\n",
    "**Martijn Boons, Fernando Duarte, Frans de Roon, Marta Szymanowska**\n",
    "\n",
    "Paper link:\n",
    "https://www.sciencedirect.com/science/article/abs/pii/S0304405X19302429"
   ]
  },
  {
   "cell_type": "code",
   "execution_count": 253,
   "metadata": {
    "ExecuteTime": {
     "end_time": "2021-03-12T19:55:02.942620Z",
     "start_time": "2021-03-12T19:53:04.380448Z"
    },
    "run_control": {
     "marked": true
    }
   },
   "outputs": [
    {
     "name": "stdout",
     "output_type": "stream",
     "text": [
      "Enter your WRDS username [sheha]:fannywu\n",
      "Enter your password:········\n",
      "WRDS recommends setting up a .pgpass file.\n",
      "You can find more info here:\n",
      "https://www.postgresql.org/docs/9.5/static/libpq-pgpass.html.\n",
      "Loading library list...\n",
      "Done\n"
     ]
    }
   ],
   "source": [
    "import numpy as np\n",
    "import pandas as pd\n",
    "import matplotlib.pyplot as plt\n",
    "from pandas_datareader import data, famafrench\n",
    "from pandas.tseries.offsets import *\n",
    "from datetime import datetime as dt\n",
    "import statsmodels.formula.api as smf\n",
    "import statsmodels.api as sm\n",
    "from statsmodels.iolib.summary2 import summary_col\n",
    "from statsmodels.tsa.arima.model import ARIMA\n",
    "import wrds\n",
    "\n",
    "db = wrds.Connection(wrds_username='fannywu')"
   ]
  },
  {
   "cell_type": "markdown",
   "metadata": {},
   "source": [
    "**Import necessary data**\n",
    "- CPI Index\n",
    "- Fama French Factors\n",
    "- 10 year yield\n",
    "- Consumption data\n",
    "- Few extra variables"
   ]
  },
  {
   "cell_type": "code",
   "execution_count": 299,
   "metadata": {
    "ExecuteTime": {
     "end_time": "2021-03-13T00:57:08.076765Z",
     "start_time": "2021-03-13T00:57:07.622206Z"
    },
    "run_control": {
     "marked": true
    }
   },
   "outputs": [],
   "source": [
    "wdir = 'C:\\\\Users\\\\sheha\\\\Dropbox\\\\categorize_stable\\\\work\\\\'\n",
    "file_list = ['factors_HKZ_BIG_only.csv', 'factors_HKZ_CONS_UNSTABLE.csv',\n",
    "             'factors_HKZ_CONSandSMALL_UNSTABLE.csv', 'factors_HKZ_SMALL_UNSTABLE.csv']\n",
    "\n",
    "stab_data = pd.read_csv(wdir+file_list[0], index_col='date')\n",
    "stab_data.index = pd.to_datetime(stab_data.index)\n",
    "\n",
    "\n",
    "cpi_df = data.DataReader('CPIAUCSL', 'fred', '1920-01-01').shift(1).pct_change(1).dropna()\n",
    "cpi_df.index = cpi_df.index + MonthEnd(-1)\n",
    "cpi_df['date'] = cpi_df.index\n",
    "\n",
    "ff_factors = data.DataReader('F-F_Research_Data_5_Factors_2x3', 'famafrench', '1920-01-01')[0]/100\n",
    "mom_factor = data.DataReader('F-F_Momentum_Factor', 'famafrench', '1920-01-01')[0]/100\n",
    "mom_factor.columns = ['MOM']\n",
    "\n",
    "ff_factors.index =  pd.to_datetime(ff_factors.index.astype(str)) + MonthEnd(0)\n",
    "mom_factor.index =  pd.to_datetime(mom_factor.index.astype(str)) + MonthEnd(0)\n",
    "\n",
    "extra_df = pd.read_excel('extra_data.xlsx', index_col=0)\n",
    "extra_df.index = pd.to_datetime(extra_df.index)\n",
    "\n",
    "pce_df = pd.read_excel('consumption index.xlsx', index_col=0)['PCE_per_capita'].pct_change(1).dropna()\n",
    "us10y = data.DataReader('DGS10', 'fred', '1920-01-01').resample('M').last()\n",
    "us10y.index = us10y.index + MonthEnd(-1)\n",
    "exp_cpi_yoy = cpi_df['CPIAUCSL'].apply(lambda x: (1+x)).cumprod().pct_change(12).rolling(12).mean()\n",
    "\n",
    "pce_df.index = pce_df.index + MonthEnd(0)\n",
    "realr_df = (us10y/100).sub(exp_cpi_yoy, axis=0).dropna()\n",
    "nrc_df = pd.concat([cpi_df['CPIAUCSL'], pce_df, realr_df], axis=1).dropna()\n",
    "nrc_df['PCE_per_capita_ann'] = nrc_df['PCE_per_capita'].apply(lambda x: (1+x)).cumprod().pct_change(12).shift(-12)"
   ]
  },
  {
   "cell_type": "markdown",
   "metadata": {},
   "source": [
    "**Querying single name returns from CRSP**"
   ]
  },
  {
   "cell_type": "code",
   "execution_count": 646,
   "metadata": {
    "ExecuteTime": {
     "end_time": "2021-03-13T21:54:56.951673Z",
     "start_time": "2021-03-13T21:54:53.928494Z"
    }
   },
   "outputs": [],
   "source": [
    "# crsp security price data\n",
    "crsp_query =  \"\"\"\n",
    "              select a.permno, a.permco, a.date, b.shrcd, b.exchcd,\n",
    "              a.ret, a.retx, a.shrout, a.prc, a.cfacshr\n",
    "              from crsp.msf as a\n",
    "              left join crsp.msenames as b\n",
    "              on a.permno=b.permno\n",
    "              and b.namedt<=a.date\n",
    "              and a.date<=b.nameendt\n",
    "              where a.date between '01/01/1920' and '12/31/2020'\n",
    "              and b.exchcd between 1 and 3\n",
    "              \"\"\"\n",
    "\n",
    "# crsp_df = db.raw_sql(crsp_query)\n",
    "# crsp_df.to_pickle('crsp_df.pkl')\n",
    "crsp_df = pd.read_pickle('S:\\Github\\MyProjects\\Quant Equity\\crsp_df.pkl')\n",
    "\n",
    "start = '1962/01'\n",
    "crsp_df['date'] = pd.to_datetime(crsp_df['date']) + MonthEnd(0)\n",
    "crsp_df = crsp_df[crsp_df['date'] >= start]\n",
    "crsp_df['date_port'] = crsp_df['date'].copy() \n",
    "crsp_df[['permno', 'permco', 'shrcd', 'exchcd']] = crsp_df[['permno', 'permco', 'shrcd', 'exchcd']].astype(int)\n",
    "shrcd_ix = (crsp_df['shrcd'] == 10) | (crsp_df['shrcd'] == 11)\n",
    "crsp_df = crsp_df[shrcd_ix] "
   ]
  },
  {
   "cell_type": "markdown",
   "metadata": {},
   "source": [
    "**Dealing with delisted securities in CRSP**\n",
    "\n",
    "Adjust the CRSP return by incorporating the delisted period return. Delisted return is the return of security after it is delisted.\n",
    "- It is calculated by comparing a value after delisting against the price on the security’s last trading date.\n",
    "- The value after delisting can include a price on another exchange or the total value of distributions to shareholders. \n",
    "- If there is no opportunity to trade a stock after delisting before it is declared worthless, the value after delisting is zero. \n",
    "- Delisting Returns are calculated similarly to total returns except that the value after delisting is used as the current price.\n",
    "\n",
    "**Negative Prices**\n",
    "\n",
    "Sometimes you see negative stock prices in CRSP. This means that there was no closing price available for that period. Instead, the bid/ask average was used. To distinguish the bid/ask averages from actual closing prices, CRSP puts a leading dash in front of the price when the bid/ask average was used. If neither price nor bid/ask average is available, Price or Bid/Ask Average is set to zero."
   ]
  },
  {
   "cell_type": "code",
   "execution_count": 647,
   "metadata": {
    "ExecuteTime": {
     "end_time": "2021-03-13T21:55:01.034234Z",
     "start_time": "2021-03-13T21:54:59.631839Z"
    }
   },
   "outputs": [],
   "source": [
    "delist_query = \"\"\"\n",
    "               select permno, dlstcd, dlret, dlstdt\n",
    "               from crsp.msedelist\n",
    "               \"\"\"\n",
    "\n",
    "# delist_df = db.raw_sql(delist_query)\n",
    "# delist_df.to_pickle('delist_df.pkl')\n",
    "delist_df = pd.read_pickle('S:\\Github\\MyProjects\\Quant Equity\\delist_df.pkl')\n",
    "\n",
    "# performance related delisting adjustment, set missing returns to -30% according to shumway 1997\n",
    "delist_df['dlstcd'] = delist_df['dlstcd'].astype(int)\n",
    "pdlist_ix = (delist_df['dlret'].isnull()) & \\\n",
    "            ((delist_df['dlstcd'] == 500) | ((delist_df['dlstcd'] >= 520) & \\\n",
    "                                             (delist_df['dlstcd'] <= 584)))\n",
    "delist_df.loc[pdlist_ix, 'dlret'] = -0.30\n",
    "\n",
    "delist_df['permno'] = delist_df['permno'].astype(int)\n",
    "delist_df['dlstdt'] = pd.to_datetime(delist_df['dlstdt'])\n",
    "delist_df['date_port']  = delist_df['dlstdt'] + MonthEnd(0)\n",
    "\n",
    "crsp_df_ = crsp_df.merge(delist_df, how='left', on=['permno', 'date_port'])\n",
    "\n",
    "crsp_df_['ret'].fillna(0,inplace=True)\n",
    "crsp_df_['retx'].fillna(0,inplace=True)\n",
    "crsp_df_['dlret'].fillna(0,inplace=True)\n",
    "crsp_df_['ret_final'] = (1 + crsp_df_['ret'])*(1 + crsp_df_['dlret']) - 1\n",
    "crsp_df_['prc'] =  crsp_df_['prc'].abs()\n",
    "crsp_df_['mcap'] = crsp_df_['prc']*crsp_df_['shrout']\n",
    "crsp_df_['shrout_adj'] = crsp_df_['shrout']/crsp_df_['cfacshr']\n",
    "\n",
    "crsp_df_.drop(['dlret','dlstdt','prc'], axis=1, inplace=True)"
   ]
  },
  {
   "cell_type": "markdown",
   "metadata": {},
   "source": [
    "PERMCO is a unique company level identifier that remains unchanged throughout the whole term of company’s existence even if the company changed name/s. PERMNO is a unique stock (share class) level identifier. While most of the companies have one class shares, some companies have more than one class shares traded at different prices, and this is the reason why a company can have more than one PERMNOs.\n",
    "\n",
    "**Getting the right PERMNOS**\n",
    "\n",
    "- For each data point, as in for each month and each PERMCO, calculate the maximum market cap availble\n",
    "- Inner join the maximum market cap vector back to the original dataframe to get the relevant PERMNO for the given PERMCO\n",
    "- Lastly, replace the max market cap vector with the sum of the market cap for each PERMCO at each date to get the appropriate market cap"
   ]
  },
  {
   "cell_type": "code",
   "execution_count": 796,
   "metadata": {
    "ExecuteTime": {
     "end_time": "2021-03-14T04:47:39.265693Z",
     "start_time": "2021-03-14T04:47:25.941107Z"
    }
   },
   "outputs": [],
   "source": [
    "mcap_sum = crsp_df_.groupby(['date_port','permco'])['mcap'].sum().reset_index()\n",
    "mcap_max =  crsp_df_.groupby(['date_port','permco'])['mcap'].max().reset_index()\n",
    "crsp_df1_ = pd.merge(crsp_df_, mcap_max, how='inner', on=['date_port','permco', 'mcap'])\n",
    "crsp_df1_.drop('mcap', axis=1, inplace=True)\n",
    "crsp_df__ = crsp_df1_.merge(mcap_sum, how='inner', on=['date_port','permco']).\\\n",
    "                        sort_values(by=['permno','date_port']).drop_duplicates()\n",
    "crsp_df__.sort_values(['permno', 'date'], inplace=True)\n",
    "crsp_df__['permno_count'] = crsp_df__.groupby('permno').cumcount()"
   ]
  },
  {
   "cell_type": "markdown",
   "metadata": {},
   "source": [
    "**Calculate the inflation betas**\n",
    "\n",
    "Need expanding inflation betas for each single name in the CRSP database.\n",
    "\n",
    "- First, at every time $t$ we compute expanding monthly inflation surprises by running an ARMA(1,1)\n",
    "$$\\pi_{t} = \\phi\\pi_{t-1} + \\theta u^{\\pi}_{t-1} +u^{\\pi}_{t}$$\n",
    "\n",
    "Here, $ u^{\\pi}_{t}$ is the inflation surprise at every point in time. \n",
    "\n",
    "- The weighted least square specification for the estimator for a stock's inflation exposure, $\\beta^{\\pi}_{i, t}$ is given by, \n",
    "\n",
    "$$\\Big(\\alpha_{i, t}, \\beta^{\\pi}_{i, t} \\Big) = \\arg \\min_{\\alpha_{i, t}, \\beta^{\\pi}_{i, t}} \\sum^{t}_{\\tau =1}K(\\tau)\\Big(R_{i, \\tau} - \\alpha_{i,t} - \\beta^{\\pi}_{i, t}u^{\\pi}_{t} \\Big)^2$$ \n",
    "$$ K(\\tau) = \\frac{exp(-|t-\\tau|h)}{\\sum^{t-1}_{\\tau=1}exp(-|t-\\tau|h)}$$\n",
    "\n",
    "Here, $K(\\tau)$ denotes the weight assigned to each observation and $h = log(2)/60$, such that the half life of the weights converges to 60 months for large $t$.\n",
    "\n",
    "- Next, a Vasicek adjustment is applied on the estimated betas, \n",
    "$$\\beta^{V, \\pi}_{i, t} = \\beta^{\\pi}_{i, t} + \\frac {var_{TS}(\\beta^{\\pi}_{i, t})}{var_{TS}(\\beta^{\\pi}_{i, t}) + var_{CS}(\\beta^{\\pi}_{i, t})} * [mean_{CS}(\\beta^{\\pi}_{i, t}) - \\beta^{\\pi}_{i, t})]$$\n",
    "\n",
    "Thus, each $\\beta^{V, \\pi}_{i, t}$ is a weighted average of the stock’s beta estimated in the time-series and the average of all betas in the cross-section of month $t$ ,$mean_{CS}(\\beta^{\\pi}_{i, t})$. The former receives a larger weight when it is estimated more precisely, that is, when the square of the standard error of the estimated beta, $var_{TS}$ , is small relative to the cross- sectional variance of betas, $var_{CS}$ ."
   ]
  },
  {
   "cell_type": "code",
   "execution_count": 797,
   "metadata": {
    "ExecuteTime": {
     "end_time": "2021-03-14T04:50:46.923611Z",
     "start_time": "2021-03-14T04:47:39.266582Z"
    },
    "run_control": {
     "marked": false
    },
    "scrolled": true
   },
   "outputs": [
    {
     "name": "stderr",
     "output_type": "stream",
     "text": [
      "S:\\Users\\sheha\\anaconda3\\envs\\sentinel_prime\\lib\\site-packages\\statsmodels\\base\\model.py:568: ConvergenceWarning: Maximum Likelihood optimization failed to converge. Check mle_retvals\n",
      "  \"Check mle_retvals\", ConvergenceWarning)\n",
      "S:\\Users\\sheha\\anaconda3\\envs\\sentinel_prime\\lib\\site-packages\\statsmodels\\base\\model.py:568: ConvergenceWarning: Maximum Likelihood optimization failed to converge. Check mle_retvals\n",
      "  \"Check mle_retvals\", ConvergenceWarning)\n",
      "S:\\Users\\sheha\\anaconda3\\envs\\sentinel_prime\\lib\\site-packages\\statsmodels\\base\\model.py:568: ConvergenceWarning: Maximum Likelihood optimization failed to converge. Check mle_retvals\n",
      "  \"Check mle_retvals\", ConvergenceWarning)\n",
      "S:\\Users\\sheha\\anaconda3\\envs\\sentinel_prime\\lib\\site-packages\\statsmodels\\base\\model.py:568: ConvergenceWarning: Maximum Likelihood optimization failed to converge. Check mle_retvals\n",
      "  \"Check mle_retvals\", ConvergenceWarning)\n",
      "S:\\Users\\sheha\\anaconda3\\envs\\sentinel_prime\\lib\\site-packages\\statsmodels\\base\\model.py:568: ConvergenceWarning: Maximum Likelihood optimization failed to converge. Check mle_retvals\n",
      "  \"Check mle_retvals\", ConvergenceWarning)\n",
      "S:\\Users\\sheha\\anaconda3\\envs\\sentinel_prime\\lib\\site-packages\\statsmodels\\base\\model.py:568: ConvergenceWarning: Maximum Likelihood optimization failed to converge. Check mle_retvals\n",
      "  \"Check mle_retvals\", ConvergenceWarning)\n",
      "S:\\Users\\sheha\\anaconda3\\envs\\sentinel_prime\\lib\\site-packages\\statsmodels\\base\\model.py:568: ConvergenceWarning: Maximum Likelihood optimization failed to converge. Check mle_retvals\n",
      "  \"Check mle_retvals\", ConvergenceWarning)\n",
      "S:\\Users\\sheha\\anaconda3\\envs\\sentinel_prime\\lib\\site-packages\\statsmodels\\base\\model.py:568: ConvergenceWarning: Maximum Likelihood optimization failed to converge. Check mle_retvals\n",
      "  \"Check mle_retvals\", ConvergenceWarning)\n",
      "S:\\Users\\sheha\\anaconda3\\envs\\sentinel_prime\\lib\\site-packages\\statsmodels\\base\\model.py:568: ConvergenceWarning: Maximum Likelihood optimization failed to converge. Check mle_retvals\n",
      "  \"Check mle_retvals\", ConvergenceWarning)\n",
      "S:\\Users\\sheha\\anaconda3\\envs\\sentinel_prime\\lib\\site-packages\\statsmodels\\base\\model.py:568: ConvergenceWarning: Maximum Likelihood optimization failed to converge. Check mle_retvals\n",
      "  \"Check mle_retvals\", ConvergenceWarning)\n",
      "S:\\Users\\sheha\\anaconda3\\envs\\sentinel_prime\\lib\\site-packages\\statsmodels\\base\\model.py:568: ConvergenceWarning: Maximum Likelihood optimization failed to converge. Check mle_retvals\n",
      "  \"Check mle_retvals\", ConvergenceWarning)\n",
      "S:\\Users\\sheha\\anaconda3\\envs\\sentinel_prime\\lib\\site-packages\\statsmodels\\base\\model.py:568: ConvergenceWarning: Maximum Likelihood optimization failed to converge. Check mle_retvals\n",
      "  \"Check mle_retvals\", ConvergenceWarning)\n",
      "S:\\Users\\sheha\\anaconda3\\envs\\sentinel_prime\\lib\\site-packages\\statsmodels\\base\\model.py:568: ConvergenceWarning: Maximum Likelihood optimization failed to converge. Check mle_retvals\n",
      "  \"Check mle_retvals\", ConvergenceWarning)\n",
      "S:\\Users\\sheha\\anaconda3\\envs\\sentinel_prime\\lib\\site-packages\\statsmodels\\base\\model.py:568: ConvergenceWarning: Maximum Likelihood optimization failed to converge. Check mle_retvals\n",
      "  \"Check mle_retvals\", ConvergenceWarning)\n",
      "S:\\Users\\sheha\\anaconda3\\envs\\sentinel_prime\\lib\\site-packages\\statsmodels\\base\\model.py:568: ConvergenceWarning: Maximum Likelihood optimization failed to converge. Check mle_retvals\n",
      "  \"Check mle_retvals\", ConvergenceWarning)\n",
      "S:\\Users\\sheha\\anaconda3\\envs\\sentinel_prime\\lib\\site-packages\\statsmodels\\base\\model.py:568: ConvergenceWarning: Maximum Likelihood optimization failed to converge. Check mle_retvals\n",
      "  \"Check mle_retvals\", ConvergenceWarning)\n",
      "S:\\Users\\sheha\\anaconda3\\envs\\sentinel_prime\\lib\\site-packages\\statsmodels\\base\\model.py:568: ConvergenceWarning: Maximum Likelihood optimization failed to converge. Check mle_retvals\n",
      "  \"Check mle_retvals\", ConvergenceWarning)\n",
      "S:\\Users\\sheha\\anaconda3\\envs\\sentinel_prime\\lib\\site-packages\\statsmodels\\base\\model.py:568: ConvergenceWarning: Maximum Likelihood optimization failed to converge. Check mle_retvals\n",
      "  \"Check mle_retvals\", ConvergenceWarning)\n",
      "S:\\Users\\sheha\\anaconda3\\envs\\sentinel_prime\\lib\\site-packages\\statsmodels\\base\\model.py:568: ConvergenceWarning: Maximum Likelihood optimization failed to converge. Check mle_retvals\n",
      "  \"Check mle_retvals\", ConvergenceWarning)\n",
      "S:\\Users\\sheha\\anaconda3\\envs\\sentinel_prime\\lib\\site-packages\\statsmodels\\base\\model.py:568: ConvergenceWarning: Maximum Likelihood optimization failed to converge. Check mle_retvals\n",
      "  \"Check mle_retvals\", ConvergenceWarning)\n",
      "S:\\Users\\sheha\\anaconda3\\envs\\sentinel_prime\\lib\\site-packages\\statsmodels\\base\\model.py:568: ConvergenceWarning: Maximum Likelihood optimization failed to converge. Check mle_retvals\n",
      "  \"Check mle_retvals\", ConvergenceWarning)\n",
      "S:\\Users\\sheha\\anaconda3\\envs\\sentinel_prime\\lib\\site-packages\\statsmodels\\base\\model.py:568: ConvergenceWarning: Maximum Likelihood optimization failed to converge. Check mle_retvals\n",
      "  \"Check mle_retvals\", ConvergenceWarning)\n",
      "S:\\Users\\sheha\\anaconda3\\envs\\sentinel_prime\\lib\\site-packages\\statsmodels\\base\\model.py:568: ConvergenceWarning: Maximum Likelihood optimization failed to converge. Check mle_retvals\n",
      "  \"Check mle_retvals\", ConvergenceWarning)\n",
      "S:\\Users\\sheha\\anaconda3\\envs\\sentinel_prime\\lib\\site-packages\\statsmodels\\base\\model.py:568: ConvergenceWarning: Maximum Likelihood optimization failed to converge. Check mle_retvals\n",
      "  \"Check mle_retvals\", ConvergenceWarning)\n",
      "S:\\Users\\sheha\\anaconda3\\envs\\sentinel_prime\\lib\\site-packages\\statsmodels\\base\\model.py:568: ConvergenceWarning: Maximum Likelihood optimization failed to converge. Check mle_retvals\n",
      "  \"Check mle_retvals\", ConvergenceWarning)\n",
      "S:\\Users\\sheha\\anaconda3\\envs\\sentinel_prime\\lib\\site-packages\\statsmodels\\base\\model.py:568: ConvergenceWarning: Maximum Likelihood optimization failed to converge. Check mle_retvals\n",
      "  \"Check mle_retvals\", ConvergenceWarning)\n",
      "S:\\Users\\sheha\\anaconda3\\envs\\sentinel_prime\\lib\\site-packages\\statsmodels\\base\\model.py:568: ConvergenceWarning: Maximum Likelihood optimization failed to converge. Check mle_retvals\n",
      "  \"Check mle_retvals\", ConvergenceWarning)\n",
      "S:\\Users\\sheha\\anaconda3\\envs\\sentinel_prime\\lib\\site-packages\\statsmodels\\base\\model.py:568: ConvergenceWarning: Maximum Likelihood optimization failed to converge. Check mle_retvals\n",
      "  \"Check mle_retvals\", ConvergenceWarning)\n",
      "S:\\Users\\sheha\\anaconda3\\envs\\sentinel_prime\\lib\\site-packages\\statsmodels\\base\\model.py:568: ConvergenceWarning: Maximum Likelihood optimization failed to converge. Check mle_retvals\n",
      "  \"Check mle_retvals\", ConvergenceWarning)\n",
      "S:\\Users\\sheha\\anaconda3\\envs\\sentinel_prime\\lib\\site-packages\\statsmodels\\base\\model.py:568: ConvergenceWarning: Maximum Likelihood optimization failed to converge. Check mle_retvals\n",
      "  \"Check mle_retvals\", ConvergenceWarning)\n",
      "S:\\Users\\sheha\\anaconda3\\envs\\sentinel_prime\\lib\\site-packages\\statsmodels\\base\\model.py:568: ConvergenceWarning: Maximum Likelihood optimization failed to converge. Check mle_retvals\n",
      "  \"Check mle_retvals\", ConvergenceWarning)\n",
      "S:\\Users\\sheha\\anaconda3\\envs\\sentinel_prime\\lib\\site-packages\\statsmodels\\base\\model.py:568: ConvergenceWarning: Maximum Likelihood optimization failed to converge. Check mle_retvals\n",
      "  \"Check mle_retvals\", ConvergenceWarning)\n",
      "S:\\Users\\sheha\\anaconda3\\envs\\sentinel_prime\\lib\\site-packages\\statsmodels\\base\\model.py:568: ConvergenceWarning: Maximum Likelihood optimization failed to converge. Check mle_retvals\n",
      "  \"Check mle_retvals\", ConvergenceWarning)\n",
      "S:\\Users\\sheha\\anaconda3\\envs\\sentinel_prime\\lib\\site-packages\\statsmodels\\base\\model.py:568: ConvergenceWarning: Maximum Likelihood optimization failed to converge. Check mle_retvals\n",
      "  \"Check mle_retvals\", ConvergenceWarning)\n",
      "S:\\Users\\sheha\\anaconda3\\envs\\sentinel_prime\\lib\\site-packages\\statsmodels\\base\\model.py:568: ConvergenceWarning: Maximum Likelihood optimization failed to converge. Check mle_retvals\n",
      "  \"Check mle_retvals\", ConvergenceWarning)\n",
      "S:\\Users\\sheha\\anaconda3\\envs\\sentinel_prime\\lib\\site-packages\\statsmodels\\base\\model.py:568: ConvergenceWarning: Maximum Likelihood optimization failed to converge. Check mle_retvals\n",
      "  \"Check mle_retvals\", ConvergenceWarning)\n",
      "S:\\Users\\sheha\\anaconda3\\envs\\sentinel_prime\\lib\\site-packages\\statsmodels\\base\\model.py:568: ConvergenceWarning: Maximum Likelihood optimization failed to converge. Check mle_retvals\n",
      "  \"Check mle_retvals\", ConvergenceWarning)\n"
     ]
    },
    {
     "name": "stderr",
     "output_type": "stream",
     "text": [
      "S:\\Users\\sheha\\anaconda3\\envs\\sentinel_prime\\lib\\site-packages\\statsmodels\\base\\model.py:568: ConvergenceWarning: Maximum Likelihood optimization failed to converge. Check mle_retvals\n",
      "  \"Check mle_retvals\", ConvergenceWarning)\n",
      "S:\\Users\\sheha\\anaconda3\\envs\\sentinel_prime\\lib\\site-packages\\statsmodels\\base\\model.py:568: ConvergenceWarning: Maximum Likelihood optimization failed to converge. Check mle_retvals\n",
      "  \"Check mle_retvals\", ConvergenceWarning)\n",
      "S:\\Users\\sheha\\anaconda3\\envs\\sentinel_prime\\lib\\site-packages\\statsmodels\\base\\model.py:568: ConvergenceWarning: Maximum Likelihood optimization failed to converge. Check mle_retvals\n",
      "  \"Check mle_retvals\", ConvergenceWarning)\n",
      "S:\\Users\\sheha\\anaconda3\\envs\\sentinel_prime\\lib\\site-packages\\statsmodels\\base\\model.py:568: ConvergenceWarning: Maximum Likelihood optimization failed to converge. Check mle_retvals\n",
      "  \"Check mle_retvals\", ConvergenceWarning)\n",
      "S:\\Users\\sheha\\anaconda3\\envs\\sentinel_prime\\lib\\site-packages\\statsmodels\\base\\model.py:568: ConvergenceWarning: Maximum Likelihood optimization failed to converge. Check mle_retvals\n",
      "  \"Check mle_retvals\", ConvergenceWarning)\n",
      "S:\\Users\\sheha\\anaconda3\\envs\\sentinel_prime\\lib\\site-packages\\statsmodels\\base\\model.py:568: ConvergenceWarning: Maximum Likelihood optimization failed to converge. Check mle_retvals\n",
      "  \"Check mle_retvals\", ConvergenceWarning)\n",
      "S:\\Users\\sheha\\anaconda3\\envs\\sentinel_prime\\lib\\site-packages\\statsmodels\\base\\model.py:568: ConvergenceWarning: Maximum Likelihood optimization failed to converge. Check mle_retvals\n",
      "  \"Check mle_retvals\", ConvergenceWarning)\n",
      "S:\\Users\\sheha\\anaconda3\\envs\\sentinel_prime\\lib\\site-packages\\statsmodels\\base\\model.py:568: ConvergenceWarning: Maximum Likelihood optimization failed to converge. Check mle_retvals\n",
      "  \"Check mle_retvals\", ConvergenceWarning)\n",
      "S:\\Users\\sheha\\anaconda3\\envs\\sentinel_prime\\lib\\site-packages\\statsmodels\\base\\model.py:568: ConvergenceWarning: Maximum Likelihood optimization failed to converge. Check mle_retvals\n",
      "  \"Check mle_retvals\", ConvergenceWarning)\n",
      "S:\\Users\\sheha\\anaconda3\\envs\\sentinel_prime\\lib\\site-packages\\statsmodels\\base\\model.py:568: ConvergenceWarning: Maximum Likelihood optimization failed to converge. Check mle_retvals\n",
      "  \"Check mle_retvals\", ConvergenceWarning)\n",
      "S:\\Users\\sheha\\anaconda3\\envs\\sentinel_prime\\lib\\site-packages\\statsmodels\\base\\model.py:568: ConvergenceWarning: Maximum Likelihood optimization failed to converge. Check mle_retvals\n",
      "  \"Check mle_retvals\", ConvergenceWarning)\n",
      "S:\\Users\\sheha\\anaconda3\\envs\\sentinel_prime\\lib\\site-packages\\statsmodels\\base\\model.py:568: ConvergenceWarning: Maximum Likelihood optimization failed to converge. Check mle_retvals\n",
      "  \"Check mle_retvals\", ConvergenceWarning)\n",
      "S:\\Users\\sheha\\anaconda3\\envs\\sentinel_prime\\lib\\site-packages\\statsmodels\\base\\model.py:568: ConvergenceWarning: Maximum Likelihood optimization failed to converge. Check mle_retvals\n",
      "  \"Check mle_retvals\", ConvergenceWarning)\n",
      "S:\\Users\\sheha\\anaconda3\\envs\\sentinel_prime\\lib\\site-packages\\statsmodels\\base\\model.py:568: ConvergenceWarning: Maximum Likelihood optimization failed to converge. Check mle_retvals\n",
      "  \"Check mle_retvals\", ConvergenceWarning)\n",
      "S:\\Users\\sheha\\anaconda3\\envs\\sentinel_prime\\lib\\site-packages\\statsmodels\\base\\model.py:568: ConvergenceWarning: Maximum Likelihood optimization failed to converge. Check mle_retvals\n",
      "  \"Check mle_retvals\", ConvergenceWarning)\n",
      "S:\\Users\\sheha\\anaconda3\\envs\\sentinel_prime\\lib\\site-packages\\statsmodels\\base\\model.py:568: ConvergenceWarning: Maximum Likelihood optimization failed to converge. Check mle_retvals\n",
      "  \"Check mle_retvals\", ConvergenceWarning)\n",
      "S:\\Users\\sheha\\anaconda3\\envs\\sentinel_prime\\lib\\site-packages\\statsmodels\\base\\model.py:568: ConvergenceWarning: Maximum Likelihood optimization failed to converge. Check mle_retvals\n",
      "  \"Check mle_retvals\", ConvergenceWarning)\n",
      "S:\\Users\\sheha\\anaconda3\\envs\\sentinel_prime\\lib\\site-packages\\statsmodels\\base\\model.py:568: ConvergenceWarning: Maximum Likelihood optimization failed to converge. Check mle_retvals\n",
      "  \"Check mle_retvals\", ConvergenceWarning)\n",
      "S:\\Users\\sheha\\anaconda3\\envs\\sentinel_prime\\lib\\site-packages\\statsmodels\\base\\model.py:568: ConvergenceWarning: Maximum Likelihood optimization failed to converge. Check mle_retvals\n",
      "  \"Check mle_retvals\", ConvergenceWarning)\n",
      "S:\\Users\\sheha\\anaconda3\\envs\\sentinel_prime\\lib\\site-packages\\statsmodels\\base\\model.py:568: ConvergenceWarning: Maximum Likelihood optimization failed to converge. Check mle_retvals\n",
      "  \"Check mle_retvals\", ConvergenceWarning)\n",
      "S:\\Users\\sheha\\anaconda3\\envs\\sentinel_prime\\lib\\site-packages\\statsmodels\\base\\model.py:568: ConvergenceWarning: Maximum Likelihood optimization failed to converge. Check mle_retvals\n",
      "  \"Check mle_retvals\", ConvergenceWarning)\n",
      "S:\\Users\\sheha\\anaconda3\\envs\\sentinel_prime\\lib\\site-packages\\statsmodels\\base\\model.py:568: ConvergenceWarning: Maximum Likelihood optimization failed to converge. Check mle_retvals\n",
      "  \"Check mle_retvals\", ConvergenceWarning)\n",
      "S:\\Users\\sheha\\anaconda3\\envs\\sentinel_prime\\lib\\site-packages\\statsmodels\\base\\model.py:568: ConvergenceWarning: Maximum Likelihood optimization failed to converge. Check mle_retvals\n",
      "  \"Check mle_retvals\", ConvergenceWarning)\n",
      "S:\\Users\\sheha\\anaconda3\\envs\\sentinel_prime\\lib\\site-packages\\statsmodels\\base\\model.py:568: ConvergenceWarning: Maximum Likelihood optimization failed to converge. Check mle_retvals\n",
      "  \"Check mle_retvals\", ConvergenceWarning)\n",
      "S:\\Users\\sheha\\anaconda3\\envs\\sentinel_prime\\lib\\site-packages\\statsmodels\\base\\model.py:568: ConvergenceWarning: Maximum Likelihood optimization failed to converge. Check mle_retvals\n",
      "  \"Check mle_retvals\", ConvergenceWarning)\n",
      "S:\\Users\\sheha\\anaconda3\\envs\\sentinel_prime\\lib\\site-packages\\statsmodels\\base\\model.py:568: ConvergenceWarning: Maximum Likelihood optimization failed to converge. Check mle_retvals\n",
      "  \"Check mle_retvals\", ConvergenceWarning)\n",
      "S:\\Users\\sheha\\anaconda3\\envs\\sentinel_prime\\lib\\site-packages\\statsmodels\\base\\model.py:568: ConvergenceWarning: Maximum Likelihood optimization failed to converge. Check mle_retvals\n",
      "  \"Check mle_retvals\", ConvergenceWarning)\n",
      "S:\\Users\\sheha\\anaconda3\\envs\\sentinel_prime\\lib\\site-packages\\statsmodels\\base\\model.py:568: ConvergenceWarning: Maximum Likelihood optimization failed to converge. Check mle_retvals\n",
      "  \"Check mle_retvals\", ConvergenceWarning)\n",
      "S:\\Users\\sheha\\anaconda3\\envs\\sentinel_prime\\lib\\site-packages\\statsmodels\\base\\model.py:568: ConvergenceWarning: Maximum Likelihood optimization failed to converge. Check mle_retvals\n",
      "  \"Check mle_retvals\", ConvergenceWarning)\n",
      "S:\\Users\\sheha\\anaconda3\\envs\\sentinel_prime\\lib\\site-packages\\statsmodels\\base\\model.py:568: ConvergenceWarning: Maximum Likelihood optimization failed to converge. Check mle_retvals\n",
      "  \"Check mle_retvals\", ConvergenceWarning)\n",
      "S:\\Users\\sheha\\anaconda3\\envs\\sentinel_prime\\lib\\site-packages\\statsmodels\\base\\model.py:568: ConvergenceWarning: Maximum Likelihood optimization failed to converge. Check mle_retvals\n",
      "  \"Check mle_retvals\", ConvergenceWarning)\n",
      "S:\\Users\\sheha\\anaconda3\\envs\\sentinel_prime\\lib\\site-packages\\statsmodels\\base\\model.py:568: ConvergenceWarning: Maximum Likelihood optimization failed to converge. Check mle_retvals\n",
      "  \"Check mle_retvals\", ConvergenceWarning)\n",
      "S:\\Users\\sheha\\anaconda3\\envs\\sentinel_prime\\lib\\site-packages\\statsmodels\\base\\model.py:568: ConvergenceWarning: Maximum Likelihood optimization failed to converge. Check mle_retvals\n",
      "  \"Check mle_retvals\", ConvergenceWarning)\n",
      "S:\\Users\\sheha\\anaconda3\\envs\\sentinel_prime\\lib\\site-packages\\statsmodels\\base\\model.py:568: ConvergenceWarning: Maximum Likelihood optimization failed to converge. Check mle_retvals\n",
      "  \"Check mle_retvals\", ConvergenceWarning)\n",
      "S:\\Users\\sheha\\anaconda3\\envs\\sentinel_prime\\lib\\site-packages\\statsmodels\\base\\model.py:568: ConvergenceWarning: Maximum Likelihood optimization failed to converge. Check mle_retvals\n",
      "  \"Check mle_retvals\", ConvergenceWarning)\n",
      "S:\\Users\\sheha\\anaconda3\\envs\\sentinel_prime\\lib\\site-packages\\statsmodels\\base\\model.py:568: ConvergenceWarning: Maximum Likelihood optimization failed to converge. Check mle_retvals\n",
      "  \"Check mle_retvals\", ConvergenceWarning)\n",
      "S:\\Users\\sheha\\anaconda3\\envs\\sentinel_prime\\lib\\site-packages\\statsmodels\\base\\model.py:568: ConvergenceWarning: Maximum Likelihood optimization failed to converge. Check mle_retvals\n",
      "  \"Check mle_retvals\", ConvergenceWarning)\n"
     ]
    },
    {
     "name": "stderr",
     "output_type": "stream",
     "text": [
      "S:\\Users\\sheha\\anaconda3\\envs\\sentinel_prime\\lib\\site-packages\\statsmodels\\base\\model.py:568: ConvergenceWarning: Maximum Likelihood optimization failed to converge. Check mle_retvals\n",
      "  \"Check mle_retvals\", ConvergenceWarning)\n",
      "S:\\Users\\sheha\\anaconda3\\envs\\sentinel_prime\\lib\\site-packages\\statsmodels\\base\\model.py:568: ConvergenceWarning: Maximum Likelihood optimization failed to converge. Check mle_retvals\n",
      "  \"Check mle_retvals\", ConvergenceWarning)\n",
      "S:\\Users\\sheha\\anaconda3\\envs\\sentinel_prime\\lib\\site-packages\\statsmodels\\base\\model.py:568: ConvergenceWarning: Maximum Likelihood optimization failed to converge. Check mle_retvals\n",
      "  \"Check mle_retvals\", ConvergenceWarning)\n",
      "S:\\Users\\sheha\\anaconda3\\envs\\sentinel_prime\\lib\\site-packages\\statsmodels\\base\\model.py:568: ConvergenceWarning: Maximum Likelihood optimization failed to converge. Check mle_retvals\n",
      "  \"Check mle_retvals\", ConvergenceWarning)\n",
      "S:\\Users\\sheha\\anaconda3\\envs\\sentinel_prime\\lib\\site-packages\\statsmodels\\base\\model.py:568: ConvergenceWarning: Maximum Likelihood optimization failed to converge. Check mle_retvals\n",
      "  \"Check mle_retvals\", ConvergenceWarning)\n",
      "S:\\Users\\sheha\\anaconda3\\envs\\sentinel_prime\\lib\\site-packages\\statsmodels\\base\\model.py:568: ConvergenceWarning: Maximum Likelihood optimization failed to converge. Check mle_retvals\n",
      "  \"Check mle_retvals\", ConvergenceWarning)\n",
      "S:\\Users\\sheha\\anaconda3\\envs\\sentinel_prime\\lib\\site-packages\\statsmodels\\base\\model.py:568: ConvergenceWarning: Maximum Likelihood optimization failed to converge. Check mle_retvals\n",
      "  \"Check mle_retvals\", ConvergenceWarning)\n",
      "S:\\Users\\sheha\\anaconda3\\envs\\sentinel_prime\\lib\\site-packages\\statsmodels\\base\\model.py:568: ConvergenceWarning: Maximum Likelihood optimization failed to converge. Check mle_retvals\n",
      "  \"Check mle_retvals\", ConvergenceWarning)\n",
      "S:\\Users\\sheha\\anaconda3\\envs\\sentinel_prime\\lib\\site-packages\\statsmodels\\base\\model.py:568: ConvergenceWarning: Maximum Likelihood optimization failed to converge. Check mle_retvals\n",
      "  \"Check mle_retvals\", ConvergenceWarning)\n",
      "S:\\Users\\sheha\\anaconda3\\envs\\sentinel_prime\\lib\\site-packages\\statsmodels\\base\\model.py:568: ConvergenceWarning: Maximum Likelihood optimization failed to converge. Check mle_retvals\n",
      "  \"Check mle_retvals\", ConvergenceWarning)\n",
      "S:\\Users\\sheha\\anaconda3\\envs\\sentinel_prime\\lib\\site-packages\\statsmodels\\base\\model.py:568: ConvergenceWarning: Maximum Likelihood optimization failed to converge. Check mle_retvals\n",
      "  \"Check mle_retvals\", ConvergenceWarning)\n",
      "S:\\Users\\sheha\\anaconda3\\envs\\sentinel_prime\\lib\\site-packages\\statsmodels\\base\\model.py:568: ConvergenceWarning: Maximum Likelihood optimization failed to converge. Check mle_retvals\n",
      "  \"Check mle_retvals\", ConvergenceWarning)\n",
      "S:\\Users\\sheha\\anaconda3\\envs\\sentinel_prime\\lib\\site-packages\\statsmodels\\base\\model.py:568: ConvergenceWarning: Maximum Likelihood optimization failed to converge. Check mle_retvals\n",
      "  \"Check mle_retvals\", ConvergenceWarning)\n",
      "S:\\Users\\sheha\\anaconda3\\envs\\sentinel_prime\\lib\\site-packages\\statsmodels\\base\\model.py:568: ConvergenceWarning: Maximum Likelihood optimization failed to converge. Check mle_retvals\n",
      "  \"Check mle_retvals\", ConvergenceWarning)\n",
      "S:\\Users\\sheha\\anaconda3\\envs\\sentinel_prime\\lib\\site-packages\\statsmodels\\base\\model.py:568: ConvergenceWarning: Maximum Likelihood optimization failed to converge. Check mle_retvals\n",
      "  \"Check mle_retvals\", ConvergenceWarning)\n",
      "S:\\Users\\sheha\\anaconda3\\envs\\sentinel_prime\\lib\\site-packages\\statsmodels\\base\\model.py:568: ConvergenceWarning: Maximum Likelihood optimization failed to converge. Check mle_retvals\n",
      "  \"Check mle_retvals\", ConvergenceWarning)\n",
      "S:\\Users\\sheha\\anaconda3\\envs\\sentinel_prime\\lib\\site-packages\\statsmodels\\base\\model.py:568: ConvergenceWarning: Maximum Likelihood optimization failed to converge. Check mle_retvals\n",
      "  \"Check mle_retvals\", ConvergenceWarning)\n",
      "S:\\Users\\sheha\\anaconda3\\envs\\sentinel_prime\\lib\\site-packages\\statsmodels\\base\\model.py:568: ConvergenceWarning: Maximum Likelihood optimization failed to converge. Check mle_retvals\n",
      "  \"Check mle_retvals\", ConvergenceWarning)\n",
      "S:\\Users\\sheha\\anaconda3\\envs\\sentinel_prime\\lib\\site-packages\\statsmodels\\base\\model.py:568: ConvergenceWarning: Maximum Likelihood optimization failed to converge. Check mle_retvals\n",
      "  \"Check mle_retvals\", ConvergenceWarning)\n",
      "S:\\Users\\sheha\\anaconda3\\envs\\sentinel_prime\\lib\\site-packages\\statsmodels\\base\\model.py:568: ConvergenceWarning: Maximum Likelihood optimization failed to converge. Check mle_retvals\n",
      "  \"Check mle_retvals\", ConvergenceWarning)\n",
      "S:\\Users\\sheha\\anaconda3\\envs\\sentinel_prime\\lib\\site-packages\\statsmodels\\base\\model.py:568: ConvergenceWarning: Maximum Likelihood optimization failed to converge. Check mle_retvals\n",
      "  \"Check mle_retvals\", ConvergenceWarning)\n",
      "S:\\Users\\sheha\\anaconda3\\envs\\sentinel_prime\\lib\\site-packages\\statsmodels\\base\\model.py:568: ConvergenceWarning: Maximum Likelihood optimization failed to converge. Check mle_retvals\n",
      "  \"Check mle_retvals\", ConvergenceWarning)\n",
      "S:\\Users\\sheha\\anaconda3\\envs\\sentinel_prime\\lib\\site-packages\\statsmodels\\base\\model.py:568: ConvergenceWarning: Maximum Likelihood optimization failed to converge. Check mle_retvals\n",
      "  \"Check mle_retvals\", ConvergenceWarning)\n",
      "S:\\Users\\sheha\\anaconda3\\envs\\sentinel_prime\\lib\\site-packages\\statsmodels\\base\\model.py:568: ConvergenceWarning: Maximum Likelihood optimization failed to converge. Check mle_retvals\n",
      "  \"Check mle_retvals\", ConvergenceWarning)\n",
      "S:\\Users\\sheha\\anaconda3\\envs\\sentinel_prime\\lib\\site-packages\\statsmodels\\base\\model.py:568: ConvergenceWarning: Maximum Likelihood optimization failed to converge. Check mle_retvals\n",
      "  \"Check mle_retvals\", ConvergenceWarning)\n",
      "S:\\Users\\sheha\\anaconda3\\envs\\sentinel_prime\\lib\\site-packages\\statsmodels\\base\\model.py:568: ConvergenceWarning: Maximum Likelihood optimization failed to converge. Check mle_retvals\n",
      "  \"Check mle_retvals\", ConvergenceWarning)\n",
      "S:\\Users\\sheha\\anaconda3\\envs\\sentinel_prime\\lib\\site-packages\\statsmodels\\base\\model.py:568: ConvergenceWarning: Maximum Likelihood optimization failed to converge. Check mle_retvals\n",
      "  \"Check mle_retvals\", ConvergenceWarning)\n",
      "S:\\Users\\sheha\\anaconda3\\envs\\sentinel_prime\\lib\\site-packages\\statsmodels\\base\\model.py:568: ConvergenceWarning: Maximum Likelihood optimization failed to converge. Check mle_retvals\n",
      "  \"Check mle_retvals\", ConvergenceWarning)\n",
      "S:\\Users\\sheha\\anaconda3\\envs\\sentinel_prime\\lib\\site-packages\\statsmodels\\base\\model.py:568: ConvergenceWarning: Maximum Likelihood optimization failed to converge. Check mle_retvals\n",
      "  \"Check mle_retvals\", ConvergenceWarning)\n",
      "S:\\Users\\sheha\\anaconda3\\envs\\sentinel_prime\\lib\\site-packages\\statsmodels\\base\\model.py:568: ConvergenceWarning: Maximum Likelihood optimization failed to converge. Check mle_retvals\n",
      "  \"Check mle_retvals\", ConvergenceWarning)\n",
      "S:\\Users\\sheha\\anaconda3\\envs\\sentinel_prime\\lib\\site-packages\\statsmodels\\base\\model.py:568: ConvergenceWarning: Maximum Likelihood optimization failed to converge. Check mle_retvals\n",
      "  \"Check mle_retvals\", ConvergenceWarning)\n",
      "S:\\Users\\sheha\\anaconda3\\envs\\sentinel_prime\\lib\\site-packages\\statsmodels\\base\\model.py:568: ConvergenceWarning: Maximum Likelihood optimization failed to converge. Check mle_retvals\n",
      "  \"Check mle_retvals\", ConvergenceWarning)\n",
      "S:\\Users\\sheha\\anaconda3\\envs\\sentinel_prime\\lib\\site-packages\\statsmodels\\base\\model.py:568: ConvergenceWarning: Maximum Likelihood optimization failed to converge. Check mle_retvals\n",
      "  \"Check mle_retvals\", ConvergenceWarning)\n",
      "S:\\Users\\sheha\\anaconda3\\envs\\sentinel_prime\\lib\\site-packages\\statsmodels\\base\\model.py:568: ConvergenceWarning: Maximum Likelihood optimization failed to converge. Check mle_retvals\n",
      "  \"Check mle_retvals\", ConvergenceWarning)\n",
      "S:\\Users\\sheha\\anaconda3\\envs\\sentinel_prime\\lib\\site-packages\\statsmodels\\base\\model.py:568: ConvergenceWarning: Maximum Likelihood optimization failed to converge. Check mle_retvals\n",
      "  \"Check mle_retvals\", ConvergenceWarning)\n",
      "S:\\Users\\sheha\\anaconda3\\envs\\sentinel_prime\\lib\\site-packages\\statsmodels\\base\\model.py:568: ConvergenceWarning: Maximum Likelihood optimization failed to converge. Check mle_retvals\n",
      "  \"Check mle_retvals\", ConvergenceWarning)\n",
      "S:\\Users\\sheha\\anaconda3\\envs\\sentinel_prime\\lib\\site-packages\\statsmodels\\base\\model.py:568: ConvergenceWarning: Maximum Likelihood optimization failed to converge. Check mle_retvals\n",
      "  \"Check mle_retvals\", ConvergenceWarning)\n"
     ]
    },
    {
     "name": "stderr",
     "output_type": "stream",
     "text": [
      "S:\\Users\\sheha\\anaconda3\\envs\\sentinel_prime\\lib\\site-packages\\statsmodels\\base\\model.py:568: ConvergenceWarning: Maximum Likelihood optimization failed to converge. Check mle_retvals\n",
      "  \"Check mle_retvals\", ConvergenceWarning)\n",
      "S:\\Users\\sheha\\anaconda3\\envs\\sentinel_prime\\lib\\site-packages\\statsmodels\\base\\model.py:568: ConvergenceWarning: Maximum Likelihood optimization failed to converge. Check mle_retvals\n",
      "  \"Check mle_retvals\", ConvergenceWarning)\n",
      "S:\\Users\\sheha\\anaconda3\\envs\\sentinel_prime\\lib\\site-packages\\statsmodels\\base\\model.py:568: ConvergenceWarning: Maximum Likelihood optimization failed to converge. Check mle_retvals\n",
      "  \"Check mle_retvals\", ConvergenceWarning)\n",
      "S:\\Users\\sheha\\anaconda3\\envs\\sentinel_prime\\lib\\site-packages\\statsmodels\\base\\model.py:568: ConvergenceWarning: Maximum Likelihood optimization failed to converge. Check mle_retvals\n",
      "  \"Check mle_retvals\", ConvergenceWarning)\n",
      "S:\\Users\\sheha\\anaconda3\\envs\\sentinel_prime\\lib\\site-packages\\statsmodels\\base\\model.py:568: ConvergenceWarning: Maximum Likelihood optimization failed to converge. Check mle_retvals\n",
      "  \"Check mle_retvals\", ConvergenceWarning)\n",
      "S:\\Users\\sheha\\anaconda3\\envs\\sentinel_prime\\lib\\site-packages\\statsmodels\\base\\model.py:568: ConvergenceWarning: Maximum Likelihood optimization failed to converge. Check mle_retvals\n",
      "  \"Check mle_retvals\", ConvergenceWarning)\n",
      "S:\\Users\\sheha\\anaconda3\\envs\\sentinel_prime\\lib\\site-packages\\statsmodels\\base\\model.py:568: ConvergenceWarning: Maximum Likelihood optimization failed to converge. Check mle_retvals\n",
      "  \"Check mle_retvals\", ConvergenceWarning)\n",
      "S:\\Users\\sheha\\anaconda3\\envs\\sentinel_prime\\lib\\site-packages\\statsmodels\\base\\model.py:568: ConvergenceWarning: Maximum Likelihood optimization failed to converge. Check mle_retvals\n",
      "  \"Check mle_retvals\", ConvergenceWarning)\n",
      "S:\\Users\\sheha\\anaconda3\\envs\\sentinel_prime\\lib\\site-packages\\statsmodels\\base\\model.py:568: ConvergenceWarning: Maximum Likelihood optimization failed to converge. Check mle_retvals\n",
      "  \"Check mle_retvals\", ConvergenceWarning)\n",
      "S:\\Users\\sheha\\anaconda3\\envs\\sentinel_prime\\lib\\site-packages\\statsmodels\\base\\model.py:568: ConvergenceWarning: Maximum Likelihood optimization failed to converge. Check mle_retvals\n",
      "  \"Check mle_retvals\", ConvergenceWarning)\n",
      "S:\\Users\\sheha\\anaconda3\\envs\\sentinel_prime\\lib\\site-packages\\statsmodels\\base\\model.py:568: ConvergenceWarning: Maximum Likelihood optimization failed to converge. Check mle_retvals\n",
      "  \"Check mle_retvals\", ConvergenceWarning)\n",
      "S:\\Users\\sheha\\anaconda3\\envs\\sentinel_prime\\lib\\site-packages\\statsmodels\\base\\model.py:568: ConvergenceWarning: Maximum Likelihood optimization failed to converge. Check mle_retvals\n",
      "  \"Check mle_retvals\", ConvergenceWarning)\n",
      "S:\\Users\\sheha\\anaconda3\\envs\\sentinel_prime\\lib\\site-packages\\statsmodels\\base\\model.py:568: ConvergenceWarning: Maximum Likelihood optimization failed to converge. Check mle_retvals\n",
      "  \"Check mle_retvals\", ConvergenceWarning)\n",
      "S:\\Users\\sheha\\anaconda3\\envs\\sentinel_prime\\lib\\site-packages\\statsmodels\\base\\model.py:568: ConvergenceWarning: Maximum Likelihood optimization failed to converge. Check mle_retvals\n",
      "  \"Check mle_retvals\", ConvergenceWarning)\n",
      "S:\\Users\\sheha\\anaconda3\\envs\\sentinel_prime\\lib\\site-packages\\statsmodels\\base\\model.py:568: ConvergenceWarning: Maximum Likelihood optimization failed to converge. Check mle_retvals\n",
      "  \"Check mle_retvals\", ConvergenceWarning)\n",
      "S:\\Users\\sheha\\anaconda3\\envs\\sentinel_prime\\lib\\site-packages\\statsmodels\\base\\model.py:568: ConvergenceWarning: Maximum Likelihood optimization failed to converge. Check mle_retvals\n",
      "  \"Check mle_retvals\", ConvergenceWarning)\n",
      "S:\\Users\\sheha\\anaconda3\\envs\\sentinel_prime\\lib\\site-packages\\statsmodels\\base\\model.py:568: ConvergenceWarning: Maximum Likelihood optimization failed to converge. Check mle_retvals\n",
      "  \"Check mle_retvals\", ConvergenceWarning)\n",
      "S:\\Users\\sheha\\anaconda3\\envs\\sentinel_prime\\lib\\site-packages\\statsmodels\\base\\model.py:568: ConvergenceWarning: Maximum Likelihood optimization failed to converge. Check mle_retvals\n",
      "  \"Check mle_retvals\", ConvergenceWarning)\n",
      "S:\\Users\\sheha\\anaconda3\\envs\\sentinel_prime\\lib\\site-packages\\statsmodels\\base\\model.py:568: ConvergenceWarning: Maximum Likelihood optimization failed to converge. Check mle_retvals\n",
      "  \"Check mle_retvals\", ConvergenceWarning)\n"
     ]
    }
   ],
   "source": [
    "min_sampsize = 23\n",
    "samp_ix = crsp_df__.groupby('permno')['permno_count'].apply(lambda x: x.iloc[-1] >= min_sampsize) \n",
    "permno_dels = samp_ix.index[samp_ix]\n",
    "crsp_df__ = crsp_df__[crsp_df__['permno'].apply(lambda x: x in permno_dels)]\n",
    "\n",
    "def get_arma_resid(X):\n",
    "    arma_model = ARIMA(X, order=(1, 0, 1)).fit()\n",
    "    return pd.Series(arma_model.resid)\n",
    "\n",
    "cpi_surprise = {}\n",
    "ix_0 = cpi_df.index[0]\n",
    "for ix in range(min_sampsize, len(cpi_df)):\n",
    "    tau = ix_0 + MonthEnd(ix)\n",
    "    cpi_surprise[tau] = get_arma_resid(cpi_df.loc[:tau, 'CPIAUCSL'])"
   ]
  },
  {
   "cell_type": "code",
   "execution_count": 799,
   "metadata": {
    "ExecuteTime": {
     "end_time": "2021-03-14T05:25:42.946501Z",
     "start_time": "2021-03-14T04:51:59.335484Z"
    }
   },
   "outputs": [],
   "source": [
    "def kernel_func(t, tau, h):\n",
    "    k = np.divide(np.exp(-np.abs(t - tau)*h), \n",
    "                  np.sum(np.exp(-np.abs(t - np.arange(1, t-1))*h)))\n",
    "    return k \n",
    "\n",
    "def get_wls_betas(U, y):\n",
    "        \n",
    "    t = len(U)\n",
    "    taus = np.arange(1, t+1)\n",
    "    h = np.log(2)/60\n",
    "\n",
    "    W = np.diag(kernel_func(t, taus, h))\n",
    "    X = np.vstack([np.ones(len(U)), U]).T\n",
    "\n",
    "    vcov_inv = np.linalg.inv(X.T @ W @ X)\n",
    "    b = vcov_inv @ X.T @ W @ y\n",
    "    var_eps = np.sum(np.sum(W, axis=0)*((y - (X @ b))**2))/(t - 2)\n",
    "    var_b = np.diag(var_eps*vcov_inv)\n",
    "    \n",
    "    return [b[1], var_b[1]]\n",
    "\n",
    "def get_expanding_infbetas(group, surprise_dict=cpi_surprise, min_sampsize=24):\n",
    "    \n",
    "    betas = []\n",
    "    y = group['ret_final'].values\n",
    "    for ix in range(min_sampsize, len(group)+1):\n",
    "\n",
    "        U = cpi_surprise[group.iloc[ix-1]['date']][group.iloc[0:ix]['date']].values\n",
    "        betas.append(get_wls_betas(U, y[0:ix]))\n",
    "\n",
    "    return pd.DataFrame(betas,index=group[min_sampsize-1:]['date'], columns=['inf_beta','var_b'])\n",
    "\n",
    "inf_betas = crsp_df__.groupby('permno')[['ret_final','date']].\\\n",
    "                        apply(get_expanding_infbetas).reset_index()\n",
    "#inf_betas.to_pickle('inf_betas.pkl')\n",
    "crsp_df__ = crsp_df__.merge(inf_betas.reset_index(), how='inner', on=['permno','date'])"
   ]
  },
  {
   "cell_type": "markdown",
   "metadata": {},
   "source": [
    "**Lets plot out the average cross sectional beta for each period**"
   ]
  },
  {
   "cell_type": "code",
   "execution_count": 815,
   "metadata": {
    "ExecuteTime": {
     "end_time": "2021-03-14T13:08:56.451274Z",
     "start_time": "2021-03-14T13:08:55.771093Z"
    },
    "scrolled": false
   },
   "outputs": [
    {
     "data": {
      "text/plain": [
       "Text(0.5, 1.0, 'Average Inflation Betas')"
      ]
     },
     "execution_count": 815,
     "metadata": {},
     "output_type": "execute_result"
    },
    {
     "data": {
      "image/png": "[encoded data removed]",
      "text/plain": [
       "<Figure size 864x720 with 1 Axes>"
      ]
     },
     "metadata": {},
     "output_type": "display_data"
    }
   ],
   "source": [
    "cs_b_stats = crsp_df__.groupby('date')['inf_beta'].\\\n",
    "                apply(lambda x: pd.DataFrame([np.mean(x), np.var(x)], \n",
    "                                             index=['cs_mean_inf', 'cs_var_inf']).T).reset_index()\n",
    "cs_b_stats.drop(columns='level_1', inplace=True)\n",
    "crsp_df__ = crsp_df__.merge(cs_b_stats, how='left', on='date')\n",
    "crsp_df__['inf_beta_weight'] = crsp_df__['var_b']/(crsp_df__['cs_var_inf']+crsp_df__['var_b'])\n",
    "crsp_df__['inf_beta_va'] = crsp_df__['inf_beta'] + crsp_df__['inf_beta_weight']*\\\n",
    "                                                    (crsp_df__['cs_mean_inf'] - crsp_df__['inf_beta'])\n",
    "cs_b_stats.plot(y='cs_mean_inf', x='date')\n",
    "plt.title('Average Inflation Betas')"
   ]
  },
  {
   "cell_type": "markdown",
   "metadata": {},
   "source": [
    "**Calculating Fama French Value weights for each portfolio formation period**\n",
    "\n",
    "$$w_t = \\frac{(1+ret_{t-1})...(1+ret_{t-\\tau})ME_{0}}{\\sum_{n}(1+ret_{t-1})...(1+ret_{t-\\tau})ME_{0}} $$\n",
    "- $ME_{0}$ is market cap as of end of june\n",
    "- $(1+ret_{t-\\tau})$ is market cap as of end of july\n",
    "\n",
    "One thing to keep in mind, these weights will only apply if I am rebalancing annually, for monthly rebalancing the value weights will be based on the point in time lagged market capitalization of the stocks\n",
    "\n",
    "Let's start by tagging the dates first, \n"
   ]
  },
  {
   "cell_type": "code",
   "execution_count": 834,
   "metadata": {
    "ExecuteTime": {
     "end_time": "2021-03-14T13:52:44.495303Z",
     "start_time": "2021-03-14T13:52:43.751134Z"
    }
   },
   "outputs": [],
   "source": [
    "select_month = 1\n",
    "crsp_df__['year'] = crsp_df__['date_port'].dt.year\n",
    "crsp_df__['month'] = crsp_df__['date_port'].dt.month\n",
    "crsp_df__['date_ff'] = crsp_df__['date_port'] + MonthEnd(-select_month)\n",
    "crsp_df__['year_ff'] = crsp_df__['date_ff'].dt.year\n",
    "crsp_df__['month_ff'] = crsp_df__['date_ff'].dt.month"
   ]
  },
  {
   "cell_type": "markdown",
   "metadata": {},
   "source": [
    "- Next we calculate the adjusted market capitalization, that is the numerator of the previous equation\n",
    "- In the case of IPHL, we will use the lagged market cap as `mcap_adj` instead of the cumulative market cap from portfolio formation period as in fama french, since we are rebalancing every month instead of once a year. Using the FF approach will bias the result since the market cap calculated under that case will keep number of shares outstanding constant starting june every month. But what we need is for both price and quantity to change every month.  "
   ]
  },
  {
   "cell_type": "code",
   "execution_count": 835,
   "metadata": {
    "ExecuteTime": {
     "end_time": "2021-03-14T13:53:47.306016Z",
     "start_time": "2021-03-14T13:52:46.011292Z"
    }
   },
   "outputs": [],
   "source": [
    "crsp_df__['cum_ret'] = crsp_df__.groupby(['permno', 'year_ff'])['retx'].apply(lambda x: (1+x).cumprod())\n",
    "crsp_df__['lag_cum_ret'] = crsp_df__.groupby(['permno'])['cum_ret'].shift(1)\n",
    "crsp_df__['lag_mcap'] = crsp_df__.groupby('permno')['mcap'].shift(1)\n",
    "\n",
    "crsp_df__['permno_count'] = crsp_df__.groupby('permno').cumcount()\n",
    "crsp_df__['lag_mcap'].mask(crsp_df__['permno_count'] == 0, \n",
    "                           crsp_df__['mcap']/(1+crsp_df__['retx']), \n",
    "                           inplace=True)\n",
    "\n",
    "mcap_base = crsp_df__.loc[crsp_df__['month_ff']==1,['permno', 'year_ff', 'lag_mcap']].\\\n",
    "                rename(columns={'lag_mcap': 'mcap_base'})\n",
    "\n",
    "crsp_final_df = crsp_df__.merge(mcap_base, how='left', on=['permno', 'year_ff'])\n",
    "crsp_final_df['mcap_adj'] = crsp_final_df['lag_mcap'].copy()\n",
    "# np.where(crsp_final_df['month_ff'] == 1, \n",
    "#          crsp_final_df['lag_mcap'], \n",
    "#          crsp_final_df['mcap_base']*crsp_final_df['lag_cum_ret'])"
   ]
  },
  {
   "cell_type": "markdown",
   "metadata": {},
   "source": [
    "**Let's also partition out a dataframe for the end of year market capitalization, can be used for variable calculation**"
   ]
  },
  {
   "cell_type": "code",
   "execution_count": 841,
   "metadata": {
    "ExecuteTime": {
     "end_time": "2021-03-14T13:58:32.273535Z",
     "start_time": "2021-03-14T13:58:32.161503Z"
    }
   },
   "outputs": [],
   "source": [
    "dec_mcap = crsp_final_df.loc[crsp_final_df['month']==12,:].copy()\n",
    "dec_mcap.rename(columns = {'mcap':'dec_mcap'},inplace=True)\n",
    "dec_mcap['year'] = dec_mcap['year'] + 1\n",
    "dec_mcap = dec_mcap.loc[:,['permno','year','dec_mcap']].copy()"
   ]
  },
  {
   "cell_type": "markdown",
   "metadata": {},
   "source": [
    "**Merge back with monthly returns to get full time series**\n",
    "\n",
    "So we need the signals to take effect end of every month instead of once a portfolio formation date per year."
   ]
  },
  {
   "cell_type": "code",
   "execution_count": 934,
   "metadata": {
    "ExecuteTime": {
     "end_time": "2021-03-14T16:48:57.338043Z",
     "start_time": "2021-03-14T16:48:56.889144Z"
    }
   },
   "outputs": [],
   "source": [
    "crsp_final_df['IP_beta'] = crsp_final_df.groupby('permno')['inf_beta_va'].shift(1)\n",
    "\n",
    "strat_cols = ['date', 'permno', 'permno_count', 'shrcd', 'exchcd', 'ret_final',\n",
    "               'mcap','mcap_adj', 'cum_ret', 'year_ff', 'date_port', 'IP_beta']\n",
    "portmnth_df = crsp_final_df.loc[~crsp_final_df['IP_beta'].isnull(),strat_cols]"
   ]
  },
  {
   "cell_type": "markdown",
   "metadata": {},
   "source": [
    "**Getting the NYSE Breakpoints**\n",
    "\n",
    "Conditions for the breakpoints:\n",
    "- Exchange code 1\n",
    "- Share code 10 and 11\n",
    "- positive market cap\n",
    "- at least 2 years in compustat"
   ]
  },
  {
   "cell_type": "code",
   "execution_count": 935,
   "metadata": {
    "ExecuteTime": {
     "end_time": "2021-03-14T16:50:50.262396Z",
     "start_time": "2021-03-14T16:48:58.586305Z"
    }
   },
   "outputs": [],
   "source": [
    "nyse_ix = (portmnth_df['mcap'] > 0) & (portmnth_df['exchcd'] == 1) & \\\n",
    "         ((portmnth_df['shrcd'] == 10) | (portmnth_df['shrcd'] == 11)) & (portmnth_df['permno_count'] >= 23)\n",
    "port_ix = (portmnth_df['mcap'] > 0) & (portmnth_df['permno_count'] >= 23)\n",
    "\n",
    "ff_meb = (data.DataReader('ME_Breakpoints', 'famafrench', start='1920-10-01')[0].iloc[:,1:]*1000).shift(1).dropna()\n",
    "ff_meb.index = pd.to_datetime(ff_meb.index.astype(str)) + MonthEnd(0)\n",
    "\n",
    "nyse_szbucket = pd.DataFrame()\n",
    "nyse_szbucket['nyse_20'] = ff_meb[(15,20)].reset_index(drop=True).copy()\n",
    "nyse_szbucket['nyse_50'] = ff_meb[(45,50)].reset_index(drop=True).copy()\n",
    "nyse_szbucket['date_port'] = ff_meb.index\n",
    "\n",
    "def szbucket(x):\n",
    "    if np.isnan(x['mcap_adj']):\n",
    "        return ''\n",
    "    elif x['mcap_adj'] <= x['nyse_20']:\n",
    "        return 'M'\n",
    "    elif (x['mcap_adj'] > x['nyse_20']) & (x['mcap_adj'] <= x['nyse_50']):\n",
    "        return 'S'\n",
    "    else: return 'B'\n",
    "    \n",
    "portmnth_df['index'] = portmnth_df.index \n",
    "portmnth_df = pd.merge(portmnth_df, nyse_szbucket, how='left', on='date_port')\n",
    "portmnth_df.index = portmnth_df['index']\n",
    "portmnth_df.drop(columns='index', inplace=True)\n",
    "portmnth_df['szbucket'] = np.where(port_ix, portmnth_df.apply(szbucket, axis=1), '')"
   ]
  },
  {
   "cell_type": "markdown",
   "metadata": {},
   "source": [
    "**Inflation Portfolios**\n",
    "\n",
    "Each month in our sample we create 30 value-weighted portfolios by two-way sorting all stocks at the intersection of ten inflation beta deciles and three size groups. Following Fama and French (2008) , these size groups are defined by the 20th and 50th percentiles of NYSE market capitalization at the end of the previ- ous month. We then collapse the 30 portfolios into ten size-controlled inflation beta-sorted portfolios by averag- ing over the three size groups in each inflation beta decile."
   ]
  },
  {
   "cell_type": "code",
   "execution_count": 936,
   "metadata": {
    "ExecuteTime": {
     "end_time": "2021-03-14T16:50:53.086003Z",
     "start_time": "2021-03-14T16:50:50.263367Z"
    }
   },
   "outputs": [],
   "source": [
    "ip_labels = ['IP' + str(pix) for pix in list(range(1, 11))]\n",
    "ip_ranks = portmnth_df[port_ix].groupby('date_port')['IP_beta'].apply(pd.qcut, 10, ip_labels).astype(str)\n",
    "portmnth_df = portmnth_df.merge(ip_ranks, how='left', right_index=True, left_index=True, suffixes=('','_rank'))\n",
    "portmnth_df.loc[portmnth_df['IP_beta_rank'].isnull(), 'IP_beta_rank'] = ''\n",
    "\n",
    "portmnth_df['posq_tag'] = np.where(port_ix, 1, 0)\n",
    "portmnth_df['IP_beta_tag'] = np.where(portmnth_df['IP_beta_rank'] == '', 0, 1)\n",
    "\n",
    "final_sort = (portmnth_df['mcap_adj'] > 0) & (portmnth_df['IP_beta_tag'] == 1) & (portmnth_df['posq_tag'] == 1) \\\n",
    "                & ((portmnth_df['shrcd'] == 10) | (portmnth_df['shrcd'] == 11))\n",
    "\n",
    "portmnth_df = portmnth_df[final_sort]"
   ]
  },
  {
   "cell_type": "markdown",
   "metadata": {},
   "source": [
    "**Calculate the value weighted return**\n",
    "\n",
    "Simple value weighted return using `mcap_adj`"
   ]
  },
  {
   "cell_type": "code",
   "execution_count": 937,
   "metadata": {
    "ExecuteTime": {
     "end_time": "2021-03-14T16:50:59.872811Z",
     "start_time": "2021-03-14T16:50:53.086959Z"
    }
   },
   "outputs": [
    {
     "data": {
      "text/html": [
       "<div>\n",
       "<style scoped>\n",
       "    .dataframe tbody tr th:only-of-type {\n",
       "        vertical-align: middle;\n",
       "    }\n",
       "\n",
       "    .dataframe tbody tr th {\n",
       "        vertical-align: top;\n",
       "    }\n",
       "\n",
       "    .dataframe thead th {\n",
       "        text-align: right;\n",
       "    }\n",
       "</style>\n",
       "<table border=\"1\" class=\"dataframe\">\n",
       "  <thead>\n",
       "    <tr style=\"text-align: right;\">\n",
       "      <th></th>\n",
       "      <th>date_port</th>\n",
       "      <th>szbucket</th>\n",
       "      <th>IP_beta_rank</th>\n",
       "      <th>vw_ret</th>\n",
       "    </tr>\n",
       "  </thead>\n",
       "  <tbody>\n",
       "    <tr>\n",
       "      <th>0</th>\n",
       "      <td>1965-11-30</td>\n",
       "      <td>B</td>\n",
       "      <td>IP1</td>\n",
       "      <td>0.032803</td>\n",
       "    </tr>\n",
       "    <tr>\n",
       "      <th>1</th>\n",
       "      <td>1965-11-30</td>\n",
       "      <td>B</td>\n",
       "      <td>IP10</td>\n",
       "      <td>-0.000495</td>\n",
       "    </tr>\n",
       "    <tr>\n",
       "      <th>2</th>\n",
       "      <td>1965-11-30</td>\n",
       "      <td>B</td>\n",
       "      <td>IP2</td>\n",
       "      <td>0.005806</td>\n",
       "    </tr>\n",
       "    <tr>\n",
       "      <th>3</th>\n",
       "      <td>1965-11-30</td>\n",
       "      <td>B</td>\n",
       "      <td>IP3</td>\n",
       "      <td>0.021510</td>\n",
       "    </tr>\n",
       "    <tr>\n",
       "      <th>4</th>\n",
       "      <td>1965-11-30</td>\n",
       "      <td>B</td>\n",
       "      <td>IP4</td>\n",
       "      <td>0.020291</td>\n",
       "    </tr>\n",
       "    <tr>\n",
       "      <th>5</th>\n",
       "      <td>1965-11-30</td>\n",
       "      <td>B</td>\n",
       "      <td>IP5</td>\n",
       "      <td>-0.036786</td>\n",
       "    </tr>\n",
       "    <tr>\n",
       "      <th>6</th>\n",
       "      <td>1965-11-30</td>\n",
       "      <td>B</td>\n",
       "      <td>IP6</td>\n",
       "      <td>0.007709</td>\n",
       "    </tr>\n",
       "    <tr>\n",
       "      <th>7</th>\n",
       "      <td>1965-11-30</td>\n",
       "      <td>B</td>\n",
       "      <td>IP7</td>\n",
       "      <td>-0.027070</td>\n",
       "    </tr>\n",
       "    <tr>\n",
       "      <th>8</th>\n",
       "      <td>1965-11-30</td>\n",
       "      <td>B</td>\n",
       "      <td>IP8</td>\n",
       "      <td>0.017797</td>\n",
       "    </tr>\n",
       "    <tr>\n",
       "      <th>9</th>\n",
       "      <td>1965-11-30</td>\n",
       "      <td>B</td>\n",
       "      <td>IP9</td>\n",
       "      <td>0.015386</td>\n",
       "    </tr>\n",
       "  </tbody>\n",
       "</table>\n",
       "</div>"
      ],
      "text/plain": [
       "   date_port szbucket IP_beta_rank    vw_ret\n",
       "0 1965-11-30        B          IP1  0.032803\n",
       "1 1965-11-30        B         IP10 -0.000495\n",
       "2 1965-11-30        B          IP2  0.005806\n",
       "3 1965-11-30        B          IP3  0.021510\n",
       "4 1965-11-30        B          IP4  0.020291\n",
       "5 1965-11-30        B          IP5 -0.036786\n",
       "6 1965-11-30        B          IP6  0.007709\n",
       "7 1965-11-30        B          IP7 -0.027070\n",
       "8 1965-11-30        B          IP8  0.017797\n",
       "9 1965-11-30        B          IP9  0.015386"
      ]
     },
     "execution_count": 937,
     "metadata": {},
     "output_type": "execute_result"
    }
   ],
   "source": [
    "def wavg(group, avg_name, weight_name):\n",
    "    d = group[avg_name]\n",
    "    w = group[weight_name]\n",
    "    try:\n",
    "        return (d * w).sum() / w.sum()\n",
    "    except ZeroDivisionError:\n",
    "        return np.nan\n",
    "\n",
    "vw_ret_df = portmnth_df.groupby(['date_port', 'szbucket', 'IP_beta_rank']).apply(wavg, 'ret_final', 'mcap_adj').\\\n",
    "                    reset_index().rename(columns={0: 'vw_ret'})\n",
    "vw_ret_df.head(10)"
   ]
  },
  {
   "cell_type": "code",
   "execution_count": 1274,
   "metadata": {
    "ExecuteTime": {
     "end_time": "2021-03-16T17:04:23.893788Z",
     "start_time": "2021-03-16T17:04:23.828610Z"
    }
   },
   "outputs": [],
   "source": [
    "vw_ret_df['port_ids'] = vw_ret_df['szbucket'] + vw_ret_df['IP_beta_rank']\n",
    "IP_factors = vw_ret_df.pivot_table(values='vw_ret',index='date_port', columns='port_ids').reset_index()\n",
    "\n",
    "sizep_labels = [['M' + ipl, 'S' + ipl , 'B' + ipl] for ipl in ip_labels]\n",
    "for ix in range(len(sizep_labels)):\n",
    "    IP_factors[ip_labels[ix]] = IP_factors[sizep_labels[ix]].mean(axis=1)\n",
    "    \n",
    "IP_factors['IPHL'] = IP_factors['IP10'] - IP_factors['IP1']\n",
    "IP_factors['IPLH'] = IP_factors['IP1'] - IP_factors['IP10']\n",
    "\n",
    "IP_factors.index = IP_factors['date_port']\n",
    "IP_factors.drop(columns='date_port', inplace=True)\n",
    "IP_factors.index.name = 'Date'"
   ]
  },
  {
   "cell_type": "code",
   "execution_count": 1275,
   "metadata": {
    "ExecuteTime": {
     "end_time": "2021-03-16T17:04:25.049696Z",
     "start_time": "2021-03-16T17:04:25.029777Z"
    },
    "run_control": {
     "marked": false
    }
   },
   "outputs": [],
   "source": [
    "rx_labels = ['rx_'+ip_label for ip_label in ip_labels]\n",
    "IP_factors = IP_factors.merge(ff_factors['RF'].shift(1), how='left', right_index=True, left_index=True)\n",
    "IP_factors[rx_labels] = IP_factors[ip_labels].sub(IP_factors['RF'], axis=0) \n",
    "\n",
    "cpi_surprise_2020 = cpi_surprise[IP_factors.index[-1]].to_frame('cpi_surprise')\n",
    "cpi_surprise_2020.index.name = 'Date'\n",
    "IP_factors = IP_factors.merge(cpi_surprise_2020, how='left', right_index=True, left_index=True)"
   ]
  },
  {
   "cell_type": "markdown",
   "metadata": {},
   "source": [
    "**Key Stats for the inflation sorted portfolios**"
   ]
  },
  {
   "cell_type": "code",
   "execution_count": 1276,
   "metadata": {
    "ExecuteTime": {
     "end_time": "2021-03-16T17:04:25.808139Z",
     "start_time": "2021-03-16T17:04:25.779216Z"
    }
   },
   "outputs": [
    {
     "data": {
      "text/html": [
       "<div>\n",
       "<style scoped>\n",
       "    .dataframe tbody tr th:only-of-type {\n",
       "        vertical-align: middle;\n",
       "    }\n",
       "\n",
       "    .dataframe tbody tr th {\n",
       "        vertical-align: top;\n",
       "    }\n",
       "\n",
       "    .dataframe thead th {\n",
       "        text-align: right;\n",
       "    }\n",
       "</style>\n",
       "<table border=\"1\" class=\"dataframe\">\n",
       "  <thead>\n",
       "    <tr style=\"text-align: right;\">\n",
       "      <th></th>\n",
       "      <th>rx_IP10</th>\n",
       "      <th>rx_IP9</th>\n",
       "      <th>rx_IP8</th>\n",
       "      <th>rx_IP7</th>\n",
       "      <th>rx_IP6</th>\n",
       "      <th>rx_IP5</th>\n",
       "      <th>rx_IP4</th>\n",
       "      <th>rx_IP3</th>\n",
       "      <th>rx_IP2</th>\n",
       "      <th>rx_IP1</th>\n",
       "    </tr>\n",
       "  </thead>\n",
       "  <tbody>\n",
       "    <tr>\n",
       "      <th>Avg. rx</th>\n",
       "      <td>0.062452</td>\n",
       "      <td>0.081738</td>\n",
       "      <td>0.086359</td>\n",
       "      <td>0.093192</td>\n",
       "      <td>0.087642</td>\n",
       "      <td>0.093036</td>\n",
       "      <td>0.092855</td>\n",
       "      <td>0.094356</td>\n",
       "      <td>0.091378</td>\n",
       "      <td>0.102030</td>\n",
       "    </tr>\n",
       "    <tr>\n",
       "      <th>Volatility</th>\n",
       "      <td>0.236557</td>\n",
       "      <td>0.204602</td>\n",
       "      <td>0.191671</td>\n",
       "      <td>0.184513</td>\n",
       "      <td>0.182590</td>\n",
       "      <td>0.182341</td>\n",
       "      <td>0.185405</td>\n",
       "      <td>0.190584</td>\n",
       "      <td>0.196439</td>\n",
       "      <td>0.216209</td>\n",
       "    </tr>\n",
       "    <tr>\n",
       "      <th>Sharpe</th>\n",
       "      <td>0.263379</td>\n",
       "      <td>0.398552</td>\n",
       "      <td>0.449491</td>\n",
       "      <td>0.503872</td>\n",
       "      <td>0.478861</td>\n",
       "      <td>0.509024</td>\n",
       "      <td>0.499636</td>\n",
       "      <td>0.493919</td>\n",
       "      <td>0.464070</td>\n",
       "      <td>0.470786</td>\n",
       "    </tr>\n",
       "    <tr>\n",
       "      <th>t_stat</th>\n",
       "      <td>1.958547</td>\n",
       "      <td>2.963726</td>\n",
       "      <td>3.342519</td>\n",
       "      <td>3.746909</td>\n",
       "      <td>3.560920</td>\n",
       "      <td>3.785217</td>\n",
       "      <td>3.715412</td>\n",
       "      <td>3.672899</td>\n",
       "      <td>3.450929</td>\n",
       "      <td>3.500876</td>\n",
       "    </tr>\n",
       "  </tbody>\n",
       "</table>\n",
       "</div>"
      ],
      "text/plain": [
       "             rx_IP10    rx_IP9    rx_IP8    rx_IP7    rx_IP6    rx_IP5  \\\n",
       "Avg. rx     0.062452  0.081738  0.086359  0.093192  0.087642  0.093036   \n",
       "Volatility  0.236557  0.204602  0.191671  0.184513  0.182590  0.182341   \n",
       "Sharpe      0.263379  0.398552  0.449491  0.503872  0.478861  0.509024   \n",
       "t_stat      1.958547  2.963726  3.342519  3.746909  3.560920  3.785217   \n",
       "\n",
       "              rx_IP4    rx_IP3    rx_IP2    rx_IP1  \n",
       "Avg. rx     0.092855  0.094356  0.091378  0.102030  \n",
       "Volatility  0.185405  0.190584  0.196439  0.216209  \n",
       "Sharpe      0.499636  0.493919  0.464070  0.470786  \n",
       "t_stat      3.715412  3.672899  3.450929  3.500876  "
      ]
     },
     "execution_count": 1276,
     "metadata": {},
     "output_type": "execute_result"
    }
   ],
   "source": [
    "stats_func = lambda x: pd.Series([np.mean(x)*12, np.std(x)*3.46, np.mean(x)*3.46/np.std(x), \n",
    "                                  (np.mean(x)/np.std(x))*np.sqrt(len(x))],\n",
    "                                 index=['Avg. rx', 'Volatility', 'Sharpe', 't_stat'])\n",
    "IP_factors[rx_labels[::-1]].apply(stats_func)"
   ]
  },
  {
   "cell_type": "code",
   "execution_count": 1277,
   "metadata": {
    "ExecuteTime": {
     "end_time": "2021-03-16T17:04:30.292139Z",
     "start_time": "2021-03-16T17:04:30.091627Z"
    }
   },
   "outputs": [
    {
     "data": {
      "text/plain": [
       "Text(0.5, 1.0, 'Inflation Risk - Long Short Portfolio Performance')"
      ]
     },
     "execution_count": 1277,
     "metadata": {},
     "output_type": "execute_result"
    },
    {
     "data": {
      "image/png": "[encoded data removed]",
      "text/plain": [
       "<Figure size 864x720 with 1 Axes>"
      ]
     },
     "metadata": {},
     "output_type": "display_data"
    }
   ],
   "source": [
    "IP_factors['IPLH'].cumsum().plot()\n",
    "plt.title('Inflation Risk - Long Short Portfolio Performance')"
   ]
  },
  {
   "cell_type": "markdown",
   "metadata": {},
   "source": [
    "**Quantifying the ex-post Inflation betas for the sorted portfolios**"
   ]
  },
  {
   "cell_type": "code",
   "execution_count": 1284,
   "metadata": {
    "ExecuteTime": {
     "end_time": "2021-03-16T17:07:41.375989Z",
     "start_time": "2021-03-16T17:07:41.330083Z"
    },
    "scrolled": false
   },
   "outputs": [
    {
     "data": {
      "text/html": [
       "<div>\n",
       "<style scoped>\n",
       "    .dataframe tbody tr th:only-of-type {\n",
       "        vertical-align: middle;\n",
       "    }\n",
       "\n",
       "    .dataframe tbody tr th {\n",
       "        vertical-align: top;\n",
       "    }\n",
       "\n",
       "    .dataframe thead th {\n",
       "        text-align: right;\n",
       "    }\n",
       "</style>\n",
       "<table border=\"1\" class=\"dataframe\">\n",
       "  <thead>\n",
       "    <tr style=\"text-align: right;\">\n",
       "      <th></th>\n",
       "      <th>rx_IP10</th>\n",
       "      <th>rx_IP9</th>\n",
       "      <th>rx_IP8</th>\n",
       "      <th>rx_IP7</th>\n",
       "      <th>rx_IP6</th>\n",
       "      <th>rx_IP5</th>\n",
       "      <th>rx_IP4</th>\n",
       "      <th>rx_IP3</th>\n",
       "      <th>rx_IP2</th>\n",
       "      <th>rx_IP1</th>\n",
       "    </tr>\n",
       "  </thead>\n",
       "  <tbody>\n",
       "    <tr>\n",
       "      <th>Ex-post inflation_betas</th>\n",
       "      <td>0.023165</td>\n",
       "      <td>-0.726516</td>\n",
       "      <td>-1.39355</td>\n",
       "      <td>-1.729956</td>\n",
       "      <td>-2.041365</td>\n",
       "      <td>-2.070434</td>\n",
       "      <td>-2.217994</td>\n",
       "      <td>-2.771746</td>\n",
       "      <td>-2.766618</td>\n",
       "      <td>-3.216173</td>\n",
       "    </tr>\n",
       "  </tbody>\n",
       "</table>\n",
       "</div>"
      ],
      "text/plain": [
       "                          rx_IP10    rx_IP9   rx_IP8    rx_IP7    rx_IP6  \\\n",
       "Ex-post inflation_betas  0.023165 -0.726516 -1.39355 -1.729956 -2.041365   \n",
       "\n",
       "                           rx_IP5    rx_IP4    rx_IP3    rx_IP2    rx_IP1  \n",
       "Ex-post inflation_betas -2.070434 -2.217994 -2.771746 -2.766618 -3.216173  "
      ]
     },
     "execution_count": 1284,
     "metadata": {},
     "output_type": "execute_result"
    }
   ],
   "source": [
    "beta_func = lambda x: sm.OLS(x, sm.add_constant(IP_factors.loc[:'2014/12','cpi_surprise']),\n",
    "                             missing='drop').fit().params[1]\n",
    "\n",
    "IP_factors.loc[:'2014/12',rx_labels[::-1]].apply(beta_func).to_frame('Ex-post inflation_betas').T"
   ]
  },
  {
   "cell_type": "code",
   "execution_count": 1279,
   "metadata": {
    "ExecuteTime": {
     "end_time": "2021-03-16T17:04:39.216203Z",
     "start_time": "2021-03-16T17:04:39.198220Z"
    },
    "scrolled": true
   },
   "outputs": [
    {
     "data": {
      "text/html": [
       "<div>\n",
       "<style scoped>\n",
       "    .dataframe tbody tr th:only-of-type {\n",
       "        vertical-align: middle;\n",
       "    }\n",
       "\n",
       "    .dataframe tbody tr th {\n",
       "        vertical-align: top;\n",
       "    }\n",
       "\n",
       "    .dataframe thead th {\n",
       "        text-align: right;\n",
       "    }\n",
       "</style>\n",
       "<table border=\"1\" class=\"dataframe\">\n",
       "  <thead>\n",
       "    <tr style=\"text-align: right;\">\n",
       "      <th></th>\n",
       "      <th>IPHL</th>\n",
       "      <th>IPLH</th>\n",
       "    </tr>\n",
       "  </thead>\n",
       "  <tbody>\n",
       "    <tr>\n",
       "      <th>Ex-post inflation_betas</th>\n",
       "      <td>3.112359</td>\n",
       "      <td>-3.112359</td>\n",
       "    </tr>\n",
       "  </tbody>\n",
       "</table>\n",
       "</div>"
      ],
      "text/plain": [
       "                             IPHL      IPLH\n",
       "Ex-post inflation_betas  3.112359 -3.112359"
      ]
     },
     "execution_count": 1279,
     "metadata": {},
     "output_type": "execute_result"
    }
   ],
   "source": [
    "IP_factors[['IPHL','IPLH']].apply(beta_func).to_frame('Ex-post inflation_betas').T"
   ]
  },
  {
   "cell_type": "markdown",
   "metadata": {},
   "source": [
    "**Misc. asset pricing tests, by aggregating with stable portfolios**"
   ]
  },
  {
   "cell_type": "code",
   "execution_count": 1258,
   "metadata": {
    "ExecuteTime": {
     "end_time": "2021-03-16T00:37:42.346242Z",
     "start_time": "2021-03-16T00:37:38.413792Z"
    },
    "run_control": {
     "marked": true
    }
   },
   "outputs": [],
   "source": [
    "factors = pd.concat([ff_factors, mom_factor, extra_df], axis=1)\n",
    "factors.rename(columns={'Mkt-RF': 'MKT_RF', 'US10Y':'US10Y_RF'}, inplace=True)\n",
    "factors['US10Y_RF'] = factors['US10Y_RF'].sub(factors['RF'].shift(1), axis=0)\n",
    "reg_data = pd.concat([factors, IP_factors['IPLH'], stab_data['SMU']], axis=1).dropna()\n",
    "reg_data['IPSMU'] = reg_data[['IPLH','SMU']].average(axis=1)\n",
    "\n",
    "\n",
    "fut_df = pd.read_excel('futures_data.xlsx', index_col=0).pct_change(1).dropna()\n",
    "mkt_rf = data.DataReader('F-F_Research_Data_Factors_daily', 'famafrench', '1920-01-01')[0][['Mkt-RF']]/100\n",
    "mkt_rf.columns = ['MKT_RF']\n",
    "eq_shock_df = pd.concat([mkt_rf['MKT_RF'], fut_df['US1 Comdty']], axis=1).dropna()"
   ]
  },
  {
   "cell_type": "code",
   "execution_count": 1273,
   "metadata": {
    "ExecuteTime": {
     "end_time": "2021-03-16T15:54:46.050560Z",
     "start_time": "2021-03-16T15:54:45.918913Z"
    }
   },
   "outputs": [
    {
     "data": {
      "text/html": [
       "<table class=\"simpletable\">\n",
       "<tr>\n",
       "      <td></td>        <th>IPSMU I</th>  <th>IPSMU II</th>   <th>IPSMU III</th> <th>IPSMU IIII</th>\n",
       "</tr>\n",
       "<tr>\n",
       "  <th>Intercept</th>  <td>0.0050***</td>  <td>0.0023</td>    <td>0.0040**</td>    <td>0.0017</td>  \n",
       "</tr>\n",
       "<tr>\n",
       "  <th></th>           <td>(0.0016)</td>  <td>(0.0017)</td>   <td>(0.0016)</td>   <td>(0.0016)</td> \n",
       "</tr>\n",
       "<tr>\n",
       "  <th>MKT_RF</th>    <td>-0.2383***</td>     <td></td>      <td>-0.2041***</td>   <td>-0.0498</td> \n",
       "</tr>\n",
       "<tr>\n",
       "  <th></th>           <td>(0.0345)</td>      <td></td>       <td>(0.0353)</td>   <td>(0.0451)</td> \n",
       "</tr>\n",
       "<tr>\n",
       "  <th>US10Y_RF</th>       <td></td>      <td>0.3869***</td>  <td>0.2616***</td>      <td></td>     \n",
       "</tr>\n",
       "<tr>\n",
       "  <th></th>               <td></td>      <td>(0.0774)</td>   <td>(0.0765)</td>       <td></td>     \n",
       "</tr>\n",
       "<tr>\n",
       "  <th>SMB</th>            <td></td>          <td></td>           <td></td>        <td>0.0303</td>  \n",
       "</tr>\n",
       "<tr>\n",
       "  <th></th>               <td></td>          <td></td>           <td></td>       <td>(0.0549)</td> \n",
       "</tr>\n",
       "<tr>\n",
       "  <th>HML</th>            <td></td>          <td></td>           <td></td>        <td>0.1282*</td> \n",
       "</tr>\n",
       "<tr>\n",
       "  <th></th>               <td></td>          <td></td>           <td></td>       <td>(0.0697)</td> \n",
       "</tr>\n",
       "<tr>\n",
       "  <th>RMW</th>            <td></td>          <td></td>           <td></td>      <td>-0.2650***</td>\n",
       "</tr>\n",
       "<tr>\n",
       "  <th></th>               <td></td>          <td></td>           <td></td>       <td>(0.0974)</td> \n",
       "</tr>\n",
       "<tr>\n",
       "  <th>CMA</th>            <td></td>          <td></td>           <td></td>        <td>0.0468</td>  \n",
       "</tr>\n",
       "<tr>\n",
       "  <th></th>               <td></td>          <td></td>           <td></td>       <td>(0.0962)</td> \n",
       "</tr>\n",
       "<tr>\n",
       "  <th>MOM</th>            <td></td>          <td></td>           <td></td>       <td>0.0756**</td> \n",
       "</tr>\n",
       "<tr>\n",
       "  <th></th>               <td></td>          <td></td>           <td></td>       <td>(0.0332)</td> \n",
       "</tr>\n",
       "<tr>\n",
       "  <th>QMJ</th>            <td></td>          <td></td>           <td></td>       <td>0.5555***</td>\n",
       "</tr>\n",
       "<tr>\n",
       "  <th></th>               <td></td>          <td></td>           <td></td>       <td>(0.1070)</td> \n",
       "</tr>\n",
       "<tr>\n",
       "  <th>R-squared</th>   <td>0.1403</td>    <td>0.0771</td>     <td>0.1713</td>     <td>0.2496</td>  \n",
       "</tr>\n",
       "<tr>\n",
       "  <th></th>            <td>0.1433</td>    <td>0.0803</td>     <td>0.1770</td>     <td>0.2680</td>  \n",
       "</tr>\n",
       "</table>"
      ],
      "text/plain": [
       "<class 'statsmodels.iolib.summary2.Summary'>\n",
       "\"\"\"\n",
       "\n",
       "====================================================\n",
       "           IPSMU I    IPSMU II IPSMU III  IPSMU IIII\n",
       "----------------------------------------------------\n",
       "Intercept 0.0050***  0.0023    0.0040**   0.0017    \n",
       "          (0.0016)   (0.0017)  (0.0016)   (0.0016)  \n",
       "MKT_RF    -0.2383***           -0.2041*** -0.0498   \n",
       "          (0.0345)             (0.0353)   (0.0451)  \n",
       "US10Y_RF             0.3869*** 0.2616***            \n",
       "                     (0.0774)  (0.0765)             \n",
       "SMB                                       0.0303    \n",
       "                                          (0.0549)  \n",
       "HML                                       0.1282*   \n",
       "                                          (0.0697)  \n",
       "RMW                                       -0.2650***\n",
       "                                          (0.0974)  \n",
       "CMA                                       0.0468    \n",
       "                                          (0.0962)  \n",
       "MOM                                       0.0756**  \n",
       "                                          (0.0332)  \n",
       "QMJ                                       0.5555*** \n",
       "                                          (0.1070)  \n",
       "R-squared 0.1403     0.0771    0.1713     0.2496    \n",
       "          0.1433     0.0803    0.1770     0.2680    \n",
       "====================================================\n",
       "Standard errors in parentheses.\n",
       "* p<.1, ** p<.05, ***p<.01\n",
       "\"\"\""
      ]
     },
     "execution_count": 1273,
     "metadata": {},
     "output_type": "execute_result"
    }
   ],
   "source": [
    "models = ['IPSMU ~ MKT_RF', 'IPSMU ~ US10Y_RF', 'IPSMU ~ MKT_RF + US10Y_RF', \n",
    "          'IPSMU ~ MKT_RF + SMB + HML + RMW + CMA + MOM + QMJ']\n",
    "orders = ['Intercept', 'MKT_RF', 'US10Y_RF', 'SMB', 'HML', 'RMW', 'CMA', 'MOM', 'QMJ']\n",
    "\n",
    "model_list = []\n",
    "\n",
    "for model in models:\n",
    "    model_list.append(smf.ols(model, reg_data).fit())\n",
    "output = summary_col(model_list,\n",
    "                     stars = True, \n",
    "                     regressor_order = orders)\n",
    "output"
   ]
  },
  {
   "cell_type": "code",
   "execution_count": 1268,
   "metadata": {
    "ExecuteTime": {
     "end_time": "2021-03-16T00:41:32.418403Z",
     "start_time": "2021-03-16T00:41:32.309694Z"
    }
   },
   "outputs": [
    {
     "data": {
      "text/html": [
       "<table class=\"simpletable\">\n",
       "<tr>\n",
       "      <td></td>        <th>SMU I</th>   <th>SMU II</th>   <th>SMU III</th> <th>SMU IIII</th> \n",
       "</tr>\n",
       "<tr>\n",
       "  <th>Intercept</th> <td>0.0031**</td> <td>0.0030**</td>  <td>0.0025</td>  <td>0.0034**</td> \n",
       "</tr>\n",
       "<tr>\n",
       "  <th></th>          <td>(0.0015)</td> <td>(0.0015)</td> <td>(0.0015)</td> <td>(0.0014)</td> \n",
       "</tr>\n",
       "<tr>\n",
       "  <th>MKT_RF</th>     <td>0.0477</td>      <td></td>     <td>0.0677**</td>  <td>-0.0085</td> \n",
       "</tr>\n",
       "<tr>\n",
       "  <th></th>          <td>(0.0323)</td>     <td></td>     <td>(0.0335)</td> <td>(0.0408)</td> \n",
       "</tr>\n",
       "<tr>\n",
       "  <th>US10Y_RF</th>      <td></td>      <td>0.1119</td>  <td>0.1535**</td>     <td></td>     \n",
       "</tr>\n",
       "<tr>\n",
       "  <th></th>              <td></td>     <td>(0.0700)</td> <td>(0.0726)</td>     <td></td>     \n",
       "</tr>\n",
       "<tr>\n",
       "  <th>SMB</th>           <td></td>         <td></td>         <td></td>     <td>0.2095***</td>\n",
       "</tr>\n",
       "<tr>\n",
       "  <th></th>              <td></td>         <td></td>         <td></td>     <td>(0.0497)</td> \n",
       "</tr>\n",
       "<tr>\n",
       "  <th>HML</th>           <td></td>         <td></td>         <td></td>     <td>-0.1466**</td>\n",
       "</tr>\n",
       "<tr>\n",
       "  <th></th>              <td></td>         <td></td>         <td></td>     <td>(0.0630)</td> \n",
       "</tr>\n",
       "<tr>\n",
       "  <th>RMW</th>           <td></td>         <td></td>         <td></td>      <td>-0.0827</td> \n",
       "</tr>\n",
       "<tr>\n",
       "  <th></th>              <td></td>         <td></td>         <td></td>     <td>(0.0882)</td> \n",
       "</tr>\n",
       "<tr>\n",
       "  <th>CMA</th>           <td></td>         <td></td>         <td></td>     <td>-0.2041**</td>\n",
       "</tr>\n",
       "<tr>\n",
       "  <th></th>              <td></td>         <td></td>         <td></td>     <td>(0.0870)</td> \n",
       "</tr>\n",
       "<tr>\n",
       "  <th>MOM</th>           <td></td>         <td></td>         <td></td>      <td>0.0293</td>  \n",
       "</tr>\n",
       "<tr>\n",
       "  <th></th>              <td></td>         <td></td>         <td></td>     <td>(0.0301)</td> \n",
       "</tr>\n",
       "<tr>\n",
       "  <th>QMJ</th>           <td></td>         <td></td>         <td></td>      <td>0.0823</td>  \n",
       "</tr>\n",
       "<tr>\n",
       "  <th></th>              <td></td>         <td></td>         <td></td>     <td>(0.0968)</td> \n",
       "</tr>\n",
       "<tr>\n",
       "  <th>R-squared</th>  <td>0.0041</td>   <td>0.0054</td>   <td>0.0160</td>   <td>0.1912</td>  \n",
       "</tr>\n",
       "<tr>\n",
       "  <th></th>           <td>0.0076</td>   <td>0.0088</td>   <td>0.0229</td>   <td>0.2109</td>  \n",
       "</tr>\n",
       "</table>"
      ],
      "text/plain": [
       "<class 'statsmodels.iolib.summary2.Summary'>\n",
       "\"\"\"\n",
       "\n",
       "==============================================\n",
       "           SMU I    SMU II  SMU III   SMU IIII\n",
       "----------------------------------------------\n",
       "Intercept 0.0031** 0.0030** 0.0025   0.0034** \n",
       "          (0.0015) (0.0015) (0.0015) (0.0014) \n",
       "MKT_RF    0.0477            0.0677** -0.0085  \n",
       "          (0.0323)          (0.0335) (0.0408) \n",
       "US10Y_RF           0.1119   0.1535**          \n",
       "                   (0.0700) (0.0726)          \n",
       "SMB                                  0.2095***\n",
       "                                     (0.0497) \n",
       "HML                                  -0.1466**\n",
       "                                     (0.0630) \n",
       "RMW                                  -0.0827  \n",
       "                                     (0.0882) \n",
       "CMA                                  -0.2041**\n",
       "                                     (0.0870) \n",
       "MOM                                  0.0293   \n",
       "                                     (0.0301) \n",
       "QMJ                                  0.0823   \n",
       "                                     (0.0968) \n",
       "R-squared 0.0041   0.0054   0.0160   0.1912   \n",
       "          0.0076   0.0088   0.0229   0.2109   \n",
       "==============================================\n",
       "Standard errors in parentheses.\n",
       "* p<.1, ** p<.05, ***p<.01\n",
       "\"\"\""
      ]
     },
     "execution_count": 1268,
     "metadata": {},
     "output_type": "execute_result"
    }
   ],
   "source": [
    "models = ['SMU ~ MKT_RF', 'SMU ~ US10Y_RF', 'SMU ~ MKT_RF + US10Y_RF', \n",
    "          'SMU ~ MKT_RF + SMB + HML + RMW + CMA + MOM + QMJ']\n",
    "orders = ['Intercept', 'MKT_RF', 'US10Y_RF', 'SMB', 'HML', 'RMW', 'CMA', 'MOM', 'QMJ']\n",
    "\n",
    "model_list = []\n",
    "\n",
    "for model in models:\n",
    "    model_list.append(smf.ols(model, reg_data).fit())\n",
    "output = summary_col(model_list,\n",
    "                     stars = True, regressor_order = orders)\n",
    "output"
   ]
  }
 ],
 "metadata": {
  "kernelspec": {
   "display_name": "Python 3",
   "language": "python",
   "name": "python3"
  },
  "language_info": {
   "codemirror_mode": {
    "name": "ipython",
    "version": 3
   },
   "file_extension": ".py",
   "mimetype": "text/x-python",
   "name": "python",
   "nbconvert_exporter": "python",
   "pygments_lexer": "ipython3",
   "version": "3.7.6"
  },
  "latex_envs": {
   "LaTeX_envs_menu_present": true,
   "autoclose": false,
   "autocomplete": true,
   "bibliofile": "biblio.bib",
   "cite_by": "apalike",
   "current_citInitial": 1,
   "eqLabelWithNumbers": true,
   "eqNumInitial": 1,
   "hotkeys": {
    "equation": "Ctrl-E",
    "itemize": "Ctrl-I"
   },
   "labels_anchors": false,
   "latex_user_defs": false,
   "report_style_numbering": false,
   "user_envs_cfg": false
  }
 },
 "nbformat": 4,
 "nbformat_minor": 4
}
