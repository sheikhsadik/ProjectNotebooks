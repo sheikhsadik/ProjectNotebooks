{
 "cells": [
  {
   "cell_type": "code",
   "execution_count": 1,
   "metadata": {
    "ExecuteTime": {
     "end_time": "2021-02-25T16:03:01.367269Z",
     "start_time": "2021-02-25T16:03:00.211517Z"
    }
   },
   "outputs": [
    {
     "name": "stdout",
     "output_type": "stream",
     "text": [
      "Populating the interactive namespace from numpy and matplotlib\n"
     ]
    }
   ],
   "source": [
    "%reset -f\n",
    "%pylab inline\n",
    "pylab.rcParams['figure.figsize'] = (12,10) # setting default figure size\n",
    "pylab.style.use('ggplot') # setting style"
   ]
  },
  {
   "cell_type": "markdown",
   "metadata": {},
   "source": [
    "**Import necessary libraries**"
   ]
  },
  {
   "cell_type": "code",
   "execution_count": 2,
   "metadata": {
    "ExecuteTime": {
     "end_time": "2021-02-25T16:03:03.932834Z",
     "start_time": "2021-02-25T16:03:01.368266Z"
    }
   },
   "outputs": [
    {
     "name": "stderr",
     "output_type": "stream",
     "text": [
      "C:\\Users\\sheha\\anaconda3\\lib\\site-packages\\pandas_datareader\\compat\\__init__.py:7: FutureWarning: pandas.util.testing is deprecated. Use the functions in the public API at pandas.testing instead.\n",
      "  from pandas.util.testing import assert_frame_equal\n"
     ]
    },
    {
     "name": "stdout",
     "output_type": "stream",
     "text": [
      "Loading library list...\n",
      "Done\n"
     ]
    }
   ],
   "source": [
    "import numpy as np\n",
    "import pandas as pd\n",
    "import matplotlib.pyplot as plt\n",
    "from pandas.tseries.offsets import *\n",
    "from datetime import datetime as dt\n",
    "from pandas_datareader import data, famafrench\n",
    "import wrds\n",
    "\n",
    "db = wrds.Connection(wrds_username='fannywu')"
   ]
  },
  {
   "cell_type": "markdown",
   "metadata": {},
   "source": [
    "**Let's query out the compustat blocks**\n",
    "\n",
    "There are two data pulls from compustat in this case, one is related to annual fundamental as defined in the first query and the next one being quarterly data for calculating the variable `evol`\n",
    "\n",
    "The annual variable ids are as follows (without COMPUSTAT info),\n",
    "- `revt, cogs, at, lt, dp, act, lct` \n",
    "- `che, dlc, dltt, txp, mib, pstkrv, pstkl, pstk, pi`\n",
    "- `txditc, revt, seq, ceq, ib, txdi, dvp, dvc`\n",
    "\n",
    "The quarterly variable ids are as follows (without COMPUSTAT info),\n",
    "- `ceqq, seqq, atq, ltq, mibq, ibq`\n",
    "\n"
   ]
  },
  {
   "cell_type": "code",
   "execution_count": 3,
   "metadata": {
    "ExecuteTime": {
     "end_time": "2021-02-25T16:06:30.815070Z",
     "start_time": "2021-02-25T16:03:03.934829Z"
    },
    "run_control": {
     "marked": true
    }
   },
   "outputs": [],
   "source": [
    "# annual fundamental data \n",
    "compa_block_query = \"\"\"\n",
    "                   select gvkey, datadate, revt, cogs, at, lt, dp, act, lct,\n",
    "                   che, dlc, dltt, txp, mib, pstkrv, pstkl, pstk, pi,\n",
    "                   txditc, revt, seq, ceq, ib, txdi, dvp, dvc\n",
    "                   from comp.funda\n",
    "                   where indfmt='INDL'\n",
    "                   and datafmt='STD'\n",
    "                   and popsrc='D'\n",
    "                   and consol='C'\n",
    "                   and datadate >= '01/01/1920' and datadate <= '12/31/2020'\n",
    "                   \"\"\"\n",
    "\n",
    "# quarterly fundamental data for 'evol'\n",
    "compq_block_query = \"\"\"\n",
    "                   select gvkey, datadate, ceqq, seqq,\n",
    "                   atq, ltq, mibq, ibq\n",
    "                   from comp.fundq\n",
    "                   where indfmt='INDL'\n",
    "                   and datafmt='STD'\n",
    "                   and popsrc='D'\n",
    "                   and consol='C'\n",
    "                   and datadate >= '01/01/1920' and datadate <= '12/31/2020'\n",
    "                   \"\"\"\n",
    "\n",
    "# compa_df = db.raw_sql(compa_block_query)\n",
    "# compq_df = db.raw_sql(compq_block_query)\n",
    "# compa_df.to_pickle('compa_df.pkl')\n",
    "# compq_df.to_pickle('compa_df.pkl')\n",
    "\n",
    "compa_df = pd.read_pickle('compa_df.pkl')\n",
    "compq_df = pd.read_pickle('compq_df.pkl')"
   ]
  },
  {
   "cell_type": "code",
   "execution_count": 4,
   "metadata": {
    "ExecuteTime": {
     "end_time": "2021-02-25T16:06:30.909984Z",
     "start_time": "2021-02-25T16:06:30.816036Z"
    },
    "run_control": {
     "marked": true
    }
   },
   "outputs": [
    {
     "data": {
      "text/html": [
       "<div>\n",
       "<style scoped>\n",
       "    .dataframe tbody tr th:only-of-type {\n",
       "        vertical-align: middle;\n",
       "    }\n",
       "\n",
       "    .dataframe tbody tr th {\n",
       "        vertical-align: top;\n",
       "    }\n",
       "\n",
       "    .dataframe thead th {\n",
       "        text-align: right;\n",
       "    }\n",
       "</style>\n",
       "<table border=\"1\" class=\"dataframe\">\n",
       "  <thead>\n",
       "    <tr style=\"text-align: right;\">\n",
       "      <th></th>\n",
       "      <th>gvkey</th>\n",
       "      <th>permno</th>\n",
       "      <th>linktype</th>\n",
       "      <th>linkprim</th>\n",
       "      <th>linkdt</th>\n",
       "      <th>linkenddt</th>\n",
       "    </tr>\n",
       "  </thead>\n",
       "  <tbody>\n",
       "    <tr>\n",
       "      <th>0</th>\n",
       "      <td>001000</td>\n",
       "      <td>25881.0</td>\n",
       "      <td>LU</td>\n",
       "      <td>P</td>\n",
       "      <td>1970-11-13</td>\n",
       "      <td>1978-06-30</td>\n",
       "    </tr>\n",
       "    <tr>\n",
       "      <th>1</th>\n",
       "      <td>001001</td>\n",
       "      <td>10015.0</td>\n",
       "      <td>LU</td>\n",
       "      <td>P</td>\n",
       "      <td>1983-09-20</td>\n",
       "      <td>1986-07-31</td>\n",
       "    </tr>\n",
       "    <tr>\n",
       "      <th>2</th>\n",
       "      <td>001002</td>\n",
       "      <td>10023.0</td>\n",
       "      <td>LC</td>\n",
       "      <td>C</td>\n",
       "      <td>1972-12-14</td>\n",
       "      <td>1973-06-05</td>\n",
       "    </tr>\n",
       "    <tr>\n",
       "      <th>3</th>\n",
       "      <td>001003</td>\n",
       "      <td>10031.0</td>\n",
       "      <td>LU</td>\n",
       "      <td>C</td>\n",
       "      <td>1983-12-07</td>\n",
       "      <td>1989-08-16</td>\n",
       "    </tr>\n",
       "    <tr>\n",
       "      <th>4</th>\n",
       "      <td>001004</td>\n",
       "      <td>54594.0</td>\n",
       "      <td>LU</td>\n",
       "      <td>P</td>\n",
       "      <td>1972-04-24</td>\n",
       "      <td>None</td>\n",
       "    </tr>\n",
       "    <tr>\n",
       "      <th>5</th>\n",
       "      <td>001005</td>\n",
       "      <td>61903.0</td>\n",
       "      <td>LU</td>\n",
       "      <td>C</td>\n",
       "      <td>1973-01-31</td>\n",
       "      <td>1983-01-31</td>\n",
       "    </tr>\n",
       "    <tr>\n",
       "      <th>6</th>\n",
       "      <td>001007</td>\n",
       "      <td>10058.0</td>\n",
       "      <td>LU</td>\n",
       "      <td>C</td>\n",
       "      <td>1973-10-01</td>\n",
       "      <td>1979-01-30</td>\n",
       "    </tr>\n",
       "    <tr>\n",
       "      <th>7</th>\n",
       "      <td>001007</td>\n",
       "      <td>10058.0</td>\n",
       "      <td>LU</td>\n",
       "      <td>P</td>\n",
       "      <td>1979-01-31</td>\n",
       "      <td>1984-09-28</td>\n",
       "    </tr>\n",
       "    <tr>\n",
       "      <th>8</th>\n",
       "      <td>001008</td>\n",
       "      <td>10066.0</td>\n",
       "      <td>LC</td>\n",
       "      <td>P</td>\n",
       "      <td>1983-08-25</td>\n",
       "      <td>1987-10-30</td>\n",
       "    </tr>\n",
       "    <tr>\n",
       "      <th>9</th>\n",
       "      <td>001009</td>\n",
       "      <td>10074.0</td>\n",
       "      <td>LC</td>\n",
       "      <td>C</td>\n",
       "      <td>1982-01-18</td>\n",
       "      <td>1996-03-13</td>\n",
       "    </tr>\n",
       "  </tbody>\n",
       "</table>\n",
       "</div>"
      ],
      "text/plain": [
       "    gvkey   permno linktype linkprim      linkdt   linkenddt\n",
       "0  001000  25881.0       LU        P  1970-11-13  1978-06-30\n",
       "1  001001  10015.0       LU        P  1983-09-20  1986-07-31\n",
       "2  001002  10023.0       LC        C  1972-12-14  1973-06-05\n",
       "3  001003  10031.0       LU        C  1983-12-07  1989-08-16\n",
       "4  001004  54594.0       LU        P  1972-04-24        None\n",
       "5  001005  61903.0       LU        C  1973-01-31  1983-01-31\n",
       "6  001007  10058.0       LU        C  1973-10-01  1979-01-30\n",
       "7  001007  10058.0       LU        P  1979-01-31  1984-09-28\n",
       "8  001008  10066.0       LC        P  1983-08-25  1987-10-30\n",
       "9  001009  10074.0       LC        C  1982-01-18  1996-03-13"
      ]
     },
     "execution_count": 4,
     "metadata": {},
     "output_type": "execute_result"
    }
   ],
   "source": [
    "ccm_query = \"\"\"\n",
    "            select gvkey, lpermno as permno, linktype, linkprim,\n",
    "            linkdt, linkenddt\n",
    "            from crsp.ccmxpf_linktable\n",
    "            where substr(linktype,1,1)='L'\n",
    "            and (linkprim ='C' or linkprim='P')\n",
    "            \"\"\"\n",
    "# ccm_df = db.raw_sql(ccm_query)\n",
    "# ccm_df.to_pickle('ccm_df.pkl')\n",
    "\n",
    "ccm_df = pd.read_pickle('ccm_df.pkl')\n",
    "ccm_df.head(10)"
   ]
  },
  {
   "cell_type": "markdown",
   "metadata": {},
   "source": [
    "**Pulling data from CRSP can be quite tricky, I simply modified a standard CRSP query from online**\n",
    "\n",
    "List of Variables:\n",
    "\n",
    "- `permno`: The de facto key to track any stock\n",
    "- `permco`: The de facto key for any company, the difference between `permno` and `permco` being that a single firm will always have one `permco`, however, they can have multiple share classes, thus can have multiple `permno`\n",
    "- `date`: Reporting date\n",
    "- `shrcd`: share code, we are only interested in share codes 10 and 11\n",
    "- `exchcd`: exchange code, we are interested in 1 and 3\n",
    "- `ret`: Stock returns\n",
    "- `retx`: Returns ex dividends\n",
    "- `shrout`: Shares outstanding\n",
    "- `prc`: Price\n",
    "\n",
    "The idea is to merge the monthly CRSP data `msf` with `msenames` to extract the sharecodes and exchange codes using left join. Also the share and exchange codes we are interested in are the ones where the reporting date is between `namedt` and `nameenddt`"
   ]
  },
  {
   "cell_type": "code",
   "execution_count": 1,
   "metadata": {
    "ExecuteTime": {
     "end_time": "2021-02-26T04:54:41.175579Z",
     "start_time": "2021-02-26T04:54:41.163611Z"
    }
   },
   "outputs": [],
   "source": [
    "crspd_query =  \"\"\"\n",
    "              select a.permno, a.permco, a.date, b.shrcd, b.exchcd, a.ret\n",
    "              from crsp.dsf as a\n",
    "              left join crsp.dsenames as b\n",
    "              on a.permno=b.permno\n",
    "              and b.namedt<=a.date\n",
    "              and a.date<=b.nameendt\n",
    "              where a.date between '01/01/1920' and '12/31/2020'\n",
    "              and b.exchcd between 1 and 3\n",
    "              \"\"\"\n",
    "crspd_df = db.raw_sql(crspd_query)"
   ]
  },
  {
   "cell_type": "code",
   "execution_count": 5,
   "metadata": {
    "ExecuteTime": {
     "end_time": "2021-02-25T16:08:20.083378Z",
     "start_time": "2021-02-25T16:06:30.910980Z"
    },
    "run_control": {
     "marked": true
    }
   },
   "outputs": [],
   "source": [
    "# crsp security price data\n",
    "crsp_query =  \"\"\"\n",
    "              select a.permno, a.permco, a.date, b.shrcd, b.exchcd,\n",
    "              a.ret, a.retx, a.shrout, a.prc, a.cfacshr\n",
    "              from crsp.msf as a\n",
    "              left join crsp.msenames as b\n",
    "              on a.permno=b.permno\n",
    "              and b.namedt<=a.date\n",
    "              and a.date<=b.nameendt\n",
    "              where a.date between '01/01/1920' and '12/31/2020'\n",
    "              and b.exchcd between 1 and 3\n",
    "              \"\"\"\n",
    "\n",
    "# crsp_df = db.raw_sql(crsp_query)\n",
    "# crsp_df.to_pickle('crsp_df.pkl')\n",
    "crsp_df = pd.read_pickle('crsp_df.pkl')\n",
    "\n",
    "crsp_df['date_me'] = crsp_df['date'] + MonthEnd(0)\n",
    "crsp_df[['permno', 'permco', 'shrcd', 'exchcd']] = crsp_df[['permno', 'permco', 'shrcd', 'exchcd']].astype(int)\n",
    "shrcd_ix = (crsp_df['shrcd'] == 10) | (crsp_df['shrcd'] == 11)\n",
    "crsp_df = crsp_df[shrcd_ix] "
   ]
  },
  {
   "cell_type": "markdown",
   "metadata": {},
   "source": [
    "**Dealing with delisted securities**\n",
    "\n",
    "Adjust the CRSP return by incorporating the delisted period return. Delisted return is the return of security after it is delisted.\n",
    "- It is calculated by comparing a value after delisting against the price on the security’s last trading date.\n",
    "- The value after delisting can include a price on another exchange or the total value of distributions to shareholders. \n",
    "- If there is no opportunity to trade a stock after delisting before it is declared worthless, the value after delisting is zero. \n",
    "- Delisting Returns are calculated similarly to total returns except that the value after delisting is used as the current price.\n",
    "\n",
    "**Negative Prices**\n",
    "\n",
    "Sometimes you see negative stock prices in CRSP. This means that there was no closing price available for that period. Instead, the bid/ask average was used. To distinguish the bid/ask averages from actual closing prices, CRSP puts a leading dash in front of the price when the bid/ask average was used. If neither price nor bid/ask average is available, Price or Bid/Ask Average is set to zero."
   ]
  },
  {
   "cell_type": "code",
   "execution_count": 6,
   "metadata": {
    "ExecuteTime": {
     "end_time": "2021-02-25T16:08:21.727939Z",
     "start_time": "2021-02-25T16:08:20.085375Z"
    },
    "run_control": {
     "marked": true
    }
   },
   "outputs": [],
   "source": [
    "delist_query = \"\"\"\n",
    "               select permno, dlret, dlstdt\n",
    "               from crsp.msedelist\n",
    "               \"\"\"\n",
    "\n",
    "# delist_df = db.raw_sql(delist_query)\n",
    "# delist_df.to_pickle('delist_df.pkl')\n",
    "delist_df = pd.read_pickle('delist_df.pkl')\n",
    "\n",
    "delist_df['permno'] = delist_df['permno'].astype(int)\n",
    "delist_df['dlstdt'] = pd.to_datetime(delist_df['dlstdt'])\n",
    "delist_df['date_me']  = delist_df['dlstdt'] + MonthEnd(0)\n",
    "\n",
    "crsp_df_ = crsp_df.merge(delist_df, how='left', on=['permno', 'date_me'])\n",
    "\n",
    "crsp_df_['ret'].fillna(0,inplace=True)\n",
    "crsp_df_['retx'].fillna(0,inplace=True)\n",
    "crsp_df_['dlret'].fillna(0,inplace=True)\n",
    "crsp_df_['ret_final'] = (1 + crsp_df_['ret'])*(1 + crsp_df_['dlret']) - 1\n",
    "crsp_df_['prc'] =  crsp_df_['prc'].abs()\n",
    "crsp_df_['mcap'] = crsp_df_['prc']*crsp_df_['shrout']\n",
    "crsp_df_.drop(['dlret','dlstdt','prc'], axis=1, inplace=True)"
   ]
  },
  {
   "cell_type": "markdown",
   "metadata": {},
   "source": [
    "PERMCO is a unique company level identifier that remains unchanged throughout the whole term of company’s existence even if the company changed name/s. PERMNO is a unique stock (share class) level identifier. While most of the companies have one class shares, some companies have more than one class shares traded at different prices, and this is the reason why a company can have more than one PERMNOs.\n",
    "\n",
    "**Getting the right PERMNOS**\n",
    "\n",
    "- For each data point, as in for each month and each PERMCO, calculate the maximum market cap availble\n",
    "- Inner join the maximum market cap vector back to the original dataframe to get the relevant PERMNO for the given PERMCO\n",
    "- Lastly, replace the max market cap vector with the sum of the market cap for each PERMCO at each date to get the appropriate market cap"
   ]
  },
  {
   "cell_type": "code",
   "execution_count": 7,
   "metadata": {
    "ExecuteTime": {
     "end_time": "2021-02-25T16:09:16.821905Z",
     "start_time": "2021-02-25T16:09:01.701325Z"
    },
    "scrolled": true
   },
   "outputs": [],
   "source": [
    "mcap_sum = crsp_df_.groupby(['date_me','permco'])['mcap'].sum().reset_index()\n",
    "mcap_max =  crsp_df_.groupby(['date_me','permco'])['mcap'].max().reset_index()\n",
    "crsp_df1_ = pd.merge(crsp_df_, mcap_max, how='inner', on=['date_me','permco', 'mcap'])\n",
    "crsp_df1_.drop('mcap', axis=1, inplace=True)\n",
    "crsp_df__ = crsp_df1_.merge(mcap_sum, how='inner', on=['date_me','permco']).\\\n",
    "                        sort_values(by=['permno','date_me']).drop_duplicates()"
   ]
  },
  {
   "cell_type": "markdown",
   "metadata": {},
   "source": [
    "**Calculating Fama French Value weights for each portfolio formation period**\n",
    "\n",
    "$$w_t = \\frac{(1+ret_{t-1})...(1+ret_{t-\\tau})ME_{0}}{\\sum_{n}(1+ret_{t-1})...(1+ret_{t-\\tau})ME_{0}} $$\n",
    "- $ME_{0}$ is market cap as of end of june\n",
    "- $(1+ret_{t-\\tau})$ is market cap as of end of july\n",
    "\n",
    "Let's start by tagging the dates first, \n"
   ]
  },
  {
   "cell_type": "code",
   "execution_count": 8,
   "metadata": {
    "ExecuteTime": {
     "end_time": "2021-02-25T16:09:20.252915Z",
     "start_time": "2021-02-25T16:09:19.108789Z"
    },
    "run_control": {
     "marked": true
    }
   },
   "outputs": [],
   "source": [
    "select_month = 6\n",
    "crsp_df__['year'] = crsp_df__['date_me'].dt.year\n",
    "crsp_df__['month'] = crsp_df__['date_me'].dt.month\n",
    "crsp_df__['date_ff'] = crsp_df__['date_me'] + MonthEnd(-select_month)\n",
    "crsp_df__['year_ff'] = crsp_df__['date_ff'].dt.year\n",
    "crsp_df__['month_ff'] = crsp_df__['date_ff'].dt.month"
   ]
  },
  {
   "cell_type": "markdown",
   "metadata": {},
   "source": [
    "- Next we calculate the adjusted market capitalization, that is the numerator of the previous equation"
   ]
  },
  {
   "cell_type": "code",
   "execution_count": 9,
   "metadata": {
    "ExecuteTime": {
     "end_time": "2021-02-25T16:10:59.882990Z",
     "start_time": "2021-02-25T16:09:21.045084Z"
    },
    "run_control": {
     "marked": true
    }
   },
   "outputs": [],
   "source": [
    "crsp_df__['cum_ret'] = crsp_df__.groupby(['permno', 'year_ff'])['ret'].apply(lambda x: (1+x).cumprod())\n",
    "crsp_df__['lag_cum_ret'] = crsp_df__.groupby(['permno'])['cum_ret'].shift(1)\n",
    "crsp_df__['lag_mcap'] = crsp_df__.groupby('permno')['mcap'].shift(1)\n",
    "\n",
    "crsp_df__['permno_count'] = crsp_df__.groupby('permno').cumcount()\n",
    "crsp_df__['lag_mcap'].mask(crsp_df__['permno_count'] == 0, \n",
    "                           crsp_df__['mcap']/(1+crsp_df__['ret']), \n",
    "                           inplace=True)\n",
    "\n",
    "mcap_base = crsp_df__.loc[crsp_df__['month_ff']==1,['permno', 'year_ff', 'lag_mcap']].\\\n",
    "                rename(columns={'lag_mcap': 'mcap_base'})\n",
    "\n",
    "crsp_final_df = crsp_df__.merge(mcap_base, how='left', on=['permno', 'year_ff'])\n",
    "crsp_final_df['mcap_adj'] = np.where(crsp_final_df['month_ff'] == 1, \n",
    "                                     crsp_final_df['lag_mcap'], \n",
    "                                     crsp_final_df['mcap_base']*crsp_final_df['lag_cum_ret'])"
   ]
  },
  {
   "cell_type": "markdown",
   "metadata": {},
   "source": [
    "**Let's also partition out a dataframe for the end of year market capitalization, to be used for variable calculation**"
   ]
  },
  {
   "cell_type": "code",
   "execution_count": 10,
   "metadata": {
    "ExecuteTime": {
     "end_time": "2021-02-25T16:11:00.336962Z",
     "start_time": "2021-02-25T16:10:59.884781Z"
    }
   },
   "outputs": [],
   "source": [
    "dec_mcap = crsp_final_df.loc[crsp_final_df['month']==12,:].copy()\n",
    "dec_mcap.rename(columns = {'mcap':'dec_mcap'},inplace=True)\n",
    "dec_mcap['year'] = dec_mcap['year'] + 1\n",
    "dec_mcap = dec_mcap.loc[:,['permno','year','dec_mcap']].copy()"
   ]
  },
  {
   "cell_type": "code",
   "execution_count": 11,
   "metadata": {
    "ExecuteTime": {
     "end_time": "2021-02-25T16:11:01.070830Z",
     "start_time": "2021-02-25T16:11:00.338788Z"
    }
   },
   "outputs": [],
   "source": [
    "crsp_mnth = pd.merge(crsp_final_df[crsp_final_df['month']==select_month].copy(), dec_mcap,\n",
    "                     how='inner', on=['permno', 'year']).sort_values(['permno', 'date_me']).drop_duplicates()"
   ]
  },
  {
   "cell_type": "markdown",
   "metadata": {},
   "source": [
    "**Calculating Financial Variables**"
   ]
  },
  {
   "cell_type": "code",
   "execution_count": 12,
   "metadata": {
    "ExecuteTime": {
     "end_time": "2021-02-25T16:11:02.429521Z",
     "start_time": "2021-02-25T16:11:01.071827Z"
    }
   },
   "outputs": [],
   "source": [
    "compa_df[['gvkey']] = compa_df[['gvkey']].astype(int)\n",
    "compa_df['datadate'] = pd.to_datetime(compa_df['datadate'])\n",
    "compa_df['year'] = compa_df['datadate'].dt.year\n",
    "\n",
    "# calculate value of preferred share - order: redemption > liquidiation > par value\n",
    "compa_df['pfs'] = np.where(compa_df['pstkrv'].isnull(),\n",
    "                          compa_df['pstkl'], \n",
    "                          compa_df['pstkrv'])\n",
    "compa_df['pfs'] = np.where(compa_df['pfs'].isnull(),\n",
    "                          compa_df['pstk'],\n",
    "                          compa_df['pfs'])\n",
    "compa_df['pfs'] = np.where(compa_df['pfs'].isnull(), \n",
    "                           0, compa_df['pfs'])\n",
    "# calculate book value: shareholders equity + balance sheet deferred taxes and investment tax credits minus preferred shares\n",
    "compa_df['be'] = (compa_df['seq'] + compa_df['txditc']*(~(compa_df['year']>2016)) - compa_df['pfs']).\\\n",
    "                            apply(lambda x: np.where(x <= 0, np.nan, x))"
   ]
  },
  {
   "cell_type": "markdown",
   "metadata": {
    "run_control": {
     "marked": true
    }
   },
   "source": [
    "**Merging Compustat with CRSP**\n",
    "\n",
    "- First we inner join `ccm_df` with `compam_df` to get the permno for a given gvkey\n",
    "- We use financial information up until the end of t-1 and form portfolios at June of year t, this gives us `date_me`\n",
    "- Next we sort the dataframe based on whether the `date_me` within the linked date ranges to ensure the permnos being used is valid\n",
    "- Inner join the CRSP final dataframe with the compustat file containing the permnos"
   ]
  },
  {
   "cell_type": "code",
   "execution_count": 13,
   "metadata": {
    "ExecuteTime": {
     "end_time": "2021-02-25T16:13:22.336566Z",
     "start_time": "2021-02-25T16:13:18.301361Z"
    },
    "run_control": {
     "marked": false
    }
   },
   "outputs": [],
   "source": [
    "t_0 = dt(dt.today().year, dt.today().month, dt.today().day)\n",
    "ccm_df[['linkdt', 'linkenddt']] = ccm_df[['linkdt', 'linkenddt']].replace({None: t_0})\n",
    "ccm_df[['gvkey', 'permno']] = ccm_df[['gvkey', 'permno']].astype(int)\n",
    "\n",
    "compam_df = compa_df.merge(ccm_df, how='inner', on='gvkey')\n",
    "compam_df['datadate'] = pd.to_datetime(compam_df['datadate'])\n",
    "compam_df['year'] = compam_df['datadate'].dt.year\n",
    "compam_df['date_me'] = compam_df['datadate'] + YearEnd(0) + MonthEnd(select_month)\n",
    "\n",
    "linkdt_bnds = (compam_df['date_me'] >= compam_df['linkdt']) & (compam_df['date_me'] <= compam_df['linkenddt'])\n",
    "ccompa_month = pd.merge(crsp_mnth, compam_df[linkdt_bnds], how='inner', on=['permno','date_me'])"
   ]
  },
  {
   "cell_type": "code",
   "execution_count": 14,
   "metadata": {
    "ExecuteTime": {
     "end_time": "2021-02-25T16:13:22.430542Z",
     "start_time": "2021-02-25T16:13:22.337563Z"
    }
   },
   "outputs": [],
   "source": [
    "ccompa_month['BM'] = (ccompa_month['be']*1000)/ccompa_month['dec_mcap']"
   ]
  },
  {
   "cell_type": "markdown",
   "metadata": {},
   "source": [
    "**Getting the NYSE Breakpoints**\n",
    "\n",
    "Conditions for the breakpoints:\n",
    "- Exchange code 1\n",
    "- Share code 10 and 11\n",
    "- book to market equity greater than 0\n",
    "- positive market cap\n",
    "- at least 2 years in compustat"
   ]
  },
  {
   "cell_type": "code",
   "execution_count": 15,
   "metadata": {
    "ExecuteTime": {
     "end_time": "2021-02-25T16:13:23.742307Z",
     "start_time": "2021-02-25T16:13:23.148902Z"
    },
    "run_control": {
     "marked": true
    }
   },
   "outputs": [],
   "source": [
    "prcntiles = [0.3, 0.7]\n",
    "\n",
    "nyse_ix = (ccompa_month['mcap'] > 0) & (ccompa_month['BM'] > 0) & (ccompa_month['exchcd'] == 1) & \\\n",
    "         ((ccompa_month['shrcd'] == 10) | (ccompa_month['shrcd'] == 11)) & (ccompa_month['permno_count'] >= 1)\n",
    "            \n",
    "nyse_szbucket = ccompa_month[nyse_ix].groupby('date_me')['mcap'].median().reset_index().\\\n",
    "                rename(columns={'mcap':'nyse_median'})\n",
    "nyse_bmbucket = ccompa_month[nyse_ix].groupby('date_me')['BM'].\\\n",
    "                describe(percentiles=prcntiles).reset_index()[['date_me','30%', '70%']]\n",
    "nyse_buckets = pd.merge(nyse_szbucket, nyse_bmbucket, how='inner', on=['date_me']).\\\n",
    "                rename(columns={'30%':'f30', '70%':'f70'})\n",
    "\n",
    "ccompa_month = ccompa_month.merge(nyse_buckets, how='left', on='date_me')"
   ]
  },
  {
   "cell_type": "code",
   "execution_count": 16,
   "metadata": {
    "ExecuteTime": {
     "end_time": "2021-02-25T16:14:13.789317Z",
     "start_time": "2021-02-25T16:13:23.937683Z"
    }
   },
   "outputs": [],
   "source": [
    "def szbucket(x):\n",
    "    if np.isnan(x['mcap']):\n",
    "        return ''\n",
    "    elif x['mcap'] <= x['nyse_median']:\n",
    "        return 'S'\n",
    "    else: return 'B'\n",
    "\n",
    "def bmbucket(x):\n",
    "    if (x['BM'] >= 0) & (x['BM'] <= x['f30']):\n",
    "        return 'L'\n",
    "    elif (x['BM'] > x['f30']) & (x['BM'] <= x['f70']):\n",
    "        return 'M'\n",
    "    elif (x['BM'] > x['f70']):\n",
    "        return 'H'\n",
    "    else: return ''\n",
    "\n",
    "port_ix = (ccompa_month['mcap'] > 0) & (ccompa_month['BM'] > 0) & (ccompa_month['permno_count'] >= 1)\n",
    "ccompa_month['szbucket'] = np.where(port_ix, ccompa_month.apply(szbucket, axis=1), '')\n",
    "ccompa_month['bmbucket'] = np.where(port_ix, ccompa_month.apply(bmbucket, axis=1), '')\n",
    "\n",
    "ccompa_month['posbm_tag'] = np.where(port_ix, 1, 0)\n",
    "ccompa_month['bm_tag'] = np.where(ccompa_month['bmbucket'] == '', 0, 1)"
   ]
  },
  {
   "cell_type": "markdown",
   "metadata": {},
   "source": [
    "**Merge back with monthly returns to get full time series**\n",
    "\n",
    "Keeping observations with available and positive bm, positive market cap and under `shrcd` 10 and 11 "
   ]
  },
  {
   "cell_type": "code",
   "execution_count": 17,
   "metadata": {
    "ExecuteTime": {
     "end_time": "2021-02-25T16:14:15.353120Z",
     "start_time": "2021-02-25T16:14:13.791274Z"
    }
   },
   "outputs": [
    {
     "name": "stderr",
     "output_type": "stream",
     "text": [
      "C:\\Users\\sheha\\anaconda3\\lib\\site-packages\\ipykernel_launcher.py:2: SettingWithCopyWarning: \n",
      "A value is trying to be set on a copy of a slice from a DataFrame.\n",
      "Try using .loc[row_indexer,col_indexer] = value instead\n",
      "\n",
      "See the caveats in the documentation: https://pandas.pydata.org/pandas-docs/stable/user_guide/indexing.html#returning-a-view-versus-a-copy\n",
      "  \n"
     ]
    }
   ],
   "source": [
    "portann_df = ccompa_month[['date', 'permno', 'date_me','szbucket', 'bmbucket', 'posbm_tag', 'bm_tag']]\n",
    "portann_df['year_ff'] = portann_df['date_me'].dt.year\n",
    "\n",
    "strat_cols1 = [ 'permno', 'year_ff','szbucket', 'bmbucket', 'posbm_tag', 'bm_tag']\n",
    "strat_cols2 = ['date', 'permno', 'shrcd', 'exchcd', 'ret_final', 'mcap','mcap_adj', 'cum_ret', 'year_ff', 'date_me']\n",
    "\n",
    "portmnth_df = pd.merge(crsp_final_df[strat_cols2], portann_df[strat_cols1], how='left', on=['permno','year_ff'])\n",
    "portmnth_ix = (portmnth_df['mcap_adj'] > 0) & (portmnth_df['posbm_tag'] == 1) & (portmnth_df['bm_tag'] == 1) & \\\n",
    "                ((portmnth_df['shrcd'] == 10) | (portmnth_df['shrcd'] == 11))\n",
    "portmnth_df = portmnth_df[portmnth_ix]"
   ]
  },
  {
   "cell_type": "markdown",
   "metadata": {
    "ExecuteTime": {
     "end_time": "2021-02-25T04:52:42.260748Z",
     "start_time": "2021-02-25T04:52:42.254764Z"
    }
   },
   "source": [
    "**Calculate the value weighted return**"
   ]
  },
  {
   "cell_type": "code",
   "execution_count": 18,
   "metadata": {
    "ExecuteTime": {
     "end_time": "2021-02-25T16:14:18.383024Z",
     "start_time": "2021-02-25T16:14:15.354095Z"
    },
    "run_control": {
     "marked": false
    }
   },
   "outputs": [
    {
     "data": {
      "text/html": [
       "<div>\n",
       "<style scoped>\n",
       "    .dataframe tbody tr th:only-of-type {\n",
       "        vertical-align: middle;\n",
       "    }\n",
       "\n",
       "    .dataframe tbody tr th {\n",
       "        vertical-align: top;\n",
       "    }\n",
       "\n",
       "    .dataframe thead th {\n",
       "        text-align: right;\n",
       "    }\n",
       "</style>\n",
       "<table border=\"1\" class=\"dataframe\">\n",
       "  <thead>\n",
       "    <tr style=\"text-align: right;\">\n",
       "      <th></th>\n",
       "      <th>date_me</th>\n",
       "      <th>szbucket</th>\n",
       "      <th>bmbucket</th>\n",
       "      <th>vw_ret</th>\n",
       "    </tr>\n",
       "  </thead>\n",
       "  <tbody>\n",
       "    <tr>\n",
       "      <th>0</th>\n",
       "      <td>1961-07-31</td>\n",
       "      <td>B</td>\n",
       "      <td>L</td>\n",
       "      <td>0.017327</td>\n",
       "    </tr>\n",
       "    <tr>\n",
       "      <th>1</th>\n",
       "      <td>1961-07-31</td>\n",
       "      <td>S</td>\n",
       "      <td>H</td>\n",
       "      <td>0.000000</td>\n",
       "    </tr>\n",
       "    <tr>\n",
       "      <th>2</th>\n",
       "      <td>1961-07-31</td>\n",
       "      <td>S</td>\n",
       "      <td>M</td>\n",
       "      <td>-0.022321</td>\n",
       "    </tr>\n",
       "    <tr>\n",
       "      <th>3</th>\n",
       "      <td>1961-08-31</td>\n",
       "      <td>B</td>\n",
       "      <td>L</td>\n",
       "      <td>0.021898</td>\n",
       "    </tr>\n",
       "    <tr>\n",
       "      <th>4</th>\n",
       "      <td>1961-08-31</td>\n",
       "      <td>S</td>\n",
       "      <td>H</td>\n",
       "      <td>0.119565</td>\n",
       "    </tr>\n",
       "  </tbody>\n",
       "</table>\n",
       "</div>"
      ],
      "text/plain": [
       "     date_me szbucket bmbucket    vw_ret\n",
       "0 1961-07-31        B        L  0.017327\n",
       "1 1961-07-31        S        H  0.000000\n",
       "2 1961-07-31        S        M -0.022321\n",
       "3 1961-08-31        B        L  0.021898\n",
       "4 1961-08-31        S        H  0.119565"
      ]
     },
     "execution_count": 18,
     "metadata": {},
     "output_type": "execute_result"
    }
   ],
   "source": [
    "def wavg(group, avg_name, weight_name):\n",
    "    d = group[avg_name]\n",
    "    w = group[weight_name]\n",
    "    try:\n",
    "        return (d * w).sum() / w.sum()\n",
    "    except ZeroDivisionError:\n",
    "        return np.nan\n",
    "    \n",
    "vw_ret_df = portmnth_df.groupby(['date_me', 'szbucket', 'bmbucket']).apply(wavg, 'ret_final', 'mcap_adj').\\\n",
    "                    reset_index().rename(columns={0: 'vw_ret'})\n",
    "vw_ret_df.head()"
   ]
  },
  {
   "cell_type": "code",
   "execution_count": 28,
   "metadata": {
    "ExecuteTime": {
     "end_time": "2021-02-25T16:16:35.956931Z",
     "start_time": "2021-02-25T16:16:35.901093Z"
    },
    "run_control": {
     "marked": true
    }
   },
   "outputs": [
    {
     "data": {
      "text/html": [
       "<div>\n",
       "<style scoped>\n",
       "    .dataframe tbody tr th:only-of-type {\n",
       "        vertical-align: middle;\n",
       "    }\n",
       "\n",
       "    .dataframe tbody tr th {\n",
       "        vertical-align: top;\n",
       "    }\n",
       "\n",
       "    .dataframe thead th {\n",
       "        text-align: right;\n",
       "    }\n",
       "</style>\n",
       "<table border=\"1\" class=\"dataframe\">\n",
       "  <thead>\n",
       "    <tr style=\"text-align: right;\">\n",
       "      <th>port_ids</th>\n",
       "      <th>BH</th>\n",
       "      <th>BL</th>\n",
       "      <th>BM</th>\n",
       "      <th>SH</th>\n",
       "      <th>SL</th>\n",
       "      <th>SM</th>\n",
       "      <th>HML</th>\n",
       "      <th>SMB</th>\n",
       "    </tr>\n",
       "  </thead>\n",
       "  <tbody>\n",
       "    <tr>\n",
       "      <th>count</th>\n",
       "      <td>702.000000</td>\n",
       "      <td>714.000000</td>\n",
       "      <td>702.000000</td>\n",
       "      <td>714.000000</td>\n",
       "      <td>702.000000</td>\n",
       "      <td>714.000000</td>\n",
       "      <td>702.000000</td>\n",
       "      <td>702.000000</td>\n",
       "    </tr>\n",
       "    <tr>\n",
       "      <th>mean</th>\n",
       "      <td>0.009932</td>\n",
       "      <td>0.009476</td>\n",
       "      <td>0.009108</td>\n",
       "      <td>0.012704</td>\n",
       "      <td>0.009837</td>\n",
       "      <td>0.011739</td>\n",
       "      <td>0.001941</td>\n",
       "      <td>0.002331</td>\n",
       "    </tr>\n",
       "    <tr>\n",
       "      <th>std</th>\n",
       "      <td>0.045797</td>\n",
       "      <td>0.045961</td>\n",
       "      <td>0.042594</td>\n",
       "      <td>0.059008</td>\n",
       "      <td>0.068452</td>\n",
       "      <td>0.056788</td>\n",
       "      <td>0.028531</td>\n",
       "      <td>0.032126</td>\n",
       "    </tr>\n",
       "    <tr>\n",
       "      <th>min</th>\n",
       "      <td>-0.259244</td>\n",
       "      <td>-0.230201</td>\n",
       "      <td>-0.206113</td>\n",
       "      <td>-0.292885</td>\n",
       "      <td>-0.327920</td>\n",
       "      <td>-0.289422</td>\n",
       "      <td>-0.136652</td>\n",
       "      <td>-0.165787</td>\n",
       "    </tr>\n",
       "    <tr>\n",
       "      <th>25%</th>\n",
       "      <td>-0.014567</td>\n",
       "      <td>-0.016275</td>\n",
       "      <td>-0.014860</td>\n",
       "      <td>-0.016516</td>\n",
       "      <td>-0.028789</td>\n",
       "      <td>-0.019908</td>\n",
       "      <td>-0.014326</td>\n",
       "      <td>-0.016295</td>\n",
       "    </tr>\n",
       "    <tr>\n",
       "      <th>50%</th>\n",
       "      <td>0.011862</td>\n",
       "      <td>0.011451</td>\n",
       "      <td>0.011679</td>\n",
       "      <td>0.016617</td>\n",
       "      <td>0.011953</td>\n",
       "      <td>0.015133</td>\n",
       "      <td>0.002503</td>\n",
       "      <td>0.000605</td>\n",
       "    </tr>\n",
       "    <tr>\n",
       "      <th>75%</th>\n",
       "      <td>0.035936</td>\n",
       "      <td>0.038116</td>\n",
       "      <td>0.033625</td>\n",
       "      <td>0.047341</td>\n",
       "      <td>0.050280</td>\n",
       "      <td>0.044925</td>\n",
       "      <td>0.017053</td>\n",
       "      <td>0.020092</td>\n",
       "    </tr>\n",
       "    <tr>\n",
       "      <th>max</th>\n",
       "      <td>0.210466</td>\n",
       "      <td>0.216052</td>\n",
       "      <td>0.169336</td>\n",
       "      <td>0.299016</td>\n",
       "      <td>0.310757</td>\n",
       "      <td>0.271376</td>\n",
       "      <td>0.131001</td>\n",
       "      <td>0.244069</td>\n",
       "    </tr>\n",
       "  </tbody>\n",
       "</table>\n",
       "</div>"
      ],
      "text/plain": [
       "port_ids          BH          BL          BM          SH          SL  \\\n",
       "count     702.000000  714.000000  702.000000  714.000000  702.000000   \n",
       "mean        0.009932    0.009476    0.009108    0.012704    0.009837   \n",
       "std         0.045797    0.045961    0.042594    0.059008    0.068452   \n",
       "min        -0.259244   -0.230201   -0.206113   -0.292885   -0.327920   \n",
       "25%        -0.014567   -0.016275   -0.014860   -0.016516   -0.028789   \n",
       "50%         0.011862    0.011451    0.011679    0.016617    0.011953   \n",
       "75%         0.035936    0.038116    0.033625    0.047341    0.050280   \n",
       "max         0.210466    0.216052    0.169336    0.299016    0.310757   \n",
       "\n",
       "port_ids          SM         HML         SMB  \n",
       "count     714.000000  702.000000  702.000000  \n",
       "mean        0.011739    0.001941    0.002331  \n",
       "std         0.056788    0.028531    0.032126  \n",
       "min        -0.289422   -0.136652   -0.165787  \n",
       "25%        -0.019908   -0.014326   -0.016295  \n",
       "50%         0.015133    0.002503    0.000605  \n",
       "75%         0.044925    0.017053    0.020092  \n",
       "max         0.271376    0.131001    0.244069  "
      ]
     },
     "execution_count": 28,
     "metadata": {},
     "output_type": "execute_result"
    }
   ],
   "source": [
    "vw_ret_df['port_ids'] = vw_ret_df['szbucket'] + vw_ret_df['bmbucket']\n",
    "ff_factors = vw_ret_df.pivot_table(values='vw_ret',index='date_me', columns='port_ids').reset_index()\n",
    "ff_factors['HML'] = (ff_factors['BH'] + ff_factors['SH'])/2 - (ff_factors['BL'] + ff_factors['SL'])/2\n",
    "ff_factors['SMB'] = (ff_factors['SL'] + ff_factors['SM'] + ff_factors['SH'])/3 - \\\n",
    "                            (ff_factors['BL'] + ff_factors['BM'] + ff_factors['BH'])/3\n",
    "ff_factors.index = ff_factors['date_me']\n",
    "ff_factors.drop('date_me', axis=1)\n",
    "ff_factors.describe()\n"
   ]
  },
  {
   "cell_type": "code",
   "execution_count": 55,
   "metadata": {
    "ExecuteTime": {
     "end_time": "2021-02-25T16:32:18.435824Z",
     "start_time": "2021-02-25T16:32:18.405906Z"
    }
   },
   "outputs": [
    {
     "data": {
      "text/html": [
       "<div>\n",
       "<style scoped>\n",
       "    .dataframe tbody tr th:only-of-type {\n",
       "        vertical-align: middle;\n",
       "    }\n",
       "\n",
       "    .dataframe tbody tr th {\n",
       "        vertical-align: top;\n",
       "    }\n",
       "\n",
       "    .dataframe thead th {\n",
       "        text-align: right;\n",
       "    }\n",
       "</style>\n",
       "<table border=\"1\" class=\"dataframe\">\n",
       "  <thead>\n",
       "    <tr style=\"text-align: right;\">\n",
       "      <th></th>\n",
       "      <th>HML</th>\n",
       "      <th>SMB</th>\n",
       "      <th>SMB_web</th>\n",
       "      <th>HML_web</th>\n",
       "    </tr>\n",
       "  </thead>\n",
       "  <tbody>\n",
       "    <tr>\n",
       "      <th>HML</th>\n",
       "      <td>1.000000</td>\n",
       "      <td>-0.229352</td>\n",
       "      <td>-0.204693</td>\n",
       "      <td>0.940349</td>\n",
       "    </tr>\n",
       "    <tr>\n",
       "      <th>SMB</th>\n",
       "      <td>-0.229352</td>\n",
       "      <td>1.000000</td>\n",
       "      <td>0.975430</td>\n",
       "      <td>-0.163688</td>\n",
       "    </tr>\n",
       "    <tr>\n",
       "      <th>SMB_web</th>\n",
       "      <td>-0.204693</td>\n",
       "      <td>0.975430</td>\n",
       "      <td>1.000000</td>\n",
       "      <td>-0.169599</td>\n",
       "    </tr>\n",
       "    <tr>\n",
       "      <th>HML_web</th>\n",
       "      <td>0.940349</td>\n",
       "      <td>-0.163688</td>\n",
       "      <td>-0.169599</td>\n",
       "      <td>1.000000</td>\n",
       "    </tr>\n",
       "  </tbody>\n",
       "</table>\n",
       "</div>"
      ],
      "text/plain": [
       "              HML       SMB   SMB_web   HML_web\n",
       "HML      1.000000 -0.229352 -0.204693  0.940349\n",
       "SMB     -0.229352  1.000000  0.975430 -0.163688\n",
       "SMB_web -0.204693  0.975430  1.000000 -0.169599\n",
       "HML_web  0.940349 -0.163688 -0.169599  1.000000"
      ]
     },
     "execution_count": 55,
     "metadata": {},
     "output_type": "execute_result"
    }
   ],
   "source": [
    "ffweb_factors = data.DataReader('F-F_Research_Data_Factors',\n",
    "                             'famafrench',\n",
    "                             start='1950-10-01')[0]\n",
    "\n",
    "web_factors = (ffweb_factors.loc['1962/7':'2020/12',['SMB','HML']]/100).rename(columns={'SMB': 'SMB_web', 'HML': 'HML_web'})\n",
    "web_factors.index = ff_factors[['HML','SMB']].dropna().index\n",
    "pd.concat([ff_factors[['HML','SMB']].dropna(), web_factors], axis=1).corr()"
   ]
  },
  {
   "cell_type": "code",
   "execution_count": 51,
   "metadata": {
    "ExecuteTime": {
     "end_time": "2021-02-25T16:28:46.071565Z",
     "start_time": "2021-02-25T16:28:45.899005Z"
    }
   },
   "outputs": [
    {
     "data": {
      "text/plain": [
       "Text(0.5, 1.0, 'Fama French Size & Value - Replication')"
      ]
     },
     "execution_count": 51,
     "metadata": {},
     "output_type": "execute_result"
    },
    {
     "data": {
      "image/png": "[encoded data removed]",
      "text/plain": [
       "<Figure size 864x720 with 1 Axes>"
      ]
     },
     "metadata": {},
     "output_type": "display_data"
    }
   ],
   "source": [
    "ff_factors.loc['1970/01':,['HML','SMB']].cumsum().plot()\n",
    "plt.title('Fama French Size & Value - Replication')"
   ]
  }
 ],
 "metadata": {
  "kernelspec": {
   "display_name": "Python 3",
   "language": "python",
   "name": "python3"
  },
  "language_info": {
   "codemirror_mode": {
    "name": "ipython",
    "version": 3
   },
   "file_extension": ".py",
   "mimetype": "text/x-python",
   "name": "python",
   "nbconvert_exporter": "python",
   "pygments_lexer": "ipython3",
   "version": "3.7.6"
  }
 },
 "nbformat": 4,
 "nbformat_minor": 4
}
