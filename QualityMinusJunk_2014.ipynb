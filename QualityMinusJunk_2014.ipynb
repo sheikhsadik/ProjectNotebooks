{
 "cells": [
  {
   "cell_type": "code",
   "execution_count": 4,
   "metadata": {
    "ExecuteTime": {
     "end_time": "2021-03-14T20:30:37.326695Z",
     "start_time": "2021-03-14T20:30:36.807762Z"
    }
   },
   "outputs": [
    {
     "name": "stdout",
     "output_type": "stream",
     "text": [
      "Populating the interactive namespace from numpy and matplotlib\n"
     ]
    }
   ],
   "source": [
    "%reset -f\n",
    "%pylab inline\n",
    "pylab.rcParams['figure.figsize'] = (12,10) # setting default figure size\n",
    "pylab.style.use('ggplot') # setting style"
   ]
  },
  {
   "cell_type": "markdown",
   "metadata": {},
   "source": [
    "**Import necessary libraries**"
   ]
  },
  {
   "cell_type": "code",
   "execution_count": 5,
   "metadata": {
    "ExecuteTime": {
     "end_time": "2021-03-14T20:30:38.824600Z",
     "start_time": "2021-03-14T20:30:37.393762Z"
    }
   },
   "outputs": [
    {
     "name": "stderr",
     "output_type": "stream",
     "text": [
      "S:\\Users\\sheha\\anaconda3\\envs\\sentinel_prime\\lib\\site-packages\\pandas_datareader\\compat\\__init__.py:7: FutureWarning: pandas.util.testing is deprecated. Use the functions in the public API at pandas.testing instead.\n",
      "  from pandas.util.testing import assert_frame_equal\n"
     ]
    }
   ],
   "source": [
    "import numpy as np\n",
    "import pandas as pd\n",
    "import matplotlib.pyplot as plt\n",
    "from pandas.tseries.offsets import *\n",
    "from datetime import datetime as dt\n",
    "from pandas_datareader import data, famafrench\n",
    "import wrds\n",
    "import statsmodels.api as sm"
   ]
  },
  {
   "cell_type": "markdown",
   "metadata": {},
   "source": [
    "**Let's query out the compustat blocks**\n",
    "\n",
    "There are two data pulls from compustat in this case, one is related to annual fundamental as defined in the first query and the next one being quarterly data for calculating the variable `evol`\n",
    "\n",
    "The annual variable ids are as follows (without COMPUSTAT info),\n",
    "- `revt, sale, cogs, at, lt, re, ebit` \n",
    "- `dp, capx, act, lct, che, dlc, dltt, txp, mib, pstkrv`\n",
    "- `pstkl, pstk, pi, txditc, seq, ceq, ib, txdi, dvp, dvc`\n",
    "\n",
    "The quarterly variable ids are as follows (without COMPUSTAT info),\n",
    "- `ceqq, seqq, atq, ltq, mibq, ibq`\n",
    "\n"
   ]
  },
  {
   "cell_type": "code",
   "execution_count": 6,
   "metadata": {
    "ExecuteTime": {
     "end_time": "2021-03-14T20:30:41.452204Z",
     "start_time": "2021-03-14T20:30:40.120863Z"
    },
    "run_control": {
     "marked": true
    }
   },
   "outputs": [],
   "source": [
    "# annual fundamental data \n",
    "compa_block_query = \"\"\"\n",
    "                   select gvkey, datadate, revt, sale, cogs, at, lt, re,\n",
    "                   dp, capx, act, lct, che, dlc, dltt, txp, mib, pstkrv,\n",
    "                   pstkl, pstk, pi, txditc, seq, ceq, ib, txdi, dvp, dvc, ebit\n",
    "                   from comp.funda\n",
    "                   where indfmt='INDL'\n",
    "                   and datafmt='STD'\n",
    "                   and popsrc='D'\n",
    "                   and consol='C'\n",
    "                   and datadate >= '01/01/1920' and datadate <= '12/31/2020'\n",
    "                   \"\"\"\n",
    "\n",
    "# quarterly fundamental data for 'evol'\n",
    "compq_block_query = \"\"\"\n",
    "                   select gvkey, datadate, ceqq, seqq,\n",
    "                   atq, ltq, mibq, ibq, txditcq, pstkq\n",
    "                   from comp.fundq\n",
    "                   where indfmt='INDL'\n",
    "                   and datafmt='STD'\n",
    "                   and popsrc='D'\n",
    "                   and consol='C'\n",
    "                   and datadate >= '01/01/1920' and datadate <= '12/31/2020'\n",
    "                   \"\"\"\n",
    "\n",
    "#compa_df = db.raw_sql(compa_block_query)\n",
    "#compq_df = db.raw_sql(compq_block_query)\n",
    "#compa_df.to_pickle('compa_df.pkl')\n",
    "#compq_df.to_pickle('compq_df.pkl')\n",
    "\n",
    "compa_df = pd.read_pickle('compa_df.pkl')\n",
    "compq_df = pd.read_pickle('compq_df.pkl')\n",
    "\n",
    "compa_df[['gvkey']] = compa_df[['gvkey']].astype(int)\n",
    "compa_df['datadate'] = pd.to_datetime(compa_df['datadate'])\n",
    "compa_df['year_crsp'] = (compa_df['datadate'] + YearEnd(0)).dt.year\n",
    "compa_df = compa_df.sort_values(by=['gvkey', 'datadate'])"
   ]
  },
  {
   "cell_type": "markdown",
   "metadata": {},
   "source": [
    "**Pulling data from CRSP can be quite tricky, I simply modified a standard CRSP query from online**\n",
    "\n",
    "List of Variables:\n",
    "\n",
    "- `permno`: The de facto key to track any stock\n",
    "- `permco`: The de facto key for any company, the difference between `permno` and `permco` being that a single firm will always have one `permco`, however, they can have multiple share classes, thus can have multiple `permno`\n",
    "- `date`: Reporting date\n",
    "- `shrcd`: share code, we are only interested in share codes 10 and 11\n",
    "- `exchcd`: exchange code, we are interested in 1 and 3\n",
    "- `ret`: Stock returns\n",
    "- `retx`: Returns ex dividends\n",
    "- `shrout`: Shares outstanding\n",
    "- `prc`: Price\n",
    "\n",
    "The idea is to merge the monthly CRSP data `msf` with `msenames` to extract the sharecodes and exchange codes using left join. Also the share and exchange codes we are interested in are the ones where the reporting date is between `namedt` and `nameenddt`"
   ]
  },
  {
   "cell_type": "code",
   "execution_count": 7,
   "metadata": {
    "ExecuteTime": {
     "end_time": "2021-03-14T20:31:42.037161Z",
     "start_time": "2021-03-14T20:30:44.495557Z"
    },
    "run_control": {
     "marked": true
    }
   },
   "outputs": [],
   "source": [
    "# crsp security price data\n",
    "crsp_query =  \"\"\"\n",
    "              select a.permno, a.permco, a.date, b.shrcd, b.exchcd,\n",
    "              a.ret, a.retx, a.shrout, a.prc, a.cfacshr\n",
    "              from crsp.msf as a\n",
    "              left join crsp.msenames as b\n",
    "              on a.permno=b.permno\n",
    "              and b.namedt<=a.date\n",
    "              and a.date<=b.nameendt\n",
    "              where a.date between '01/01/1920' and '12/31/2020'\n",
    "              and b.exchcd between 1 and 3\n",
    "              \"\"\"\n",
    "\n",
    "# crsp_df = db.raw_sql(crsp_query)\n",
    "# crsp_df.to_pickle('crsp_df.pkl')\n",
    "crsp_df = pd.read_pickle('crsp_df.pkl')\n",
    "\n",
    "crsp_df['date_port'] = crsp_df['date'] + MonthEnd(0)\n",
    "crsp_df[['permno', 'permco', 'shrcd', 'exchcd']] = crsp_df[['permno', 'permco', 'shrcd', 'exchcd']].astype(int)\n",
    "shrcd_ix = (crsp_df['shrcd'] == 10) | (crsp_df['shrcd'] == 11)\n",
    "crsp_df = crsp_df[shrcd_ix] "
   ]
  },
  {
   "cell_type": "markdown",
   "metadata": {},
   "source": [
    "**Dealing with delisted securities in CRSP**\n",
    "\n",
    "Adjust the CRSP return by incorporating the delisted period return. Delisted return is the return of security after it is delisted.\n",
    "- It is calculated by comparing a value after delisting against the price on the security’s last trading date.\n",
    "- The value after delisting can include a price on another exchange or the total value of distributions to shareholders. \n",
    "- If there is no opportunity to trade a stock after delisting before it is declared worthless, the value after delisting is zero. \n",
    "- Delisting Returns are calculated similarly to total returns except that the value after delisting is used as the current price.\n",
    "\n",
    "**Negative Prices**\n",
    "\n",
    "Sometimes you see negative stock prices in CRSP. This means that there was no closing price available for that period. Instead, the bid/ask average was used. To distinguish the bid/ask averages from actual closing prices, CRSP puts a leading dash in front of the price when the bid/ask average was used. If neither price nor bid/ask average is available, Price or Bid/Ask Average is set to zero."
   ]
  },
  {
   "cell_type": "code",
   "execution_count": 8,
   "metadata": {
    "ExecuteTime": {
     "end_time": "2021-03-14T20:31:43.606356Z",
     "start_time": "2021-03-14T20:31:42.038058Z"
    },
    "run_control": {
     "marked": false
    }
   },
   "outputs": [],
   "source": [
    "delist_query = \"\"\"\n",
    "               select permno, dlstcd, dlret, dlstdt\n",
    "               from crsp.msedelist\n",
    "               \"\"\"\n",
    "\n",
    "# delist_df = db.raw_sql(delist_query)\n",
    "# delist_df.to_pickle('delist_df.pkl')\n",
    "delist_df = pd.read_pickle('delist_df.pkl')\n",
    "\n",
    "# performance related delisting adjustment, set missing returns to -30% according to shumway 1997\n",
    "delist_df['dlstcd'] = delist_df['dlstcd'].astype(int)\n",
    "pdlist_ix = (delist_df['dlret'].isnull()) & \\\n",
    "            ((delist_df['dlstcd'] == 500) | ((delist_df['dlstcd'] >= 520) & \\\n",
    "                                             (delist_df['dlstcd'] <= 584)))\n",
    "delist_df.loc[pdlist_ix, 'dlret'] = -0.30\n",
    "\n",
    "delist_df['permno'] = delist_df['permno'].astype(int)\n",
    "delist_df['dlstdt'] = pd.to_datetime(delist_df['dlstdt'])\n",
    "delist_df['date_port']  = delist_df['dlstdt'] + MonthEnd(0)\n",
    "\n",
    "crsp_df_ = crsp_df.merge(delist_df, how='left', on=['permno', 'date_port'])\n",
    "\n",
    "crsp_df_['ret'].fillna(0,inplace=True)\n",
    "crsp_df_['retx'].fillna(0,inplace=True)\n",
    "crsp_df_['dlret'].fillna(0,inplace=True)\n",
    "crsp_df_['ret_final'] = (1 + crsp_df_['ret'])*(1 + crsp_df_['dlret']) - 1\n",
    "crsp_df_['prc'] =  crsp_df_['prc'].abs()\n",
    "crsp_df_['mcap'] = crsp_df_['prc']*crsp_df_['shrout']\n",
    "crsp_df_['shrout_adj'] = crsp_df_['shrout']/crsp_df_['cfacshr']\n",
    "\n",
    "crsp_df_.drop(['dlret','dlstdt','prc'], axis=1, inplace=True)"
   ]
  },
  {
   "cell_type": "markdown",
   "metadata": {},
   "source": [
    "PERMCO is a unique company level identifier that remains unchanged throughout the whole term of company’s existence even if the company changed name/s. PERMNO is a unique stock (share class) level identifier. While most of the companies have one class shares, some companies have more than one class shares traded at different prices, and this is the reason why a company can have more than one PERMNOs.\n",
    "\n",
    "**Getting the right PERMNOS**\n",
    "\n",
    "- For each data point, as in for each month and each PERMCO, calculate the maximum market cap availble\n",
    "- Inner join the maximum market cap vector back to the original dataframe to get the relevant PERMNO for the given PERMCO\n",
    "- Lastly, replace the max market cap vector with the sum of the market cap for each PERMCO at each date to get the appropriate market cap"
   ]
  },
  {
   "cell_type": "code",
   "execution_count": 9,
   "metadata": {
    "ExecuteTime": {
     "end_time": "2021-03-14T20:31:57.749660Z",
     "start_time": "2021-03-14T20:31:43.607326Z"
    },
    "scrolled": true
   },
   "outputs": [
    {
     "data": {
      "text/html": [
       "<div>\n",
       "<style scoped>\n",
       "    .dataframe tbody tr th:only-of-type {\n",
       "        vertical-align: middle;\n",
       "    }\n",
       "\n",
       "    .dataframe tbody tr th {\n",
       "        vertical-align: top;\n",
       "    }\n",
       "\n",
       "    .dataframe thead th {\n",
       "        text-align: right;\n",
       "    }\n",
       "</style>\n",
       "<table border=\"1\" class=\"dataframe\">\n",
       "  <thead>\n",
       "    <tr style=\"text-align: right;\">\n",
       "      <th></th>\n",
       "      <th>permno</th>\n",
       "      <th>permco</th>\n",
       "      <th>date</th>\n",
       "      <th>shrcd</th>\n",
       "      <th>exchcd</th>\n",
       "      <th>ret</th>\n",
       "      <th>retx</th>\n",
       "      <th>shrout</th>\n",
       "      <th>cfacshr</th>\n",
       "      <th>date_port</th>\n",
       "      <th>dlstcd</th>\n",
       "      <th>ret_final</th>\n",
       "      <th>shrout_adj</th>\n",
       "      <th>mcap</th>\n",
       "    </tr>\n",
       "  </thead>\n",
       "  <tbody>\n",
       "    <tr>\n",
       "      <th>121</th>\n",
       "      <td>10000</td>\n",
       "      <td>7952</td>\n",
       "      <td>1986-01-31</td>\n",
       "      <td>10</td>\n",
       "      <td>3</td>\n",
       "      <td>0.000000</td>\n",
       "      <td>0.000000</td>\n",
       "      <td>3680.0</td>\n",
       "      <td>1.0</td>\n",
       "      <td>1986-01-31</td>\n",
       "      <td>NaN</td>\n",
       "      <td>0.000000</td>\n",
       "      <td>3680.0</td>\n",
       "      <td>1.610000e+04</td>\n",
       "    </tr>\n",
       "    <tr>\n",
       "      <th>122</th>\n",
       "      <td>10000</td>\n",
       "      <td>7952</td>\n",
       "      <td>1986-02-28</td>\n",
       "      <td>10</td>\n",
       "      <td>3</td>\n",
       "      <td>-0.257143</td>\n",
       "      <td>-0.257143</td>\n",
       "      <td>3680.0</td>\n",
       "      <td>1.0</td>\n",
       "      <td>1986-02-28</td>\n",
       "      <td>NaN</td>\n",
       "      <td>-0.257143</td>\n",
       "      <td>3680.0</td>\n",
       "      <td>1.196000e+04</td>\n",
       "    </tr>\n",
       "    <tr>\n",
       "      <th>123</th>\n",
       "      <td>10000</td>\n",
       "      <td>7952</td>\n",
       "      <td>1986-03-31</td>\n",
       "      <td>10</td>\n",
       "      <td>3</td>\n",
       "      <td>0.365385</td>\n",
       "      <td>0.365385</td>\n",
       "      <td>3680.0</td>\n",
       "      <td>1.0</td>\n",
       "      <td>1986-03-31</td>\n",
       "      <td>NaN</td>\n",
       "      <td>0.365385</td>\n",
       "      <td>3680.0</td>\n",
       "      <td>1.633000e+04</td>\n",
       "    </tr>\n",
       "    <tr>\n",
       "      <th>124</th>\n",
       "      <td>10000</td>\n",
       "      <td>7952</td>\n",
       "      <td>1986-04-30</td>\n",
       "      <td>10</td>\n",
       "      <td>3</td>\n",
       "      <td>-0.098592</td>\n",
       "      <td>-0.098592</td>\n",
       "      <td>3793.0</td>\n",
       "      <td>1.0</td>\n",
       "      <td>1986-04-30</td>\n",
       "      <td>NaN</td>\n",
       "      <td>-0.098592</td>\n",
       "      <td>3793.0</td>\n",
       "      <td>1.517200e+04</td>\n",
       "    </tr>\n",
       "    <tr>\n",
       "      <th>125</th>\n",
       "      <td>10000</td>\n",
       "      <td>7952</td>\n",
       "      <td>1986-05-30</td>\n",
       "      <td>10</td>\n",
       "      <td>3</td>\n",
       "      <td>-0.222656</td>\n",
       "      <td>-0.222656</td>\n",
       "      <td>3793.0</td>\n",
       "      <td>1.0</td>\n",
       "      <td>1986-05-31</td>\n",
       "      <td>NaN</td>\n",
       "      <td>-0.222656</td>\n",
       "      <td>3793.0</td>\n",
       "      <td>1.179386e+04</td>\n",
       "    </tr>\n",
       "    <tr>\n",
       "      <th>...</th>\n",
       "      <td>...</td>\n",
       "      <td>...</td>\n",
       "      <td>...</td>\n",
       "      <td>...</td>\n",
       "      <td>...</td>\n",
       "      <td>...</td>\n",
       "      <td>...</td>\n",
       "      <td>...</td>\n",
       "      <td>...</td>\n",
       "      <td>...</td>\n",
       "      <td>...</td>\n",
       "      <td>...</td>\n",
       "      <td>...</td>\n",
       "      <td>...</td>\n",
       "    </tr>\n",
       "    <tr>\n",
       "      <th>3573727</th>\n",
       "      <td>93436</td>\n",
       "      <td>53453</td>\n",
       "      <td>2020-08-31</td>\n",
       "      <td>11</td>\n",
       "      <td>3</td>\n",
       "      <td>0.741452</td>\n",
       "      <td>0.741452</td>\n",
       "      <td>931809.0</td>\n",
       "      <td>1.0</td>\n",
       "      <td>2020-08-31</td>\n",
       "      <td>NaN</td>\n",
       "      <td>0.741452</td>\n",
       "      <td>931809.0</td>\n",
       "      <td>4.643391e+08</td>\n",
       "    </tr>\n",
       "    <tr>\n",
       "      <th>3573728</th>\n",
       "      <td>93436</td>\n",
       "      <td>53453</td>\n",
       "      <td>2020-09-30</td>\n",
       "      <td>11</td>\n",
       "      <td>3</td>\n",
       "      <td>-0.139087</td>\n",
       "      <td>-0.139087</td>\n",
       "      <td>948000.0</td>\n",
       "      <td>1.0</td>\n",
       "      <td>2020-09-30</td>\n",
       "      <td>NaN</td>\n",
       "      <td>-0.139087</td>\n",
       "      <td>948000.0</td>\n",
       "      <td>4.067015e+08</td>\n",
       "    </tr>\n",
       "    <tr>\n",
       "      <th>3573729</th>\n",
       "      <td>93436</td>\n",
       "      <td>53453</td>\n",
       "      <td>2020-10-30</td>\n",
       "      <td>11</td>\n",
       "      <td>3</td>\n",
       "      <td>-0.095499</td>\n",
       "      <td>-0.095499</td>\n",
       "      <td>947901.0</td>\n",
       "      <td>1.0</td>\n",
       "      <td>2020-10-31</td>\n",
       "      <td>NaN</td>\n",
       "      <td>-0.095499</td>\n",
       "      <td>947901.0</td>\n",
       "      <td>3.678235e+08</td>\n",
       "    </tr>\n",
       "    <tr>\n",
       "      <th>3573730</th>\n",
       "      <td>93436</td>\n",
       "      <td>53453</td>\n",
       "      <td>2020-11-30</td>\n",
       "      <td>11</td>\n",
       "      <td>3</td>\n",
       "      <td>0.462736</td>\n",
       "      <td>0.462736</td>\n",
       "      <td>947901.0</td>\n",
       "      <td>1.0</td>\n",
       "      <td>2020-11-30</td>\n",
       "      <td>NaN</td>\n",
       "      <td>0.462736</td>\n",
       "      <td>947901.0</td>\n",
       "      <td>5.380286e+08</td>\n",
       "    </tr>\n",
       "    <tr>\n",
       "      <th>3573731</th>\n",
       "      <td>93436</td>\n",
       "      <td>53453</td>\n",
       "      <td>2020-12-31</td>\n",
       "      <td>11</td>\n",
       "      <td>3</td>\n",
       "      <td>0.243252</td>\n",
       "      <td>0.243252</td>\n",
       "      <td>947901.0</td>\n",
       "      <td>1.0</td>\n",
       "      <td>2020-12-31</td>\n",
       "      <td>100.0</td>\n",
       "      <td>0.243252</td>\n",
       "      <td>947901.0</td>\n",
       "      <td>6.689053e+08</td>\n",
       "    </tr>\n",
       "  </tbody>\n",
       "</table>\n",
       "<p>3573927 rows × 14 columns</p>\n",
       "</div>"
      ],
      "text/plain": [
       "         permno  permco        date  shrcd  exchcd       ret      retx  \\\n",
       "121       10000    7952  1986-01-31     10       3  0.000000  0.000000   \n",
       "122       10000    7952  1986-02-28     10       3 -0.257143 -0.257143   \n",
       "123       10000    7952  1986-03-31     10       3  0.365385  0.365385   \n",
       "124       10000    7952  1986-04-30     10       3 -0.098592 -0.098592   \n",
       "125       10000    7952  1986-05-30     10       3 -0.222656 -0.222656   \n",
       "...         ...     ...         ...    ...     ...       ...       ...   \n",
       "3573727   93436   53453  2020-08-31     11       3  0.741452  0.741452   \n",
       "3573728   93436   53453  2020-09-30     11       3 -0.139087 -0.139087   \n",
       "3573729   93436   53453  2020-10-30     11       3 -0.095499 -0.095499   \n",
       "3573730   93436   53453  2020-11-30     11       3  0.462736  0.462736   \n",
       "3573731   93436   53453  2020-12-31     11       3  0.243252  0.243252   \n",
       "\n",
       "           shrout  cfacshr  date_port  dlstcd  ret_final  shrout_adj  \\\n",
       "121        3680.0      1.0 1986-01-31     NaN   0.000000      3680.0   \n",
       "122        3680.0      1.0 1986-02-28     NaN  -0.257143      3680.0   \n",
       "123        3680.0      1.0 1986-03-31     NaN   0.365385      3680.0   \n",
       "124        3793.0      1.0 1986-04-30     NaN  -0.098592      3793.0   \n",
       "125        3793.0      1.0 1986-05-31     NaN  -0.222656      3793.0   \n",
       "...           ...      ...        ...     ...        ...         ...   \n",
       "3573727  931809.0      1.0 2020-08-31     NaN   0.741452    931809.0   \n",
       "3573728  948000.0      1.0 2020-09-30     NaN  -0.139087    948000.0   \n",
       "3573729  947901.0      1.0 2020-10-31     NaN  -0.095499    947901.0   \n",
       "3573730  947901.0      1.0 2020-11-30     NaN   0.462736    947901.0   \n",
       "3573731  947901.0      1.0 2020-12-31   100.0   0.243252    947901.0   \n",
       "\n",
       "                 mcap  \n",
       "121      1.610000e+04  \n",
       "122      1.196000e+04  \n",
       "123      1.633000e+04  \n",
       "124      1.517200e+04  \n",
       "125      1.179386e+04  \n",
       "...               ...  \n",
       "3573727  4.643391e+08  \n",
       "3573728  4.067015e+08  \n",
       "3573729  3.678235e+08  \n",
       "3573730  5.380286e+08  \n",
       "3573731  6.689053e+08  \n",
       "\n",
       "[3573927 rows x 14 columns]"
      ]
     },
     "execution_count": 9,
     "metadata": {},
     "output_type": "execute_result"
    }
   ],
   "source": [
    "mcap_sum = crsp_df_.groupby(['date_port','permco'])['mcap'].sum().reset_index()\n",
    "mcap_max =  crsp_df_.groupby(['date_port','permco'])['mcap'].max().reset_index()\n",
    "crsp_df1_ = pd.merge(crsp_df_, mcap_max, how='inner', on=['date_port','permco', 'mcap'])\n",
    "crsp_df1_.drop('mcap', axis=1, inplace=True)\n",
    "crsp_df__ = crsp_df1_.merge(mcap_sum, how='inner', on=['date_port','permco']).\\\n",
    "                        sort_values(by=['permno','date_port']).drop_duplicates()\n",
    "crsp_df__"
   ]
  },
  {
   "cell_type": "markdown",
   "metadata": {},
   "source": [
    "**Pulling the CRSP-Compustat merge table**"
   ]
  },
  {
   "cell_type": "code",
   "execution_count": 10,
   "metadata": {
    "ExecuteTime": {
     "end_time": "2021-03-14T20:31:57.813458Z",
     "start_time": "2021-03-14T20:31:57.750655Z"
    },
    "run_control": {
     "marked": true
    }
   },
   "outputs": [],
   "source": [
    "ccm_query = \"\"\"\n",
    "            select gvkey, lpermno as permno, linktype, linkprim,\n",
    "            linkdt, linkenddt\n",
    "            from crsp.ccmxpf_linktable\n",
    "            where substr(linktype,1,1)='L'\n",
    "            and (linkprim ='C' or linkprim='P')\n",
    "            \"\"\"\n",
    "# ccm_df = db.raw_sql(ccm_query)\n",
    "# ccm_df.to_pickle('ccm_df.pkl')\n",
    "\n",
    "ccm_df = pd.read_pickle('ccm_df.pkl')\n",
    "\n",
    "select_month = 6 #ff portfolio formation month\n",
    "t_0 = dt(dt.today().year, dt.today().month, dt.today().day)\n",
    "\n",
    "ccm_df['linkdt']=pd.to_datetime(ccm_df['linkdt'])\n",
    "ccm_df['linkenddt']=pd.to_datetime(ccm_df['linkenddt'])\n",
    "ccm_df[['linkdt', 'linkenddt']] = ccm_df[['linkdt', 'linkenddt']].replace({None: t_0})\n",
    "ccm_df[['gvkey', 'permno']] = ccm_df[['gvkey', 'permno']].astype(int)"
   ]
  },
  {
   "cell_type": "markdown",
   "metadata": {},
   "source": [
    "**Let's make a temporary merge with CRSP files to pull the market equity and split adjusted shares outstanding**"
   ]
  },
  {
   "cell_type": "code",
   "execution_count": 11,
   "metadata": {
    "ExecuteTime": {
     "end_time": "2021-03-14T20:31:59.135221Z",
     "start_time": "2021-03-14T20:31:57.814456Z"
    },
    "run_control": {
     "marked": false
    }
   },
   "outputs": [],
   "source": [
    "temp_crsp = crsp_df__[['date_port', 'permno','mcap', 'shrout_adj']].copy()\n",
    "temp_crsp.rename(columns={'date_port':'datadate_mend'}, inplace=True)\n",
    "\n",
    "temp_comp = compa_df[['gvkey', 'datadate']].merge(ccm_df, how='left', on='gvkey')\n",
    "temp_comp[['gvkey']] = temp_comp[['gvkey']].astype(int)\n",
    "temp_comp['datadate'] = pd.to_datetime(temp_comp['datadate'])\n",
    "temp_comp['year'] = temp_comp['datadate'].dt.year\n",
    "temp_comp['datadate_mend'] = temp_comp['datadate'] + MonthEnd(0)\n",
    "temp_comp['date_port'] = temp_comp['datadate'] + YearEnd(0) + MonthEnd(select_month)\n",
    "\n",
    "linkdt_bnds = (temp_comp['date_port'] >= temp_comp['linkdt']) & (temp_comp['date_port'] <= temp_comp['linkenddt'])\n",
    "\n",
    "temp_merge = pd.merge(temp_comp[linkdt_bnds], temp_crsp,\n",
    "                      how='left',\n",
    "                      on=['permno','datadate_mend'])\n",
    "temp_ids = ['gvkey','permno','datadate','date_port', 'year', 'mcap', 'shrout_adj']"
   ]
  },
  {
   "cell_type": "markdown",
   "metadata": {},
   "source": [
    "**Merge back the temporary merge to the master compustat**"
   ]
  },
  {
   "cell_type": "code",
   "execution_count": 12,
   "metadata": {
    "ExecuteTime": {
     "end_time": "2021-03-14T20:31:59.703113Z",
     "start_time": "2021-03-14T20:31:59.136177Z"
    },
    "run_control": {
     "marked": true
    }
   },
   "outputs": [
    {
     "data": {
      "text/plain": [
       "Text(0.5, 1.0, 'Compustat Unique Companies - Post Merge')"
      ]
     },
     "execution_count": 12,
     "metadata": {},
     "output_type": "execute_result"
    },
    {
     "data": {
      "image/png": "[encoded data removed]",
      "text/plain": [
       "<Figure size 864x720 with 1 Axes>"
      ]
     },
     "metadata": {},
     "output_type": "display_data"
    }
   ],
   "source": [
    "compa_df_ = pd.merge(temp_merge[temp_ids], \n",
    "                     compa_df,\n",
    "                     how='inner',\n",
    "                     on=['gvkey','datadate']).sort_values(by=['gvkey', 'datadate'])\n",
    "compa_df_['datadate_mend'] = compa_df_['datadate'] + MonthEnd(0)\n",
    "\n",
    "# CRSP Shares outstanding is in thousands, need to change to millions to be consistent with Compustat\n",
    "compa_df_['shrout_adj'] = compa_df_['shrout_adj']/1000 \n",
    "compa_df_['mcap'] = compa_df_['mcap']/1000\n",
    "\n",
    "del temp_merge, temp_comp, temp_crsp\n",
    "compa_df_.groupby(['datadate'])['gvkey'].count().groupby(pd.Grouper(freq='A')).sum().plot()\n",
    "plt.title('Compustat Unique Companies - Post Merge')"
   ]
  },
  {
   "cell_type": "markdown",
   "metadata": {},
   "source": [
    "**Calculating Profitability Variables**\n",
    "- Gross profits over assets\n",
    "- Return on equity\n",
    "- Return on assets\n",
    "- Cash flow over assets\n",
    "- Gross margin\n",
    "- Accrual"
   ]
  },
  {
   "cell_type": "code",
   "execution_count": 13,
   "metadata": {
    "ExecuteTime": {
     "end_time": "2021-03-14T20:32:04.054174Z",
     "start_time": "2021-03-14T20:31:59.704109Z"
    },
    "run_control": {
     "marked": false
    }
   },
   "outputs": [],
   "source": [
    "# calculate value of preferred share - order: redemption > liquidiation > par value\n",
    "compa_df_['pfs'] = np.where(compa_df_['pstkrv'].isnull(),\n",
    "                          compa_df_['pstkl'], \n",
    "                          compa_df_['pstkrv'])\n",
    "compa_df_['pfs'] = np.where(compa_df_['pfs'].isnull(),\n",
    "                          compa_df_['pstk'],\n",
    "                          compa_df_['pfs'])\n",
    "compa_df_['pfs'] = np.where(compa_df_['pfs'].isnull(), \n",
    "                           0, compa_df_['pfs'])\n",
    "\n",
    "# To obtain shareholders’ equity, we use stockholders’ equity (SEQ),\n",
    "# but if it is not available, we use the sum of common\n",
    "# equity (CEQ) and preferred stock (PSTK).\n",
    "# If both SEQ and CEQ are unavailable, we proxy shareholders’ equity\n",
    "# by total assets (AT) minus the sum of total liability (LT) and minority interest (MIB)\n",
    "compa_df_['seq'] = np.where(compa_df_['seq'].isnull(),\n",
    "                           compa_df_['ceq'] + compa_df_['pstk'],\n",
    "                           compa_df_['seq'])\n",
    "compa_df_['seq'] = np.where(compa_df_['seq'].isnull(),\n",
    "                           compa_df_['at'] - (compa_df_['lt'] + compa_df_['mib']),\n",
    "                           compa_df_['seq'])\n",
    "\n",
    "# calculate book value: shareholders equity plus balance sheet deferred taxes and\n",
    "# investment tax credits minus preferred shares according to FASB 109,deferred tax credits are no\n",
    "# longer included ib BE calculation post 2016 this was applied for all filings 1993 or later, \n",
    "# however I only make the adjustment post 2016 to avoid look ahead bias\n",
    "compa_df_['be'] = (compa_df_['seq'] + compa_df_['txditc']*(~(compa_df_['year']>2016)) - compa_df_['pfs']).\\\n",
    "                            apply(lambda x: np.where(x <= 0, np.nan, x))\n",
    "\n",
    "# Gross profits over assets\n",
    "compa_df_['gpoa'] = (compa_df_['revt'] - compa_df_['cogs']).divide(compa_df_['at'], axis=0)\n",
    "\n",
    "# return on equity\n",
    "compa_df_['roe'] = compa_df_['ib'].divide(compa_df_['be'], axis=0)\n",
    "\n",
    "# return on assets\n",
    "compa_df_['roa'] = compa_df_['ib'].divide(compa_df_['at'], axis=0)\n",
    "\n",
    "# working capital and change in working capital\n",
    "compa_df_['wc'] = compa_df_['act'] - compa_df_['lct'] - compa_df_['che'] + compa_df_['dlc'] \n",
    "compa_df_['del_wc'] = compa_df_.groupby('gvkey')['wc'].diff(1)\n",
    "\n",
    "# cashflow over assets\n",
    "compa_df_['cf'] = compa_df_['ib'] + compa_df_['dp'] - compa_df_['del_wc'] - compa_df_['capx']\n",
    "compa_df_['cfoa'] = compa_df_['cf'].divide(compa_df_['at'], axis=0)\n",
    "\n",
    "# gross margin\n",
    "compa_df_['gmar'] = (compa_df_['revt'] - compa_df_['cogs']).divide(compa_df_['sale'], axis=0)\n",
    "\n",
    "# accrual\n",
    "compa_df_['acc'] = -(compa_df_['del_wc'] - compa_df_['dp']).divide(compa_df_['at'], axis=0)"
   ]
  },
  {
   "cell_type": "markdown",
   "metadata": {},
   "source": [
    "**Calculating Growth Variables**\n",
    "- Gross profits over assets\n",
    "- Return on equity\n",
    "- Return on assets\n",
    "- Cash flow over assets\n",
    "- Gross margin\n",
    "- Accrual"
   ]
  },
  {
   "cell_type": "code",
   "execution_count": 14,
   "metadata": {
    "ExecuteTime": {
     "end_time": "2021-03-14T20:32:05.015136Z",
     "start_time": "2021-03-14T20:32:04.056069Z"
    },
    "run_control": {
     "marked": true
    }
   },
   "outputs": [],
   "source": [
    "ff_rf = data.DataReader('F-F_Research_Data_Factors', 'famafrench',\n",
    "                        start='1950-10-01')[0]['RF'].to_frame()*(12/100)\n",
    "\n",
    "ff_rf['datadate_mend'] = pd.to_datetime(ff_rf.index.astype(str)) + MonthEnd(0)\n",
    "compa_df_ = compa_df_.merge(ff_rf, how='left', on=['datadate_mend'])\n",
    "\n",
    "compa_df_['gp'] = compa_df_['revt'] - compa_df_['cogs']\n",
    "\n",
    "compa_df_[['gp_s', 'at_s', 'ib_s', 'be_s', 'cf_s','sale_s']] = \\\n",
    "            compa_df_[['gp', 'at', 'ib', 'be', 'cf','sale']].divide(compa_df_['shrout_adj'], axis=0)\n",
    "\n",
    "compa_df_[['be_s_lag1', 'at_s_lag1']] = \\\n",
    "                compa_df_.groupby('gvkey')[['be_s', 'at_s']].shift(1)\n",
    "\n",
    "compa_df_[['ib_s_lag5','be_s_lag5', 'cf_s_lag5', 'at_s_lag5', 'gp_s_lag5', 'sale_s_lag5']] = \\\n",
    "                compa_df_.groupby('gvkey')[['ib_s', 'be_s', 'cf_s', 'at_s', 'gp_s', 'sale_s']].shift(5)\n",
    "\n",
    "compa_df_[['be_s_lag6', 'at_s_lag6']] = \\\n",
    "                compa_df_.groupby('gvkey')[['be_s', 'at_s']].shift(6)\n",
    "\n",
    "# a simple wrapper to calculate the growth variables with less hassle\n",
    "def calc_growth(df, num, den):\n",
    "    \n",
    "    numlag_5 = num + '_lag5'; denlag_1 = den + '_lag1'\n",
    "    denlag_5 = den + '_lag5'; denlag_6 = den + '_lag6'\n",
    "    \n",
    "    return ((df[num] - df['RF'].multiply(df[denlag_1], axis=0)) -\n",
    "            (df[numlag_5] - df['RF'].multiply(df[denlag_6], axis=0))).divide(df[denlag_5], axis=0)\n",
    "\n",
    "compa_df_['del_gpoa'] = calc_growth(compa_df_, 'gp_s', 'at_s')\n",
    "compa_df_['del_roe'] = calc_growth(compa_df_, 'ib_s', 'be_s')\n",
    "compa_df_['del_roa'] = calc_growth(compa_df_, 'ib_s', 'at_s')\n",
    "compa_df_['del_cfoa'] = calc_growth(compa_df_, 'cf_s', 'at_s')\n",
    "compa_df_['del_gmar'] = (compa_df_['gp_s'] - compa_df_['gp_s_lag5']).divide(compa_df_['sale_s_lag5'])"
   ]
  },
  {
   "cell_type": "markdown",
   "metadata": {},
   "source": [
    "**Preparing Quarterly Data**\n",
    "\n",
    "In order to calculate `EVOL` or ROE volatility, I use quarterly compustat data and calculate quarterly roe similarly to annual roe.  "
   ]
  },
  {
   "cell_type": "code",
   "execution_count": 15,
   "metadata": {
    "ExecuteTime": {
     "end_time": "2021-03-14T20:32:08.651579Z",
     "start_time": "2021-03-14T20:32:05.016136Z"
    },
    "run_control": {
     "marked": true
    }
   },
   "outputs": [],
   "source": [
    "compq_df['gvkey'] = compq_df['gvkey'].astype(int)\n",
    "compq_df['datadate'] = pd.to_datetime(compq_df['datadate'])\n",
    "compq_df['datadate_mend'] = compq_df['datadate'] + MonthEnd(0)\n",
    "compq_df.sort_values(['gvkey','datadate'], inplace=True)\n",
    "\n",
    "# calculate value of preferred share - par value available only quarterly\n",
    "compq_df['pfsq'] = np.where(compq_df['pstkq'].isnull(), \n",
    "                           0, compq_df['pstkq'])\n",
    "\n",
    "compq_df['seqq'] = np.where(compq_df['seqq'].isnull(),\n",
    "                           compq_df['ceqq'] + compq_df['pstkq'],\n",
    "                           compq_df['seqq'])\n",
    "compq_df['seqq'] = np.where(compq_df['seqq'].isnull(),\n",
    "                           compq_df['atq'] - (compq_df['ltq'] + compq_df['mibq']),\n",
    "                           compq_df['seqq'])\n",
    "\n",
    "# calculate book value: shareholders equity plus balance sheet deferred taxes and\n",
    "# investment tax credits minus preferred shares according to FASB 109,deferred tax credits are no\n",
    "# longer included ib BE calculation post 2016 this was applied for all filings 1993 or later, \n",
    "# however I only make the adjustment post 2016 to avoid look ahead bias\n",
    "compq_df['beq'] = (compq_df['seqq'] + compq_df['txditcq']*(~(compq_df['datadate_mend'] > '2016/08')) - compq_df['pfsq']).\\\n",
    "                            apply(lambda x: np.where(x <= 0, np.nan, x))\n",
    "# calculating quarterly roe\n",
    "compq_df['roeq'] = compq_df['ibq'].divide(compq_df['beq'], axis=0)"
   ]
  },
  {
   "cell_type": "markdown",
   "metadata": {},
   "source": [
    "**Calculating Safety Variables**\n",
    "- Beta against beta\n",
    "- Leverage\n",
    "- Ohlson's Score\n",
    "- Altman's Z Score\n",
    "- ROE Volatility"
   ]
  },
  {
   "cell_type": "code",
   "execution_count": 16,
   "metadata": {
    "ExecuteTime": {
     "end_time": "2021-03-14T20:32:46.924157Z",
     "start_time": "2021-03-14T20:32:08.652471Z"
    }
   },
   "outputs": [],
   "source": [
    "# bab\n",
    "beta_dict = pd.read_pickle('monthly_beta_dict.pkl')\n",
    "beta_df = pd.concat(beta_dict, axis=0, keys=beta_dict.keys()).reset_index()\\\n",
    "                    .rename(columns={'level_0': 'permno','level_1': 'datadate_mend'})\n",
    "compa_df_ = compa_df_.merge(beta_df, how='left', on=['permno', 'datadate_mend'])\n",
    "compa_df_['bab'] = -compa_df_['beta']\n",
    "\n",
    "del beta_dict\n",
    "\n",
    "# leverage\n",
    "compa_df_['lev'] = -(compa_df_['dltt'] + compa_df_['dlc'] + compa_df_['mib'] + compa_df_['pstk']).divide(compa_df_['at'])\n",
    "\n",
    "## ohlson's score\n",
    "# adjusted asset\n",
    "compa_df_['adjasset'] = compa_df_['at'] + 0.10*(compa_df_['mcap'] - compa_df_['be'])\n",
    "\n",
    "# debt to assets\n",
    "compa_df_['tlta'] = (compa_df_['dlc'] + compa_df_['dltt']).divide(compa_df_['adjasset'])\n",
    "\n",
    "# working capital over assets\n",
    "compa_df_['wcta'] = (compa_df_['act'] - compa_df_['lct']).divide(compa_df_['adjasset'])\n",
    "\n",
    "# inverse current ratio\n",
    "compa_df_['clca'] = compa_df_['lct'].divide(compa_df_['act'])\n",
    "\n",
    "# OENEG\n",
    "compa_df_['oeneg'] = np.where(compa_df_['lt'] > compa_df_['at'], 1, np.nan)\n",
    "compa_df_['oeneg'] = np.where(compa_df_['lt'] <= compa_df_['at'], 0, compa_df_['oeneg'])\n",
    "\n",
    "# net income over assets\n",
    "compa_df_['nita'] = compa_df_['ib'].divide(compa_df_['at'])\n",
    "\n",
    "# pretax income over liabilities\n",
    "compa_df_['futl'] = compa_df_['pi'].divide(compa_df_['lt'])\n",
    "\n",
    "# INTWO\n",
    "compa_df_['ib_lag'] = compa_df_.groupby('gvkey')['ib'].shift(1)\n",
    "compa_df_['intwo'] = compa_df_.groupby('gvkey').apply(lambda x: np.maximum(x['ib'], x['ib_lag'])).\\\n",
    "                            reset_index().drop(columns=['gvkey','level_1']).rename(columns={0: 'intwo'})\n",
    "\n",
    "compa_df_['intwo_tag'] = np.where(compa_df_['intwo'] > 0, 0, np.nan)\n",
    "compa_df_['intwo_tag'] = np.where(compa_df_['intwo'] < 0, 1, compa_df_['intwo_tag'])\n",
    "\n",
    "# change in net income\n",
    "compa_df_['chin'] = (compa_df_['ib'] - compa_df_['ib_lag']).divide((compa_df_['ib'].abs() + compa_df_['ib_lag'].abs()))\n",
    "\n",
    "# cpi index\n",
    "cpi_df = data.DataReader('CPIAUCSL', 'fred', start='1949-10-01')\n",
    "ix_0 = compa_df_['datadate_mend'].min()\n",
    "cpi_df.index = cpi_df.index + MonthEnd(-1)\n",
    "cpi_df['CPI_reix'] = cpi_df['CPIAUCSL'].divide(cpi_df.loc[cpi_df.index == ix_0,'CPIAUCSL'].values[0], axis=0) # reindex\n",
    "cpi_df['datadate_mend'] = cpi_df.index \n",
    "compa_df_ = compa_df_.merge(cpi_df[['datadate_mend','CPI_reix']], how='left', on='datadate_mend')\n",
    "\n",
    "# log asset cpi\n",
    "compa_df_['log_asset_cpi'] = np.log(compa_df_['adjasset'].divide(compa_df_['CPI_reix']))\n",
    "\n",
    "# O-score\n",
    "compa_df_['O_score'] = -(-1.32 - 0.407*compa_df_['log_asset_cpi'] + 6.03*compa_df_['tlta'] -\n",
    "                         1.43*compa_df_['wcta'] + 0.076*compa_df_['clca'] - 1.72*compa_df_['oeneg'] -\n",
    "                         2.37*compa_df_['nita'] - 1.83*compa_df_['futl'] + 0.285*compa_df_['intwo'] -\n",
    "                         0.521*compa_df_['chin'])\n",
    "# Altman Z score\n",
    "compa_df_['Z_score'] = (1.2*compa_df_['wc'] + 1.4*compa_df_['re'] +\n",
    "                        3.3*compa_df_['ebit'] + 0.6*compa_df_['mcap'] + \n",
    "                        compa_df_['sale']).divide(compa_df_['at'], axis=0)\n",
    "\n",
    "# calculating quarterly roe volatility - 60 quarters rolling with minimum 12 quarters\n",
    "roeq_vol = compq_df.groupby('gvkey')['roeq'].rolling(60, min_periods=12).std().reset_index()\n",
    "roeq_vol.rename(columns={'roeq': 'roeq_vol'}, inplace=True)\n",
    "roeq_vol['roeq_vol'] = roeq_vol['roeq_vol']*2 # annualizing by multiplying 2\n",
    "compq_df['roeq_vol'] = roeq_vol['roeq_vol'].copy()\n",
    "\n",
    "# merge back quarterly data with the annual data using gvkey and monthend dates\n",
    "compa_df_ = compa_df_.merge(compq_df[['gvkey','datadate_mend','roeq_vol']],\n",
    "                            how='left', on=['gvkey', 'datadate_mend'])\n",
    "# Replace missing quarterly vol with annual volatility\n",
    "compa_df_['roea_vol'] = compa_df_.groupby('gvkey')['roe'].rolling(5, min_periods=5).std().reset_index()['roe']\n",
    "compa_df_['roe_vol'] = np.where(compa_df_['roeq_vol'].isnull(), compa_df_['roea_vol'], compa_df_['roeq_vol'])"
   ]
  },
  {
   "cell_type": "markdown",
   "metadata": {},
   "source": [
    "**Calculating Payout Variables**\n",
    "- Net equity issuance\n",
    "- Net debt issuance\n",
    "- Net payout over profits\n",
    "\n",
    "\n"
   ]
  },
  {
   "cell_type": "code",
   "execution_count": 17,
   "metadata": {
    "ExecuteTime": {
     "end_time": "2021-03-14T20:33:17.441930Z",
     "start_time": "2021-03-14T20:32:46.925048Z"
    }
   },
   "outputs": [
    {
     "name": "stderr",
     "output_type": "stream",
     "text": [
      "S:\\Users\\sheha\\anaconda3\\envs\\sentinel_prime\\lib\\site-packages\\pandas\\core\\algorithms.py:1926: RuntimeWarning: invalid value encountered in subtract\n",
      "  out_arr[res_indexer] = arr[res_indexer] - arr[lag_indexer]\n"
     ]
    }
   ],
   "source": [
    "# net equity issuance\n",
    "compa_df_['log_shrout_adj'] = compa_df_['shrout_adj'].apply(np.log)\n",
    "compa_df_['eiss'] = compa_df_.groupby('gvkey')['log_shrout_adj'].diff(1)*(-1)\n",
    "\n",
    "# change in total debt\n",
    "compa_df_['log_totd'] = (compa_df_['dltt'] + compa_df_['dlc'] + compa_df_['mib'] + compa_df_['pstk']).apply(np.log)\n",
    "compa_df_['diss'] = compa_df_.groupby('gvkey')['log_totd'].diff(1)*(-1)\n",
    "\n",
    "# netpayout over profits\n",
    "compa_df_['del_be'] = compa_df_.groupby('gvkey')['be'].diff(1)\n",
    "compa_df_['np'] = compa_df_['ib'].sub(compa_df_['del_be'], axis=0)\n",
    "compa_df_['tnp'] = compa_df_.groupby('gvkey')['np'].rolling(5, min_periods=5).sum().reset_index()['np']\n",
    "compa_df_['tgp'] = compa_df_.groupby('gvkey')['gp'].rolling(5, min_periods=5).sum().reset_index()['gp']\n",
    "compa_df_['npop'] = compa_df_['tnp'].divide(compa_df_['tgp'])\n",
    "\n",
    "# misc steps\n",
    "compa_df_.drop(columns='permno',inplace=True)\n",
    "ff_rf.drop(columns='datadate_mend', inplace=True)"
   ]
  },
  {
   "cell_type": "markdown",
   "metadata": {},
   "source": [
    "**Calculating Fama French Value weights for each portfolio formation period**\n",
    "\n",
    "$$w_t = \\frac{(1+ret_{t-1})...(1+ret_{t-\\tau})ME_{0}}{\\sum_{n}(1+ret_{t-1})...(1+ret_{t-\\tau})ME_{0}} $$\n",
    "- $ME_{0}$ is market cap as of end of june\n",
    "- $(1+ret_{t-\\tau})$ is market cap as of end of july\n",
    "\n",
    "One thing to keep in mind, these weights will only apply if I am rebalancing annually, for monthly rebalancing the value weights will be based on the point in time lagged market capitalization of the stocks\n",
    "\n",
    "Let's start by tagging the dates first, \n"
   ]
  },
  {
   "cell_type": "code",
   "execution_count": 18,
   "metadata": {
    "ExecuteTime": {
     "end_time": "2021-03-14T20:33:18.418579Z",
     "start_time": "2021-03-14T20:33:17.442823Z"
    },
    "run_control": {
     "marked": false
    }
   },
   "outputs": [],
   "source": [
    "crsp_df__['year'] = crsp_df__['date_port'].dt.year\n",
    "crsp_df__['month'] = crsp_df__['date_port'].dt.month\n",
    "crsp_df__['date_ff'] = crsp_df__['date_port'] + MonthEnd(-select_month)\n",
    "crsp_df__['year_ff'] = crsp_df__['date_ff'].dt.year\n",
    "crsp_df__['month_ff'] = crsp_df__['date_ff'].dt.month"
   ]
  },
  {
   "cell_type": "markdown",
   "metadata": {},
   "source": [
    "- Next we calculate the adjusted market capitalization, that is the numerator of the previous equation\n",
    "- In the case of QMJ, we will use the lagged market cap as `mcap_adj` instead of the cumulative market cap from portfolio formation period as in fama french, since we are rebalancing every month instead of once a year. Using the FF approach will bias the result since the market cap calculated under that case will keep number of shares outstanding constant starting june every month. But what we need is for both price and quantity to change every month.  "
   ]
  },
  {
   "cell_type": "code",
   "execution_count": 19,
   "metadata": {
    "ExecuteTime": {
     "end_time": "2021-03-14T20:34:39.621240Z",
     "start_time": "2021-03-14T20:33:18.419472Z"
    },
    "run_control": {
     "marked": false
    }
   },
   "outputs": [],
   "source": [
    "crsp_df__['cum_ret'] = crsp_df__.groupby(['permno', 'year_ff'])['ret'].apply(lambda x: (1+x).cumprod())\n",
    "crsp_df__['lag_cum_ret'] = crsp_df__.groupby(['permno'])['cum_ret'].shift(1)\n",
    "crsp_df__['lag_mcap'] = crsp_df__.groupby('permno')['mcap'].shift(1)\n",
    "\n",
    "crsp_df__['permno_count'] = crsp_df__.groupby('permno').cumcount()\n",
    "crsp_df__['lag_mcap'].mask(crsp_df__['permno_count'] == 0, \n",
    "                           crsp_df__['mcap']/(1+crsp_df__['ret']), \n",
    "                           inplace=True)\n",
    "\n",
    "mcap_base = crsp_df__.loc[crsp_df__['month_ff']==1,['permno', 'year_ff', 'lag_mcap']].\\\n",
    "                rename(columns={'lag_mcap': 'mcap_base'})\n",
    "\n",
    "crsp_final_df = crsp_df__.merge(mcap_base, how='left', on=['permno', 'year_ff'])\n",
    "crsp_final_df['mcap_adj'] = crsp_final_df['lag_mcap'].copy()\n",
    "# np.where(crsp_final_df['month_ff'] == 1, \n",
    "#          crsp_final_df['lag_mcap'], \n",
    "#          crsp_final_df['mcap_base']*crsp_final_df['lag_cum_ret'])"
   ]
  },
  {
   "cell_type": "markdown",
   "metadata": {},
   "source": [
    "**Let's also partition out a dataframe for the end of year market capitalization, can be used for variable calculation**"
   ]
  },
  {
   "cell_type": "code",
   "execution_count": 20,
   "metadata": {
    "ExecuteTime": {
     "end_time": "2021-03-14T20:34:40.168743Z",
     "start_time": "2021-03-14T20:34:39.622204Z"
    },
    "run_control": {
     "marked": false
    }
   },
   "outputs": [],
   "source": [
    "dec_mcap = crsp_final_df.loc[crsp_final_df['month']==12,:].copy()\n",
    "dec_mcap.rename(columns = {'mcap':'dec_mcap'},inplace=True)\n",
    "dec_mcap['year'] = dec_mcap['year'] + 1\n",
    "dec_mcap = dec_mcap.loc[:,['permno','year','dec_mcap']].copy()"
   ]
  },
  {
   "cell_type": "markdown",
   "metadata": {},
   "source": [
    "**Subset the CRSP data based on the formation date** "
   ]
  },
  {
   "cell_type": "code",
   "execution_count": 21,
   "metadata": {
    "ExecuteTime": {
     "end_time": "2021-03-14T20:34:40.860941Z",
     "start_time": "2021-03-14T20:34:40.169740Z"
    },
    "run_control": {
     "marked": false
    }
   },
   "outputs": [],
   "source": [
    "crsp_mnth = pd.merge(crsp_final_df[crsp_final_df['month']==select_month].copy(), dec_mcap,\n",
    "                     how='inner', on=['permno', 'year']).sort_values(['permno', 'date_port']).drop_duplicates()"
   ]
  },
  {
   "cell_type": "markdown",
   "metadata": {
    "run_control": {
     "marked": true
    }
   },
   "source": [
    "**Merging Compustat with CRSP**\n",
    "\n",
    "- First we inner join `ccm_df` with `compam_df` to get the permno for a given gvkey\n",
    "- We use financial information up until the end of t-1 and form portfolios at June of year t, this gives us `date_me`\n",
    "- Next we sort the dataframe based on whether the `date_me` within the linked date ranges to ensure the permnos being used is valid\n",
    "- Inner join the CRSP final dataframe with the compustat file containing the permnos"
   ]
  },
  {
   "cell_type": "code",
   "execution_count": 22,
   "metadata": {
    "ExecuteTime": {
     "end_time": "2021-03-14T20:34:42.518872Z",
     "start_time": "2021-03-14T20:34:40.861889Z"
    },
    "run_control": {
     "marked": false
    }
   },
   "outputs": [],
   "source": [
    "compa_df__ = compa_df_.merge(ccm_df, how='left', on='gvkey')\n",
    "compa_df__['year'] = compa_df__['datadate'].dt.year\n",
    "compa_df__['datadate_mend'] = compa_df__['datadate'] + MonthEnd(0)\n",
    "compa_df__['date_port'] = compa_df__['datadate'] + YearEnd(0) + MonthEnd(select_month)\n",
    "\n",
    "linkdt_bnds = (compa_df__['date_port'] >= compa_df__['linkdt']) & (compa_df__['date_port'] <= compa_df__['linkenddt']) \n",
    "\n",
    "ccompa_month = pd.merge(crsp_mnth, compa_df__[linkdt_bnds], how='inner', \n",
    "                        on=['permno','date_port'], suffixes=('_crsp', '_comp'))\n",
    "ccompa_month.sort_values(['permno','date_port'], inplace=True)"
   ]
  },
  {
   "cell_type": "markdown",
   "metadata": {},
   "source": [
    "**Calculating post merge quality metrics**\n",
    "\n",
    "- Calculate cross sectional rank for each sub component\n",
    "\n",
    "$$r_{x} = rank(x)$$\n",
    "\n",
    "- Transform rank into zscore for each sub component\n",
    "\n",
    "$$z(x) = \\frac{r_{x} - \\hat{r_{x}}}{\\sigma(r_{x})}$$\n",
    "- Average all the zscores to get one single score for the main component\n",
    "- Now, rank again the main component score cross sectionally \n",
    "- Finally, transform the main component ranks into z scores, for any main component $X$ with $n$ sub components\n",
    "$$Z_{X} = z[(1/n)*\\sum_{i}z_{x_{i}})]$$\n",
    "- Now to get the final quality score repeat step 3 to 5\n",
    "$$Quality = z[(1/3)*(Z_{profit}+Z_{safety}+Z_{growth}+Z_{payout})]$$\n"
   ]
  },
  {
   "cell_type": "code",
   "execution_count": 23,
   "metadata": {
    "ExecuteTime": {
     "end_time": "2021-03-14T20:34:53.567300Z",
     "start_time": "2021-03-14T20:34:48.714176Z"
    },
    "run_control": {
     "marked": true
    },
    "scrolled": true
   },
   "outputs": [
    {
     "name": "stderr",
     "output_type": "stream",
     "text": [
      "S:\\Users\\sheha\\anaconda3\\envs\\sentinel_prime\\lib\\site-packages\\ipykernel_launcher.py:11: FutureWarning: Indexing with multiple keys (implicitly converted to a tuple of keys) will be deprecated, use a list instead.\n",
      "  # This is added back by InteractiveShellApp.init_path()\n",
      "S:\\Users\\sheha\\anaconda3\\envs\\sentinel_prime\\lib\\site-packages\\ipykernel_launcher.py:12: FutureWarning: Indexing with multiple keys (implicitly converted to a tuple of keys) will be deprecated, use a list instead.\n",
      "  if sys.path[0] == '':\n",
      "S:\\Users\\sheha\\anaconda3\\envs\\sentinel_prime\\lib\\site-packages\\ipykernel_launcher.py:13: FutureWarning: Indexing with multiple keys (implicitly converted to a tuple of keys) will be deprecated, use a list instead.\n",
      "  del sys.path[0]\n",
      "S:\\Users\\sheha\\anaconda3\\envs\\sentinel_prime\\lib\\site-packages\\ipykernel_launcher.py:14: FutureWarning: Indexing with multiple keys (implicitly converted to a tuple of keys) will be deprecated, use a list instead.\n",
      "  \n"
     ]
    }
   ],
   "source": [
    "#Book to Market\n",
    "#ccompa_month['bm'] = (ccompa_month['be']*1000)/ccompa_month['dec_mcap']\n",
    "\n",
    "score_grouper = ccompa_month.groupby('date_port')\n",
    "\n",
    "profrank_ids = ['gpoa_rank', 'roe_rank', 'roa_rank', 'cfoa_rank', 'gmar_rank', 'acc_rank']\n",
    "growthrank_ids = ['delgpoa_rank', 'delroe_rank', 'delroa_rank', 'delcfoa_rank', 'delgmar_rank'] \n",
    "saferank_ids = ['bab_rank', 'lev_rank', 'oscore_rank', 'zscore_rank', 'roevol_rank']\n",
    "porank_ids = ['eiss_rank', 'diss_rank', 'npop_rank']\n",
    "\n",
    "ccompa_month[profrank_ids] = score_grouper['gpoa', 'roe', 'roa', 'cfoa', 'gmar', 'acc'].rank()\n",
    "ccompa_month[growthrank_ids] = score_grouper['del_gpoa', 'del_roe', 'del_roa', 'del_cfoa', 'del_gmar'].rank()\n",
    "ccompa_month[saferank_ids] = score_grouper['bab', 'lev', 'O_score', 'Z_score', 'roe_vol'].rank()\n",
    "ccompa_month[porank_ids] = score_grouper['eiss', 'diss', 'npop'].rank()\n",
    "\n",
    "ccompa_month['profit'] = score_grouper[profrank_ids].apply(lambda x: (x - x.mean())/x.std()).mean(axis=1)\n",
    "ccompa_month['growth'] = score_grouper[growthrank_ids].apply(lambda x: (x - x.mean())/x.std()).mean(axis=1)\n",
    "ccompa_month['safety'] = score_grouper[saferank_ids].apply(lambda x: (x - x.mean())/x.std()).mean(axis=1)\n",
    "ccompa_month['payout'] = score_grouper[porank_ids].apply(lambda x: (x - x.mean())/x.std()).mean(axis=1)\n",
    "\n",
    "ccompa_month['rank_profit'] = score_grouper['profit'].rank()\n",
    "ccompa_month['Z_profit'] = score_grouper['rank_profit'].apply(lambda x: (x - x.mean())/x.std())\n",
    "\n",
    "ccompa_month['rank_growth'] = score_grouper['growth'].rank()\n",
    "ccompa_month['Z_growth'] = score_grouper['rank_growth'].apply(lambda x: (x - x.mean())/x.std())\n",
    "\n",
    "ccompa_month['rank_safety'] = score_grouper['safety'].rank()\n",
    "ccompa_month['Z_safety'] = score_grouper['rank_safety'].apply(lambda x: (x - x.mean())/x.std())\n",
    "\n",
    "ccompa_month['rank_payout'] = score_grouper['payout'].rank()\n",
    "ccompa_month['Z_payout'] = score_grouper['rank_payout'].apply(lambda x: (x - x.mean())/x.std())\n",
    "\n",
    "# final quality score\n",
    "ccompa_month['quality'] = ccompa_month[['Z_profit', 'Z_growth', 'Z_safety', 'Z_payout']].mean(axis=1)\n",
    "ccompa_month['rank_quality'] = score_grouper['quality'].rank()\n",
    "ccompa_month['Z_quality'] = score_grouper['rank_quality'].apply(lambda x: (x - x.mean())/x.std())"
   ]
  },
  {
   "cell_type": "code",
   "execution_count": 50,
   "metadata": {
    "ExecuteTime": {
     "end_time": "2021-03-14T20:52:23.080239Z",
     "start_time": "2021-03-14T20:52:23.052314Z"
    }
   },
   "outputs": [
    {
     "data": {
      "text/html": [
       "<div>\n",
       "<style scoped>\n",
       "    .dataframe tbody tr th:only-of-type {\n",
       "        vertical-align: middle;\n",
       "    }\n",
       "\n",
       "    .dataframe tbody tr th {\n",
       "        vertical-align: top;\n",
       "    }\n",
       "\n",
       "    .dataframe thead th {\n",
       "        text-align: right;\n",
       "    }\n",
       "</style>\n",
       "<table border=\"1\" class=\"dataframe\">\n",
       "  <thead>\n",
       "    <tr style=\"text-align: right;\">\n",
       "      <th></th>\n",
       "      <th>Z_profit</th>\n",
       "      <th>Z_growth</th>\n",
       "      <th>Z_safety</th>\n",
       "      <th>Z_quality</th>\n",
       "    </tr>\n",
       "  </thead>\n",
       "  <tbody>\n",
       "    <tr>\n",
       "      <th>Z_profit</th>\n",
       "      <td>1.000000</td>\n",
       "      <td>0.268552</td>\n",
       "      <td>0.160536</td>\n",
       "      <td>0.672384</td>\n",
       "    </tr>\n",
       "    <tr>\n",
       "      <th>Z_growth</th>\n",
       "      <td>0.268552</td>\n",
       "      <td>1.000000</td>\n",
       "      <td>0.061111</td>\n",
       "      <td>0.594441</td>\n",
       "    </tr>\n",
       "    <tr>\n",
       "      <th>Z_safety</th>\n",
       "      <td>0.160536</td>\n",
       "      <td>0.061111</td>\n",
       "      <td>1.000000</td>\n",
       "      <td>0.594141</td>\n",
       "    </tr>\n",
       "    <tr>\n",
       "      <th>Z_quality</th>\n",
       "      <td>0.672384</td>\n",
       "      <td>0.594441</td>\n",
       "      <td>0.594141</td>\n",
       "      <td>1.000000</td>\n",
       "    </tr>\n",
       "  </tbody>\n",
       "</table>\n",
       "</div>"
      ],
      "text/plain": [
       "           Z_profit  Z_growth  Z_safety  Z_quality\n",
       "Z_profit   1.000000  0.268552  0.160536   0.672384\n",
       "Z_growth   0.268552  1.000000  0.061111   0.594441\n",
       "Z_safety   0.160536  0.061111  1.000000   0.594141\n",
       "Z_quality  0.672384  0.594441  0.594141   1.000000"
      ]
     },
     "execution_count": 50,
     "metadata": {},
     "output_type": "execute_result"
    }
   ],
   "source": [
    "ccompa_month[['Z_profit', 'Z_growth', 'Z_safety', 'Z_quality']].corr()"
   ]
  },
  {
   "cell_type": "markdown",
   "metadata": {},
   "source": [
    "**Merge back with monthly returns to get full time series**\n",
    "\n",
    "AQR rebalances QMJ on a monthly basis. So we need the signals to take effect end of every month instead of once a portfolio formation date per year."
   ]
  },
  {
   "cell_type": "code",
   "execution_count": 35,
   "metadata": {
    "ExecuteTime": {
     "end_time": "2021-03-14T20:40:13.194658Z",
     "start_time": "2021-03-14T20:40:12.447577Z"
    },
    "run_control": {
     "marked": false
    }
   },
   "outputs": [],
   "source": [
    "portann_df = ccompa_month[['date', 'permno', 'date_port', 'Z_quality']].copy()\n",
    "portann_df['year_ff'] = portann_df['date_port'].dt.year\n",
    "\n",
    "strat_cols2 = ['date', 'permno', 'permno_count', 'shrcd', 'exchcd', 'ret_final',\n",
    "               'mcap','mcap_adj', 'cum_ret', 'year_ff', 'date_port']\n",
    "strat_cols1 = ['permno', 'year_ff', 'Z_quality']\n",
    "portmnth_df = pd.merge(crsp_final_df[strat_cols2], portann_df[strat_cols1], how='left', on=['permno','year_ff'])"
   ]
  },
  {
   "cell_type": "markdown",
   "metadata": {},
   "source": [
    "**Getting the NYSE Breakpoints**\n",
    "\n",
    "Conditions for the breakpoints:\n",
    "- Exchange code 1\n",
    "- Share code 10 and 11\n",
    "- positive market cap\n",
    "- at least 2 years in compustat"
   ]
  },
  {
   "cell_type": "code",
   "execution_count": 36,
   "metadata": {
    "ExecuteTime": {
     "end_time": "2021-03-14T20:42:01.855869Z",
     "start_time": "2021-03-14T20:40:23.697020Z"
    }
   },
   "outputs": [],
   "source": [
    "nyse_ix = (portmnth_df['mcap'] > 0) & (portmnth_df['exchcd'] == 1) & \\\n",
    "         ((portmnth_df['shrcd'] == 10) | (portmnth_df['shrcd'] == 11)) & (portmnth_df['permno_count'] >= 23)\n",
    "port_ix = (portmnth_df['mcap'] > 0) & (portmnth_df['permno_count'] >= 23)\n",
    "\n",
    "# size_grouper = portmnth_df[nyse_ix].groupby('date_port')\n",
    "# nyse_szbucket = size_grouper['mcap'].median().reset_index().\\\n",
    "#                 rename(columns={'mcap':'nyse_median'})\n",
    "\n",
    "ff_meb = (data.DataReader('ME_Breakpoints', 'famafrench', start='1920-10-01')[0].iloc[:,1:]*1000).shift(1).dropna()\n",
    "ff_meb.index = pd.to_datetime(ff_meb.index.astype(str)) + MonthEnd(0)\n",
    "\n",
    "nyse_szbucket = pd.DataFrame()\n",
    "nyse_szbucket['nyse_median'] = ff_meb[(45,50)].reset_index(drop=True).copy()\n",
    "nyse_szbucket['date_port'] = ff_meb.index\n",
    "\n",
    "portmnth_df = portmnth_df.merge(nyse_szbucket, how='left', on='date_port')\n",
    "\n",
    "def szbucket(x):\n",
    "    if np.isnan(x['mcap_adj']):\n",
    "        return ''\n",
    "    elif x['mcap_adj'] <= x['nyse_median']:\n",
    "        return 'S'\n",
    "    else: return 'B'\n",
    "\n",
    "portmnth_df['szbucket'] = np.where(port_ix, portmnth_df.apply(szbucket, axis=1), '')"
   ]
  },
  {
   "cell_type": "markdown",
   "metadata": {
    "ExecuteTime": {
     "end_time": "2021-02-27T05:18:17.266199Z",
     "start_time": "2021-02-27T05:18:17.252235Z"
    },
    "run_control": {
     "marked": true
    }
   },
   "source": [
    "**Conditional Sorting**\n",
    "\n",
    "For each portfolio formation date and size bucket, Use `Z_quality` to conditional sort by quality score.\n",
    "Using 30th and 70th percentiles. "
   ]
  },
  {
   "cell_type": "code",
   "execution_count": 37,
   "metadata": {
    "ExecuteTime": {
     "end_time": "2021-03-14T20:45:02.975627Z",
     "start_time": "2021-03-14T20:42:01.856860Z"
    }
   },
   "outputs": [],
   "source": [
    "prcntiles = [0.30, 0.70]\n",
    "\n",
    "nyse_qbucket = portmnth_df[nyse_ix].groupby(['date_port','szbucket'])['Z_quality'].\\\n",
    "                                    describe(percentiles=prcntiles).reset_index()[['date_port','szbucket','30%', '70%']]\n",
    "portmnth_df = portmnth_df.merge(nyse_qbucket, how='left', on=['date_port','szbucket'])\n",
    "portmnth_df.rename(columns={'30%':'f30', '70%':'f70'},inplace=True)\n",
    "\n",
    "def qbucket(x):\n",
    "    if (x['Z_quality'] <= x['f30']):\n",
    "        return 'J'\n",
    "    elif (x['Z_quality'] > x['f30']) & (x['Z_quality'] <= x['f70']):\n",
    "        return 'M'\n",
    "    elif (x['Z_quality'] > x['f70']):\n",
    "        return 'Q'\n",
    "    else: return ''\n",
    "\n",
    "portmnth_df['qbucket'] = np.where(port_ix, portmnth_df.apply(qbucket, axis=1), '')\n",
    "portmnth_df['posq_tag'] = np.where(port_ix, 1, 0)\n",
    "portmnth_df['q_tag'] = np.where(portmnth_df['qbucket'] == '', 0, 1)\n",
    "\n",
    "# Keeping observations with available and positive mcap, positive market cap and under `shrcd` 10 and 11 \n",
    "portmnth_ix = (portmnth_df['mcap_adj'] > 0) & (portmnth_df['posq_tag'] == 1) & (portmnth_df['q_tag'] == 1) & \\\n",
    "                ((portmnth_df['shrcd'] == 10) | (portmnth_df['shrcd'] == 11))\n",
    "portmnth_df = portmnth_df[portmnth_ix]"
   ]
  },
  {
   "cell_type": "code",
   "execution_count": 26,
   "metadata": {
    "ExecuteTime": {
     "end_time": "2021-02-28T15:01:16.567438Z",
     "start_time": "2021-02-28T15:01:16.553443Z"
    },
    "run_control": {
     "marked": false
    }
   },
   "outputs": [],
   "source": [
    "# portann_df = ccompa_month[['date', 'permno', 'date_port','szbucket', 'qbucket', 'posq_tag', 'q_tag']]\n",
    "# portann_df['year_ff'] = portann_df['date_port'].dt.year\n",
    "\n",
    "# strat_cols1 = [ 'permno', 'year_ff','szbucket', 'qbucket', 'posq_tag', 'q_tag']\n",
    "# strat_cols2 = ['date', 'permno', 'shrcd', 'exchcd', 'ret_final', 'mcap','mcap_adj', 'cum_ret', 'year_ff', 'date_port']\n",
    "\n",
    "# portmnth_df = pd.merge(crsp_final_df[strat_cols2], portann_df[strat_cols1], how='left', on=['permno','year_ff'])\n",
    "# portmnth_ix = (portmnth_df['mcap_adj'] > 0) & (portmnth_df['posq_tag'] == 1) & (portmnth_df['q_tag'] == 1) & \\\n",
    "#                 ((portmnth_df['shrcd'] == 10) | (portmnth_df['shrcd'] == 11))\n",
    "# portmnth_df = portmnth_df[portmnth_ix]"
   ]
  },
  {
   "cell_type": "markdown",
   "metadata": {
    "ExecuteTime": {
     "end_time": "2021-02-25T04:52:42.260748Z",
     "start_time": "2021-02-25T04:52:42.254764Z"
    }
   },
   "source": [
    "**Calculate the value weighted return**\n",
    "\n",
    "Simple value weighted return using `mcap_adj`"
   ]
  },
  {
   "cell_type": "code",
   "execution_count": 38,
   "metadata": {
    "ExecuteTime": {
     "end_time": "2021-03-14T20:45:05.839967Z",
     "start_time": "2021-03-14T20:45:02.976651Z"
    },
    "run_control": {
     "marked": false
    },
    "scrolled": true
   },
   "outputs": [
    {
     "data": {
      "text/html": [
       "<div>\n",
       "<style scoped>\n",
       "    .dataframe tbody tr th:only-of-type {\n",
       "        vertical-align: middle;\n",
       "    }\n",
       "\n",
       "    .dataframe tbody tr th {\n",
       "        vertical-align: top;\n",
       "    }\n",
       "\n",
       "    .dataframe thead th {\n",
       "        text-align: right;\n",
       "    }\n",
       "</style>\n",
       "<table border=\"1\" class=\"dataframe\">\n",
       "  <thead>\n",
       "    <tr style=\"text-align: right;\">\n",
       "      <th></th>\n",
       "      <th>date_port</th>\n",
       "      <th>szbucket</th>\n",
       "      <th>qbucket</th>\n",
       "      <th>vw_ret</th>\n",
       "    </tr>\n",
       "  </thead>\n",
       "  <tbody>\n",
       "    <tr>\n",
       "      <th>0</th>\n",
       "      <td>1951-07-31</td>\n",
       "      <td>B</td>\n",
       "      <td>J</td>\n",
       "      <td>0.071453</td>\n",
       "    </tr>\n",
       "    <tr>\n",
       "      <th>1</th>\n",
       "      <td>1951-07-31</td>\n",
       "      <td>B</td>\n",
       "      <td>M</td>\n",
       "      <td>0.086652</td>\n",
       "    </tr>\n",
       "    <tr>\n",
       "      <th>2</th>\n",
       "      <td>1951-07-31</td>\n",
       "      <td>B</td>\n",
       "      <td>Q</td>\n",
       "      <td>0.071723</td>\n",
       "    </tr>\n",
       "    <tr>\n",
       "      <th>3</th>\n",
       "      <td>1951-07-31</td>\n",
       "      <td>S</td>\n",
       "      <td>J</td>\n",
       "      <td>0.063927</td>\n",
       "    </tr>\n",
       "    <tr>\n",
       "      <th>4</th>\n",
       "      <td>1951-07-31</td>\n",
       "      <td>S</td>\n",
       "      <td>M</td>\n",
       "      <td>0.047111</td>\n",
       "    </tr>\n",
       "    <tr>\n",
       "      <th>5</th>\n",
       "      <td>1951-07-31</td>\n",
       "      <td>S</td>\n",
       "      <td>Q</td>\n",
       "      <td>0.067157</td>\n",
       "    </tr>\n",
       "    <tr>\n",
       "      <th>6</th>\n",
       "      <td>1951-08-31</td>\n",
       "      <td>B</td>\n",
       "      <td>J</td>\n",
       "      <td>0.054947</td>\n",
       "    </tr>\n",
       "    <tr>\n",
       "      <th>7</th>\n",
       "      <td>1951-08-31</td>\n",
       "      <td>B</td>\n",
       "      <td>M</td>\n",
       "      <td>0.055992</td>\n",
       "    </tr>\n",
       "    <tr>\n",
       "      <th>8</th>\n",
       "      <td>1951-08-31</td>\n",
       "      <td>B</td>\n",
       "      <td>Q</td>\n",
       "      <td>0.039744</td>\n",
       "    </tr>\n",
       "    <tr>\n",
       "      <th>9</th>\n",
       "      <td>1951-08-31</td>\n",
       "      <td>S</td>\n",
       "      <td>J</td>\n",
       "      <td>0.071169</td>\n",
       "    </tr>\n",
       "  </tbody>\n",
       "</table>\n",
       "</div>"
      ],
      "text/plain": [
       "   date_port szbucket qbucket    vw_ret\n",
       "0 1951-07-31        B       J  0.071453\n",
       "1 1951-07-31        B       M  0.086652\n",
       "2 1951-07-31        B       Q  0.071723\n",
       "3 1951-07-31        S       J  0.063927\n",
       "4 1951-07-31        S       M  0.047111\n",
       "5 1951-07-31        S       Q  0.067157\n",
       "6 1951-08-31        B       J  0.054947\n",
       "7 1951-08-31        B       M  0.055992\n",
       "8 1951-08-31        B       Q  0.039744\n",
       "9 1951-08-31        S       J  0.071169"
      ]
     },
     "execution_count": 38,
     "metadata": {},
     "output_type": "execute_result"
    }
   ],
   "source": [
    "def wavg(group, avg_name, weight_name):\n",
    "    d = group[avg_name]\n",
    "    w = group[weight_name]\n",
    "    try:\n",
    "        return (d * w).sum() / w.sum()\n",
    "    except ZeroDivisionError:\n",
    "        return np.nan\n",
    "\n",
    "vw_ret_df = portmnth_df.groupby(['date_port', 'szbucket', 'qbucket']).apply(wavg, 'ret_final', 'mcap_adj').\\\n",
    "                    reset_index().rename(columns={0: 'vw_ret'})\n",
    "vw_ret_df.head(10)"
   ]
  },
  {
   "cell_type": "markdown",
   "metadata": {},
   "source": [
    "**Lets calculate the returns for conditional size sorted portfolios and the QMJ factor**\n",
    "\n",
    "$$QMJ = (1/2)*(SQ - SJ) + (1/2)*(BQ - BJ)$$\n",
    "- SQ = Small Quality\n",
    "- SJ = Small Junk\n",
    "- BQ = Big Quality\n",
    "- BJ = Big Junk\n"
   ]
  },
  {
   "cell_type": "code",
   "execution_count": 39,
   "metadata": {
    "ExecuteTime": {
     "end_time": "2021-03-14T20:45:18.440070Z",
     "start_time": "2021-03-14T20:45:18.395190Z"
    }
   },
   "outputs": [
    {
     "data": {
      "text/html": [
       "<div>\n",
       "<style scoped>\n",
       "    .dataframe tbody tr th:only-of-type {\n",
       "        vertical-align: middle;\n",
       "    }\n",
       "\n",
       "    .dataframe tbody tr th {\n",
       "        vertical-align: top;\n",
       "    }\n",
       "\n",
       "    .dataframe thead th {\n",
       "        text-align: right;\n",
       "    }\n",
       "</style>\n",
       "<table border=\"1\" class=\"dataframe\">\n",
       "  <thead>\n",
       "    <tr style=\"text-align: right;\">\n",
       "      <th>port_ids</th>\n",
       "      <th>BJ</th>\n",
       "      <th>BM</th>\n",
       "      <th>BQ</th>\n",
       "      <th>SJ</th>\n",
       "      <th>SM</th>\n",
       "      <th>SQ</th>\n",
       "      <th>QMJ</th>\n",
       "    </tr>\n",
       "  </thead>\n",
       "  <tbody>\n",
       "    <tr>\n",
       "      <th>count</th>\n",
       "      <td>834.000000</td>\n",
       "      <td>834.000000</td>\n",
       "      <td>834.000000</td>\n",
       "      <td>834.000000</td>\n",
       "      <td>834.000000</td>\n",
       "      <td>834.000000</td>\n",
       "      <td>834.000000</td>\n",
       "    </tr>\n",
       "    <tr>\n",
       "      <th>mean</th>\n",
       "      <td>0.008271</td>\n",
       "      <td>0.010115</td>\n",
       "      <td>0.011156</td>\n",
       "      <td>0.010294</td>\n",
       "      <td>0.012677</td>\n",
       "      <td>0.013250</td>\n",
       "      <td>0.002920</td>\n",
       "    </tr>\n",
       "    <tr>\n",
       "      <th>std</th>\n",
       "      <td>0.047144</td>\n",
       "      <td>0.043338</td>\n",
       "      <td>0.039594</td>\n",
       "      <td>0.066235</td>\n",
       "      <td>0.055743</td>\n",
       "      <td>0.052527</td>\n",
       "      <td>0.017432</td>\n",
       "    </tr>\n",
       "    <tr>\n",
       "      <th>min</th>\n",
       "      <td>-0.229982</td>\n",
       "      <td>-0.213363</td>\n",
       "      <td>-0.203058</td>\n",
       "      <td>-0.323571</td>\n",
       "      <td>-0.275529</td>\n",
       "      <td>-0.283007</td>\n",
       "      <td>-0.085803</td>\n",
       "    </tr>\n",
       "    <tr>\n",
       "      <th>25%</th>\n",
       "      <td>-0.017312</td>\n",
       "      <td>-0.014345</td>\n",
       "      <td>-0.011940</td>\n",
       "      <td>-0.026302</td>\n",
       "      <td>-0.016710</td>\n",
       "      <td>-0.017436</td>\n",
       "      <td>-0.007597</td>\n",
       "    </tr>\n",
       "    <tr>\n",
       "      <th>50%</th>\n",
       "      <td>0.010858</td>\n",
       "      <td>0.012757</td>\n",
       "      <td>0.013012</td>\n",
       "      <td>0.014080</td>\n",
       "      <td>0.015870</td>\n",
       "      <td>0.014162</td>\n",
       "      <td>0.003212</td>\n",
       "    </tr>\n",
       "    <tr>\n",
       "      <th>75%</th>\n",
       "      <td>0.036154</td>\n",
       "      <td>0.037444</td>\n",
       "      <td>0.037050</td>\n",
       "      <td>0.048730</td>\n",
       "      <td>0.043702</td>\n",
       "      <td>0.044425</td>\n",
       "      <td>0.013233</td>\n",
       "    </tr>\n",
       "    <tr>\n",
       "      <th>max</th>\n",
       "      <td>0.181638</td>\n",
       "      <td>0.169615</td>\n",
       "      <td>0.166710</td>\n",
       "      <td>0.317706</td>\n",
       "      <td>0.293594</td>\n",
       "      <td>0.260026</td>\n",
       "      <td>0.064680</td>\n",
       "    </tr>\n",
       "  </tbody>\n",
       "</table>\n",
       "</div>"
      ],
      "text/plain": [
       "port_ids          BJ          BM          BQ          SJ          SM  \\\n",
       "count     834.000000  834.000000  834.000000  834.000000  834.000000   \n",
       "mean        0.008271    0.010115    0.011156    0.010294    0.012677   \n",
       "std         0.047144    0.043338    0.039594    0.066235    0.055743   \n",
       "min        -0.229982   -0.213363   -0.203058   -0.323571   -0.275529   \n",
       "25%        -0.017312   -0.014345   -0.011940   -0.026302   -0.016710   \n",
       "50%         0.010858    0.012757    0.013012    0.014080    0.015870   \n",
       "75%         0.036154    0.037444    0.037050    0.048730    0.043702   \n",
       "max         0.181638    0.169615    0.166710    0.317706    0.293594   \n",
       "\n",
       "port_ids          SQ         QMJ  \n",
       "count     834.000000  834.000000  \n",
       "mean        0.013250    0.002920  \n",
       "std         0.052527    0.017432  \n",
       "min        -0.283007   -0.085803  \n",
       "25%        -0.017436   -0.007597  \n",
       "50%         0.014162    0.003212  \n",
       "75%         0.044425    0.013233  \n",
       "max         0.260026    0.064680  "
      ]
     },
     "execution_count": 39,
     "metadata": {},
     "output_type": "execute_result"
    }
   ],
   "source": [
    "vw_ret_df['port_ids'] = vw_ret_df['szbucket'] + vw_ret_df['qbucket']\n",
    "qmj_factors = vw_ret_df.pivot_table(values='vw_ret',index='date_port', columns='port_ids').reset_index()\n",
    "qmj_factors['QMJ'] = (qmj_factors['BQ'] + qmj_factors['SQ'])/2 - (qmj_factors['BJ'] + qmj_factors['SJ'])/2\n",
    "qmj_factors.index = qmj_factors['date_port']\n",
    "qmj_factors.drop('date_port', axis=1)\n",
    "qmj_factors.describe()"
   ]
  },
  {
   "cell_type": "markdown",
   "metadata": {},
   "source": [
    "**Let's add the fama french risk free rate and calculate excess returns for the size sorted portfolios**"
   ]
  },
  {
   "cell_type": "code",
   "execution_count": 40,
   "metadata": {
    "ExecuteTime": {
     "end_time": "2021-03-14T20:45:24.449524Z",
     "start_time": "2021-03-14T20:45:24.427556Z"
    }
   },
   "outputs": [],
   "source": [
    "qmj_ports = ['BJ', 'BM', 'BQ', 'SJ', 'SM', 'SQ']\n",
    "ff_rf.index =  pd.to_datetime(ff_rf.index.astype(str)) + MonthEnd(0)\n",
    "qmj_factors = pd.concat([qmj_factors, ff_rf], axis=1).dropna()\n",
    "qmj_factors['RF'] = qmj_factors['RF']/12\n",
    "qmj_factors[qmj_ports] = qmj_factors[qmj_ports].sub(qmj_factors['RF'], axis=0)"
   ]
  },
  {
   "cell_type": "code",
   "execution_count": 41,
   "metadata": {
    "ExecuteTime": {
     "end_time": "2021-03-14T20:45:25.932990Z",
     "start_time": "2021-03-14T20:45:25.729823Z"
    }
   },
   "outputs": [
    {
     "data": {
      "text/plain": [
       "Text(0.5, 1.0, '2 X 3 Portfolios - Quality Replication - at 10% Vol')"
      ]
     },
     "execution_count": 41,
     "metadata": {},
     "output_type": "execute_result"
    },
    {
     "data": {
      "image/png": "[encoded data removed]",
      "text/plain": [
       "<Figure size 864x720 with 1 Axes>"
      ]
     },
     "metadata": {},
     "output_type": "display_data"
    }
   ],
   "source": [
    "qmj_factors.loc['1957/07':, ['BJ', 'BM', 'BQ', 'SJ', 'SM', 'SQ', 'QMJ']].\\\n",
    "                        apply(lambda x: x*(0.10/(x.std()*3.46))).cumsum().plot()\n",
    "plt.title('2 X 3 Portfolios - Quality Replication - at 10% Vol')"
   ]
  },
  {
   "cell_type": "code",
   "execution_count": 45,
   "metadata": {
    "ExecuteTime": {
     "end_time": "2021-03-14T20:46:14.019938Z",
     "start_time": "2021-03-14T20:46:13.994976Z"
    },
    "scrolled": true
   },
   "outputs": [
    {
     "data": {
      "text/html": [
       "<div>\n",
       "<style scoped>\n",
       "    .dataframe tbody tr th:only-of-type {\n",
       "        vertical-align: middle;\n",
       "    }\n",
       "\n",
       "    .dataframe tbody tr th {\n",
       "        vertical-align: top;\n",
       "    }\n",
       "\n",
       "    .dataframe thead th {\n",
       "        text-align: right;\n",
       "    }\n",
       "</style>\n",
       "<table border=\"1\" class=\"dataframe\">\n",
       "  <thead>\n",
       "    <tr style=\"text-align: right;\">\n",
       "      <th></th>\n",
       "      <th>BJ</th>\n",
       "      <th>BM</th>\n",
       "      <th>BQ</th>\n",
       "      <th>SJ</th>\n",
       "      <th>SM</th>\n",
       "      <th>SQ</th>\n",
       "      <th>QMJ</th>\n",
       "    </tr>\n",
       "  </thead>\n",
       "  <tbody>\n",
       "    <tr>\n",
       "      <th>BJ</th>\n",
       "      <td>1.000000</td>\n",
       "      <td>0.953599</td>\n",
       "      <td>0.911225</td>\n",
       "      <td>0.859713</td>\n",
       "      <td>0.864746</td>\n",
       "      <td>0.853077</td>\n",
       "      <td>-0.665813</td>\n",
       "    </tr>\n",
       "    <tr>\n",
       "      <th>BM</th>\n",
       "      <td>0.953599</td>\n",
       "      <td>1.000000</td>\n",
       "      <td>0.934921</td>\n",
       "      <td>0.827758</td>\n",
       "      <td>0.836155</td>\n",
       "      <td>0.831859</td>\n",
       "      <td>-0.546959</td>\n",
       "    </tr>\n",
       "    <tr>\n",
       "      <th>BQ</th>\n",
       "      <td>0.911225</td>\n",
       "      <td>0.934921</td>\n",
       "      <td>1.000000</td>\n",
       "      <td>0.792023</td>\n",
       "      <td>0.810015</td>\n",
       "      <td>0.808575</td>\n",
       "      <td>-0.382227</td>\n",
       "    </tr>\n",
       "    <tr>\n",
       "      <th>SJ</th>\n",
       "      <td>0.859713</td>\n",
       "      <td>0.827758</td>\n",
       "      <td>0.792023</td>\n",
       "      <td>1.000000</td>\n",
       "      <td>0.973323</td>\n",
       "      <td>0.959819</td>\n",
       "      <td>-0.717757</td>\n",
       "    </tr>\n",
       "    <tr>\n",
       "      <th>SM</th>\n",
       "      <td>0.864746</td>\n",
       "      <td>0.836155</td>\n",
       "      <td>0.810015</td>\n",
       "      <td>0.973323</td>\n",
       "      <td>1.000000</td>\n",
       "      <td>0.980904</td>\n",
       "      <td>-0.621335</td>\n",
       "    </tr>\n",
       "    <tr>\n",
       "      <th>SQ</th>\n",
       "      <td>0.853077</td>\n",
       "      <td>0.831859</td>\n",
       "      <td>0.808575</td>\n",
       "      <td>0.959819</td>\n",
       "      <td>0.980904</td>\n",
       "      <td>1.000000</td>\n",
       "      <td>-0.552559</td>\n",
       "    </tr>\n",
       "    <tr>\n",
       "      <th>QMJ</th>\n",
       "      <td>-0.665813</td>\n",
       "      <td>-0.546959</td>\n",
       "      <td>-0.382227</td>\n",
       "      <td>-0.717757</td>\n",
       "      <td>-0.621335</td>\n",
       "      <td>-0.552559</td>\n",
       "      <td>1.000000</td>\n",
       "    </tr>\n",
       "  </tbody>\n",
       "</table>\n",
       "</div>"
      ],
      "text/plain": [
       "           BJ        BM        BQ        SJ        SM        SQ       QMJ\n",
       "BJ   1.000000  0.953599  0.911225  0.859713  0.864746  0.853077 -0.665813\n",
       "BM   0.953599  1.000000  0.934921  0.827758  0.836155  0.831859 -0.546959\n",
       "BQ   0.911225  0.934921  1.000000  0.792023  0.810015  0.808575 -0.382227\n",
       "SJ   0.859713  0.827758  0.792023  1.000000  0.973323  0.959819 -0.717757\n",
       "SM   0.864746  0.836155  0.810015  0.973323  1.000000  0.980904 -0.621335\n",
       "SQ   0.853077  0.831859  0.808575  0.959819  0.980904  1.000000 -0.552559\n",
       "QMJ -0.665813 -0.546959 -0.382227 -0.717757 -0.621335 -0.552559  1.000000"
      ]
     },
     "execution_count": 45,
     "metadata": {},
     "output_type": "execute_result"
    }
   ],
   "source": [
    "qmj_factors[['BJ', 'BM', 'BQ', 'SJ', 'SM', 'SQ', 'QMJ']].corr()"
   ]
  },
  {
   "cell_type": "markdown",
   "metadata": {
    "run_control": {
     "marked": true
    }
   },
   "source": [
    "**Robustness Check**\n",
    "\n",
    "I do a simple robustness check by running the following regression:\n",
    "\n",
    "$$QMJ_{t} = \\alpha + \\gamma_{mkt}MKT_t{t} + \\gamma_{smb}SMB_t{t} + \\gamma_{hml}HML_t{t} + \\gamma_{cma}CMA_t{t} + \\gamma_{rmw}RMW_t{t} + \\gamma_{umd}UMD_t{t} + \\epsilon_{t}$$\n",
    "\n",
    "As evidenced in the original paper, our QMJ factor also has large positive loading on the RMW factor, as well as negative loadings on market, size and value. The alpha is also significant at 5% level."
   ]
  },
  {
   "cell_type": "code",
   "execution_count": 46,
   "metadata": {
    "ExecuteTime": {
     "end_time": "2021-03-14T20:46:19.298487Z",
     "start_time": "2021-03-14T20:46:18.997039Z"
    }
   },
   "outputs": [],
   "source": [
    "ff_factors = data.DataReader('F-F_Research_Data_5_Factors_2x3', 'famafrench', '1920-01-01')[0]/100\n",
    "mom_factor = data.DataReader('F-F_Momentum_Factor', 'famafrench', '1920-01-01')[0]/100\n",
    "ff_factors.drop(columns='RF', inplace=True)\n",
    "ff_factors.index =  pd.to_datetime(ff_factors.index.astype(str)) + MonthEnd(0)\n",
    "mom_factor.index =  pd.to_datetime(mom_factor.index.astype(str)) + MonthEnd(0)\n",
    "ff_factors = pd.concat([ff_factors, mom_factor], axis=1)"
   ]
  },
  {
   "cell_type": "code",
   "execution_count": 47,
   "metadata": {
    "ExecuteTime": {
     "end_time": "2021-03-14T20:46:19.982055Z",
     "start_time": "2021-03-14T20:46:19.937175Z"
    }
   },
   "outputs": [
    {
     "data": {
      "text/html": [
       "<table class=\"simpletable\">\n",
       "<caption>OLS Regression Results</caption>\n",
       "<tr>\n",
       "  <th>Dep. Variable:</th>           <td>QMJ</td>       <th>  R-squared:         </th> <td>   0.636</td> \n",
       "</tr>\n",
       "<tr>\n",
       "  <th>Model:</th>                   <td>OLS</td>       <th>  Adj. R-squared:    </th> <td>   0.632</td> \n",
       "</tr>\n",
       "<tr>\n",
       "  <th>Method:</th>             <td>Least Squares</td>  <th>  F-statistic:       </th> <td>   184.8</td> \n",
       "</tr>\n",
       "<tr>\n",
       "  <th>Date:</th>             <td>Sun, 14 Mar 2021</td> <th>  Prob (F-statistic):</th> <td>1.06e-135</td>\n",
       "</tr>\n",
       "<tr>\n",
       "  <th>Time:</th>                 <td>16:46:19</td>     <th>  Log-Likelihood:    </th> <td>  2005.7</td> \n",
       "</tr>\n",
       "<tr>\n",
       "  <th>No. Observations:</th>      <td>   642</td>      <th>  AIC:               </th> <td>  -3997.</td> \n",
       "</tr>\n",
       "<tr>\n",
       "  <th>Df Residuals:</th>          <td>   635</td>      <th>  BIC:               </th> <td>  -3966.</td> \n",
       "</tr>\n",
       "<tr>\n",
       "  <th>Df Model:</th>              <td>     6</td>      <th>                     </th>     <td> </td>    \n",
       "</tr>\n",
       "<tr>\n",
       "  <th>Covariance Type:</th>      <td>nonrobust</td>    <th>                     </th>     <td> </td>    \n",
       "</tr>\n",
       "</table>\n",
       "<table class=\"simpletable\">\n",
       "<tr>\n",
       "     <td></td>       <th>coef</th>     <th>std err</th>      <th>t</th>      <th>P>|t|</th>  <th>[0.025</th>    <th>0.975]</th>  \n",
       "</tr>\n",
       "<tr>\n",
       "  <th>const</th>  <td>    0.0032</td> <td>    0.000</td> <td>    7.093</td> <td> 0.000</td> <td>    0.002</td> <td>    0.004</td>\n",
       "</tr>\n",
       "<tr>\n",
       "  <th>Mkt-RF</th> <td>   -0.1688</td> <td>    0.011</td> <td>  -15.351</td> <td> 0.000</td> <td>   -0.190</td> <td>   -0.147</td>\n",
       "</tr>\n",
       "<tr>\n",
       "  <th>SMB</th>    <td>   -0.0586</td> <td>    0.015</td> <td>   -3.844</td> <td> 0.000</td> <td>   -0.089</td> <td>   -0.029</td>\n",
       "</tr>\n",
       "<tr>\n",
       "  <th>HML</th>    <td>   -0.2105</td> <td>    0.022</td> <td>   -9.664</td> <td> 0.000</td> <td>   -0.253</td> <td>   -0.168</td>\n",
       "</tr>\n",
       "<tr>\n",
       "  <th>RMW</th>    <td>    0.3350</td> <td>    0.021</td> <td>   15.847</td> <td> 0.000</td> <td>    0.293</td> <td>    0.376</td>\n",
       "</tr>\n",
       "<tr>\n",
       "  <th>CMA</th>    <td>    0.1573</td> <td>    0.031</td> <td>    4.998</td> <td> 0.000</td> <td>    0.096</td> <td>    0.219</td>\n",
       "</tr>\n",
       "<tr>\n",
       "  <th>Mom   </th> <td>    0.0896</td> <td>    0.010</td> <td>    8.548</td> <td> 0.000</td> <td>    0.069</td> <td>    0.110</td>\n",
       "</tr>\n",
       "</table>\n",
       "<table class=\"simpletable\">\n",
       "<tr>\n",
       "  <th>Omnibus:</th>       <td>12.834</td> <th>  Durbin-Watson:     </th> <td>   1.810</td>\n",
       "</tr>\n",
       "<tr>\n",
       "  <th>Prob(Omnibus):</th> <td> 0.002</td> <th>  Jarque-Bera (JB):  </th> <td>  21.855</td>\n",
       "</tr>\n",
       "<tr>\n",
       "  <th>Skew:</th>          <td> 0.091</td> <th>  Prob(JB):          </th> <td>1.80e-05</td>\n",
       "</tr>\n",
       "<tr>\n",
       "  <th>Kurtosis:</th>      <td> 3.886</td> <th>  Cond. No.          </th> <td>    85.6</td>\n",
       "</tr>\n",
       "</table><br/><br/>Warnings:<br/>[1] Standard Errors assume that the covariance matrix of the errors is correctly specified."
      ],
      "text/plain": [
       "<class 'statsmodels.iolib.summary.Summary'>\n",
       "\"\"\"\n",
       "                            OLS Regression Results                            \n",
       "==============================================================================\n",
       "Dep. Variable:                    QMJ   R-squared:                       0.636\n",
       "Model:                            OLS   Adj. R-squared:                  0.632\n",
       "Method:                 Least Squares   F-statistic:                     184.8\n",
       "Date:                Sun, 14 Mar 2021   Prob (F-statistic):          1.06e-135\n",
       "Time:                        16:46:19   Log-Likelihood:                 2005.7\n",
       "No. Observations:                 642   AIC:                            -3997.\n",
       "Df Residuals:                     635   BIC:                            -3966.\n",
       "Df Model:                           6                                         \n",
       "Covariance Type:            nonrobust                                         \n",
       "==============================================================================\n",
       "                 coef    std err          t      P>|t|      [0.025      0.975]\n",
       "------------------------------------------------------------------------------\n",
       "const          0.0032      0.000      7.093      0.000       0.002       0.004\n",
       "Mkt-RF        -0.1688      0.011    -15.351      0.000      -0.190      -0.147\n",
       "SMB           -0.0586      0.015     -3.844      0.000      -0.089      -0.029\n",
       "HML           -0.2105      0.022     -9.664      0.000      -0.253      -0.168\n",
       "RMW            0.3350      0.021     15.847      0.000       0.293       0.376\n",
       "CMA            0.1573      0.031      4.998      0.000       0.096       0.219\n",
       "Mom            0.0896      0.010      8.548      0.000       0.069       0.110\n",
       "==============================================================================\n",
       "Omnibus:                       12.834   Durbin-Watson:                   1.810\n",
       "Prob(Omnibus):                  0.002   Jarque-Bera (JB):               21.855\n",
       "Skew:                           0.091   Prob(JB):                     1.80e-05\n",
       "Kurtosis:                       3.886   Cond. No.                         85.6\n",
       "==============================================================================\n",
       "\n",
       "Warnings:\n",
       "[1] Standard Errors assume that the covariance matrix of the errors is correctly specified.\n",
       "\"\"\""
      ]
     },
     "execution_count": 47,
     "metadata": {},
     "output_type": "execute_result"
    }
   ],
   "source": [
    "model = sm.OLS(qmj_factors.loc['1963/07':'2016/12','QMJ'], \n",
    "               sm.add_constant(ff_factors.loc['1963/07':'2016/12',:]), \n",
    "               missing='drop').fit()\n",
    "model.summary()"
   ]
  },
  {
   "cell_type": "code",
   "execution_count": 49,
   "metadata": {
    "ExecuteTime": {
     "end_time": "2021-03-14T20:46:40.232832Z",
     "start_time": "2021-03-14T20:46:40.188958Z"
    }
   },
   "outputs": [],
   "source": [
    "qmj_factors.loc['1957/07':,['SJ', 'SM', 'SQ', 'BJ', 'BM', 'BQ', 'QMJ']].to_clipboard()"
   ]
  }
 ],
 "metadata": {
  "kernelspec": {
   "display_name": "Python 3",
   "language": "python",
   "name": "python3"
  },
  "language_info": {
   "codemirror_mode": {
    "name": "ipython",
    "version": 3
   },
   "file_extension": ".py",
   "mimetype": "text/x-python",
   "name": "python",
   "nbconvert_exporter": "python",
   "pygments_lexer": "ipython3",
   "version": "3.7.6"
  },
  "latex_envs": {
   "LaTeX_envs_menu_present": true,
   "autoclose": false,
   "autocomplete": true,
   "bibliofile": "biblio.bib",
   "cite_by": "apalike",
   "current_citInitial": 1,
   "eqLabelWithNumbers": true,
   "eqNumInitial": 1,
   "hotkeys": {
    "equation": "Ctrl-E",
    "itemize": "Ctrl-I"
   },
   "labels_anchors": false,
   "latex_user_defs": false,
   "report_style_numbering": false,
   "user_envs_cfg": false
  }
 },
 "nbformat": 4,
 "nbformat_minor": 4
}
